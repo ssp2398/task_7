{
  "nbformat": 4,
  "nbformat_minor": 0,
  "metadata": {
    "colab": {
      "provenance": []
    },
    "kernelspec": {
      "name": "python3",
      "display_name": "Python 3"
    },
    "language_info": {
      "name": "python"
    }
  },
  "cells": [
    {
      "cell_type": "code",
      "metadata": {
        "id": "eqp7Q6rWnX20"
      },
      "source": [
        "#Social_Network_Ads.csv"
      ],
      "execution_count": 1,
      "outputs": []
    },
    {
      "cell_type": "markdown",
      "metadata": {
        "id": "1jSlqZcZnmrD"
      },
      "source": [
        "**Importing the libraries**"
      ]
    },
    {
      "cell_type": "code",
      "metadata": {
        "id": "ACJTKMfInp-E"
      },
      "source": [
        "import pandas as pd \n",
        "import numpy as nm  \n",
        "import matplotlib.pyplot as mtp  \n",
        "from sklearn.model_selection import train_test_split\n",
        "from sklearn.preprocessing import StandardScaler\n",
        "from sklearn.metrics import confusion_matrix  "
      ],
      "execution_count": 2,
      "outputs": []
    },
    {
      "cell_type": "markdown",
      "metadata": {
        "id": "fRZkaj-dnxIj"
      },
      "source": [
        "**Importing the dataset**"
      ]
    },
    {
      "cell_type": "code",
      "metadata": {
        "id": "SfTR4mVDnqBV",
        "colab": {
          "base_uri": "https://localhost:8080/",
          "height": 206
        },
        "outputId": "bba6a0b4-0042-482d-a96e-df027877ebd4"
      },
      "source": [
        "df=pd.read_csv('Social_Network_Ads.csv')\n",
        "df.head()"
      ],
      "execution_count": 3,
      "outputs": [
        {
          "output_type": "execute_result",
          "data": {
            "text/plain": [
              "    User ID  Gender  Age  EstimatedSalary  Purchased\n",
              "0  15624510    Male   19            19000          0\n",
              "1  15810944    Male   35            20000          0\n",
              "2  15668575  Female   26            43000          0\n",
              "3  15603246  Female   27            57000          0\n",
              "4  15804002    Male   19            76000          0"
            ],
            "text/html": [
              "\n",
              "  <div id=\"df-92d003da-9b69-46e7-b815-c0c535982c86\">\n",
              "    <div class=\"colab-df-container\">\n",
              "      <div>\n",
              "<style scoped>\n",
              "    .dataframe tbody tr th:only-of-type {\n",
              "        vertical-align: middle;\n",
              "    }\n",
              "\n",
              "    .dataframe tbody tr th {\n",
              "        vertical-align: top;\n",
              "    }\n",
              "\n",
              "    .dataframe thead th {\n",
              "        text-align: right;\n",
              "    }\n",
              "</style>\n",
              "<table border=\"1\" class=\"dataframe\">\n",
              "  <thead>\n",
              "    <tr style=\"text-align: right;\">\n",
              "      <th></th>\n",
              "      <th>User ID</th>\n",
              "      <th>Gender</th>\n",
              "      <th>Age</th>\n",
              "      <th>EstimatedSalary</th>\n",
              "      <th>Purchased</th>\n",
              "    </tr>\n",
              "  </thead>\n",
              "  <tbody>\n",
              "    <tr>\n",
              "      <th>0</th>\n",
              "      <td>15624510</td>\n",
              "      <td>Male</td>\n",
              "      <td>19</td>\n",
              "      <td>19000</td>\n",
              "      <td>0</td>\n",
              "    </tr>\n",
              "    <tr>\n",
              "      <th>1</th>\n",
              "      <td>15810944</td>\n",
              "      <td>Male</td>\n",
              "      <td>35</td>\n",
              "      <td>20000</td>\n",
              "      <td>0</td>\n",
              "    </tr>\n",
              "    <tr>\n",
              "      <th>2</th>\n",
              "      <td>15668575</td>\n",
              "      <td>Female</td>\n",
              "      <td>26</td>\n",
              "      <td>43000</td>\n",
              "      <td>0</td>\n",
              "    </tr>\n",
              "    <tr>\n",
              "      <th>3</th>\n",
              "      <td>15603246</td>\n",
              "      <td>Female</td>\n",
              "      <td>27</td>\n",
              "      <td>57000</td>\n",
              "      <td>0</td>\n",
              "    </tr>\n",
              "    <tr>\n",
              "      <th>4</th>\n",
              "      <td>15804002</td>\n",
              "      <td>Male</td>\n",
              "      <td>19</td>\n",
              "      <td>76000</td>\n",
              "      <td>0</td>\n",
              "    </tr>\n",
              "  </tbody>\n",
              "</table>\n",
              "</div>\n",
              "      <button class=\"colab-df-convert\" onclick=\"convertToInteractive('df-92d003da-9b69-46e7-b815-c0c535982c86')\"\n",
              "              title=\"Convert this dataframe to an interactive table.\"\n",
              "              style=\"display:none;\">\n",
              "        \n",
              "  <svg xmlns=\"http://www.w3.org/2000/svg\" height=\"24px\"viewBox=\"0 0 24 24\"\n",
              "       width=\"24px\">\n",
              "    <path d=\"M0 0h24v24H0V0z\" fill=\"none\"/>\n",
              "    <path d=\"M18.56 5.44l.94 2.06.94-2.06 2.06-.94-2.06-.94-.94-2.06-.94 2.06-2.06.94zm-11 1L8.5 8.5l.94-2.06 2.06-.94-2.06-.94L8.5 2.5l-.94 2.06-2.06.94zm10 10l.94 2.06.94-2.06 2.06-.94-2.06-.94-.94-2.06-.94 2.06-2.06.94z\"/><path d=\"M17.41 7.96l-1.37-1.37c-.4-.4-.92-.59-1.43-.59-.52 0-1.04.2-1.43.59L10.3 9.45l-7.72 7.72c-.78.78-.78 2.05 0 2.83L4 21.41c.39.39.9.59 1.41.59.51 0 1.02-.2 1.41-.59l7.78-7.78 2.81-2.81c.8-.78.8-2.07 0-2.86zM5.41 20L4 18.59l7.72-7.72 1.47 1.35L5.41 20z\"/>\n",
              "  </svg>\n",
              "      </button>\n",
              "      \n",
              "  <style>\n",
              "    .colab-df-container {\n",
              "      display:flex;\n",
              "      flex-wrap:wrap;\n",
              "      gap: 12px;\n",
              "    }\n",
              "\n",
              "    .colab-df-convert {\n",
              "      background-color: #E8F0FE;\n",
              "      border: none;\n",
              "      border-radius: 50%;\n",
              "      cursor: pointer;\n",
              "      display: none;\n",
              "      fill: #1967D2;\n",
              "      height: 32px;\n",
              "      padding: 0 0 0 0;\n",
              "      width: 32px;\n",
              "    }\n",
              "\n",
              "    .colab-df-convert:hover {\n",
              "      background-color: #E2EBFA;\n",
              "      box-shadow: 0px 1px 2px rgba(60, 64, 67, 0.3), 0px 1px 3px 1px rgba(60, 64, 67, 0.15);\n",
              "      fill: #174EA6;\n",
              "    }\n",
              "\n",
              "    [theme=dark] .colab-df-convert {\n",
              "      background-color: #3B4455;\n",
              "      fill: #D2E3FC;\n",
              "    }\n",
              "\n",
              "    [theme=dark] .colab-df-convert:hover {\n",
              "      background-color: #434B5C;\n",
              "      box-shadow: 0px 1px 3px 1px rgba(0, 0, 0, 0.15);\n",
              "      filter: drop-shadow(0px 1px 2px rgba(0, 0, 0, 0.3));\n",
              "      fill: #FFFFFF;\n",
              "    }\n",
              "  </style>\n",
              "\n",
              "      <script>\n",
              "        const buttonEl =\n",
              "          document.querySelector('#df-92d003da-9b69-46e7-b815-c0c535982c86 button.colab-df-convert');\n",
              "        buttonEl.style.display =\n",
              "          google.colab.kernel.accessAllowed ? 'block' : 'none';\n",
              "\n",
              "        async function convertToInteractive(key) {\n",
              "          const element = document.querySelector('#df-92d003da-9b69-46e7-b815-c0c535982c86');\n",
              "          const dataTable =\n",
              "            await google.colab.kernel.invokeFunction('convertToInteractive',\n",
              "                                                     [key], {});\n",
              "          if (!dataTable) return;\n",
              "\n",
              "          const docLinkHtml = 'Like what you see? Visit the ' +\n",
              "            '<a target=\"_blank\" href=https://colab.research.google.com/notebooks/data_table.ipynb>data table notebook</a>'\n",
              "            + ' to learn more about interactive tables.';\n",
              "          element.innerHTML = '';\n",
              "          dataTable['output_type'] = 'display_data';\n",
              "          await google.colab.output.renderOutput(dataTable, element);\n",
              "          const docLink = document.createElement('div');\n",
              "          docLink.innerHTML = docLinkHtml;\n",
              "          element.appendChild(docLink);\n",
              "        }\n",
              "      </script>\n",
              "    </div>\n",
              "  </div>\n",
              "  "
            ]
          },
          "metadata": {},
          "execution_count": 3
        }
      ]
    },
    {
      "cell_type": "code",
      "source": [
        "df1=df.drop(['User ID','Gender'],axis=1)\n",
        "df1"
      ],
      "metadata": {
        "colab": {
          "base_uri": "https://localhost:8080/",
          "height": 424
        },
        "id": "4ygpht_i9bNH",
        "outputId": "9fa392f5-2ac1-4392-b924-d89216918be0"
      },
      "execution_count": 4,
      "outputs": [
        {
          "output_type": "execute_result",
          "data": {
            "text/plain": [
              "     Age  EstimatedSalary  Purchased\n",
              "0     19            19000          0\n",
              "1     35            20000          0\n",
              "2     26            43000          0\n",
              "3     27            57000          0\n",
              "4     19            76000          0\n",
              "..   ...              ...        ...\n",
              "395   46            41000          1\n",
              "396   51            23000          1\n",
              "397   50            20000          1\n",
              "398   36            33000          0\n",
              "399   49            36000          1\n",
              "\n",
              "[400 rows x 3 columns]"
            ],
            "text/html": [
              "\n",
              "  <div id=\"df-aae50a28-3cc2-46c0-8937-6d71506eb9f1\">\n",
              "    <div class=\"colab-df-container\">\n",
              "      <div>\n",
              "<style scoped>\n",
              "    .dataframe tbody tr th:only-of-type {\n",
              "        vertical-align: middle;\n",
              "    }\n",
              "\n",
              "    .dataframe tbody tr th {\n",
              "        vertical-align: top;\n",
              "    }\n",
              "\n",
              "    .dataframe thead th {\n",
              "        text-align: right;\n",
              "    }\n",
              "</style>\n",
              "<table border=\"1\" class=\"dataframe\">\n",
              "  <thead>\n",
              "    <tr style=\"text-align: right;\">\n",
              "      <th></th>\n",
              "      <th>Age</th>\n",
              "      <th>EstimatedSalary</th>\n",
              "      <th>Purchased</th>\n",
              "    </tr>\n",
              "  </thead>\n",
              "  <tbody>\n",
              "    <tr>\n",
              "      <th>0</th>\n",
              "      <td>19</td>\n",
              "      <td>19000</td>\n",
              "      <td>0</td>\n",
              "    </tr>\n",
              "    <tr>\n",
              "      <th>1</th>\n",
              "      <td>35</td>\n",
              "      <td>20000</td>\n",
              "      <td>0</td>\n",
              "    </tr>\n",
              "    <tr>\n",
              "      <th>2</th>\n",
              "      <td>26</td>\n",
              "      <td>43000</td>\n",
              "      <td>0</td>\n",
              "    </tr>\n",
              "    <tr>\n",
              "      <th>3</th>\n",
              "      <td>27</td>\n",
              "      <td>57000</td>\n",
              "      <td>0</td>\n",
              "    </tr>\n",
              "    <tr>\n",
              "      <th>4</th>\n",
              "      <td>19</td>\n",
              "      <td>76000</td>\n",
              "      <td>0</td>\n",
              "    </tr>\n",
              "    <tr>\n",
              "      <th>...</th>\n",
              "      <td>...</td>\n",
              "      <td>...</td>\n",
              "      <td>...</td>\n",
              "    </tr>\n",
              "    <tr>\n",
              "      <th>395</th>\n",
              "      <td>46</td>\n",
              "      <td>41000</td>\n",
              "      <td>1</td>\n",
              "    </tr>\n",
              "    <tr>\n",
              "      <th>396</th>\n",
              "      <td>51</td>\n",
              "      <td>23000</td>\n",
              "      <td>1</td>\n",
              "    </tr>\n",
              "    <tr>\n",
              "      <th>397</th>\n",
              "      <td>50</td>\n",
              "      <td>20000</td>\n",
              "      <td>1</td>\n",
              "    </tr>\n",
              "    <tr>\n",
              "      <th>398</th>\n",
              "      <td>36</td>\n",
              "      <td>33000</td>\n",
              "      <td>0</td>\n",
              "    </tr>\n",
              "    <tr>\n",
              "      <th>399</th>\n",
              "      <td>49</td>\n",
              "      <td>36000</td>\n",
              "      <td>1</td>\n",
              "    </tr>\n",
              "  </tbody>\n",
              "</table>\n",
              "<p>400 rows × 3 columns</p>\n",
              "</div>\n",
              "      <button class=\"colab-df-convert\" onclick=\"convertToInteractive('df-aae50a28-3cc2-46c0-8937-6d71506eb9f1')\"\n",
              "              title=\"Convert this dataframe to an interactive table.\"\n",
              "              style=\"display:none;\">\n",
              "        \n",
              "  <svg xmlns=\"http://www.w3.org/2000/svg\" height=\"24px\"viewBox=\"0 0 24 24\"\n",
              "       width=\"24px\">\n",
              "    <path d=\"M0 0h24v24H0V0z\" fill=\"none\"/>\n",
              "    <path d=\"M18.56 5.44l.94 2.06.94-2.06 2.06-.94-2.06-.94-.94-2.06-.94 2.06-2.06.94zm-11 1L8.5 8.5l.94-2.06 2.06-.94-2.06-.94L8.5 2.5l-.94 2.06-2.06.94zm10 10l.94 2.06.94-2.06 2.06-.94-2.06-.94-.94-2.06-.94 2.06-2.06.94z\"/><path d=\"M17.41 7.96l-1.37-1.37c-.4-.4-.92-.59-1.43-.59-.52 0-1.04.2-1.43.59L10.3 9.45l-7.72 7.72c-.78.78-.78 2.05 0 2.83L4 21.41c.39.39.9.59 1.41.59.51 0 1.02-.2 1.41-.59l7.78-7.78 2.81-2.81c.8-.78.8-2.07 0-2.86zM5.41 20L4 18.59l7.72-7.72 1.47 1.35L5.41 20z\"/>\n",
              "  </svg>\n",
              "      </button>\n",
              "      \n",
              "  <style>\n",
              "    .colab-df-container {\n",
              "      display:flex;\n",
              "      flex-wrap:wrap;\n",
              "      gap: 12px;\n",
              "    }\n",
              "\n",
              "    .colab-df-convert {\n",
              "      background-color: #E8F0FE;\n",
              "      border: none;\n",
              "      border-radius: 50%;\n",
              "      cursor: pointer;\n",
              "      display: none;\n",
              "      fill: #1967D2;\n",
              "      height: 32px;\n",
              "      padding: 0 0 0 0;\n",
              "      width: 32px;\n",
              "    }\n",
              "\n",
              "    .colab-df-convert:hover {\n",
              "      background-color: #E2EBFA;\n",
              "      box-shadow: 0px 1px 2px rgba(60, 64, 67, 0.3), 0px 1px 3px 1px rgba(60, 64, 67, 0.15);\n",
              "      fill: #174EA6;\n",
              "    }\n",
              "\n",
              "    [theme=dark] .colab-df-convert {\n",
              "      background-color: #3B4455;\n",
              "      fill: #D2E3FC;\n",
              "    }\n",
              "\n",
              "    [theme=dark] .colab-df-convert:hover {\n",
              "      background-color: #434B5C;\n",
              "      box-shadow: 0px 1px 3px 1px rgba(0, 0, 0, 0.15);\n",
              "      filter: drop-shadow(0px 1px 2px rgba(0, 0, 0, 0.3));\n",
              "      fill: #FFFFFF;\n",
              "    }\n",
              "  </style>\n",
              "\n",
              "      <script>\n",
              "        const buttonEl =\n",
              "          document.querySelector('#df-aae50a28-3cc2-46c0-8937-6d71506eb9f1 button.colab-df-convert');\n",
              "        buttonEl.style.display =\n",
              "          google.colab.kernel.accessAllowed ? 'block' : 'none';\n",
              "\n",
              "        async function convertToInteractive(key) {\n",
              "          const element = document.querySelector('#df-aae50a28-3cc2-46c0-8937-6d71506eb9f1');\n",
              "          const dataTable =\n",
              "            await google.colab.kernel.invokeFunction('convertToInteractive',\n",
              "                                                     [key], {});\n",
              "          if (!dataTable) return;\n",
              "\n",
              "          const docLinkHtml = 'Like what you see? Visit the ' +\n",
              "            '<a target=\"_blank\" href=https://colab.research.google.com/notebooks/data_table.ipynb>data table notebook</a>'\n",
              "            + ' to learn more about interactive tables.';\n",
              "          element.innerHTML = '';\n",
              "          dataTable['output_type'] = 'display_data';\n",
              "          await google.colab.output.renderOutput(dataTable, element);\n",
              "          const docLink = document.createElement('div');\n",
              "          docLink.innerHTML = docLinkHtml;\n",
              "          element.appendChild(docLink);\n",
              "        }\n",
              "      </script>\n",
              "    </div>\n",
              "  </div>\n",
              "  "
            ]
          },
          "metadata": {},
          "execution_count": 4
        }
      ]
    },
    {
      "cell_type": "markdown",
      "metadata": {
        "id": "9Thl3lvkn9Kr"
      },
      "source": [
        "**Splitting the dataset into the Training set and Test set**"
      ]
    },
    {
      "cell_type": "code",
      "metadata": {
        "id": "sp359H4XnqD3"
      },
      "source": [
        "x=df1[['Age','EstimatedSalary']].values\n",
        "y=df1['Purchased'].values\n",
        "\n",
        "x_train,x_test,y_train,y_test=train_test_split(x,y,test_size=0.3)"
      ],
      "execution_count": 5,
      "outputs": []
    },
    {
      "cell_type": "markdown",
      "metadata": {
        "id": "XNNxUncRoG6K"
      },
      "source": [
        "**Feature Scaling**"
      ]
    },
    {
      "cell_type": "code",
      "metadata": {
        "id": "loYjT47TnqIG",
        "colab": {
          "base_uri": "https://localhost:8080/"
        },
        "outputId": "d43199d2-464e-4272-a334-c0ce4c807ee2"
      },
      "source": [
        "scaling=StandardScaler()\n",
        "scaling.fit_transform(x_train,x_test)"
      ],
      "execution_count": 6,
      "outputs": [
        {
          "output_type": "execute_result",
          "data": {
            "text/plain": [
              "array([[ 0.42875481,  0.11954255],\n",
              "       [ 1.60094047,  1.03375338],\n",
              "       [-0.45038443, -1.20753769],\n",
              "       [-1.42720581, -0.61772425],\n",
              "       [-1.62257008, -1.56142576],\n",
              "       [ 0.9171655 ,  1.29916942],\n",
              "       [-0.93879512,  0.47343061],\n",
              "       [ 0.03802626, -0.55874291],\n",
              "       [-0.05965588,  0.26699591],\n",
              "       [-0.15733802,  1.44662278],\n",
              "       [-0.25502015, -1.29600971],\n",
              "       [ 0.23339054,  1.12222539],\n",
              "       [ 0.1357084 , -0.29332686],\n",
              "       [ 2.1870333 ,  1.15171606],\n",
              "       [ 0.03802626,  1.29916942],\n",
              "       [ 0.33107267, -0.26383619],\n",
              "       [ 1.99166902, -1.35499105],\n",
              "       [-0.15733802,  0.17852389],\n",
              "       [-0.25502015,  0.23750523],\n",
              "       [-1.81793436, -1.47295374],\n",
              "       [ 2.1870333 , -1.03059366],\n",
              "       [-1.32952367, -1.35499105],\n",
              "       [-0.15733802,  1.65305749],\n",
              "       [ 1.40557619,  2.03643622],\n",
              "       [ 0.81948336,  1.41713211],\n",
              "       [ 0.9171655 ,  1.12222539],\n",
              "       [-1.32952367,  0.44393994],\n",
              "       [-1.1341594 , -1.56142576],\n",
              "       [-1.1341594 ,  0.32597725],\n",
              "       [-0.05965588,  2.00694555],\n",
              "       [ 0.1357084 ,  0.23750523],\n",
              "       [-1.62257008, -0.02791081],\n",
              "       [-1.81793436, -1.29600971],\n",
              "       [-0.25502015,  0.82731867],\n",
              "       [ 1.21021192,  0.56190262],\n",
              "       [-0.25502015,  0.17852389],\n",
              "       [-0.15733802, -0.55874291],\n",
              "       [ 0.33107267, -0.52925224],\n",
              "       [-0.05965588, -1.06008433],\n",
              "       [ 1.40557619,  0.62088397],\n",
              "       [-1.9156165 , -0.49976157],\n",
              "       [-0.25502015, -0.29332686],\n",
              "       [ 1.89398688,  0.14903322],\n",
              "       [-0.25502015, -0.91263097],\n",
              "       [-1.81793436,  0.20801456],\n",
              "       [ 1.69862261, -0.8831403 ],\n",
              "       [-1.32952367, -1.08957501],\n",
              "       [ 0.81948336,  0.29648658],\n",
              "       [-0.84111298, -0.76517761],\n",
              "       [ 2.08935116,  0.20801456],\n",
              "       [ 0.23339054, -0.29332686],\n",
              "       [-0.25502015, -0.32281753],\n",
              "       [-1.32952367,  0.5913933 ],\n",
              "       [ 0.23339054, -0.26383619],\n",
              "       [-0.25502015, -0.47027089],\n",
              "       [-0.74343084, -0.58823358],\n",
              "       [-0.05965588, -0.41128955],\n",
              "       [-0.25502015, -0.11638283],\n",
              "       [ 0.1357084 ,  1.56458547],\n",
              "       [ 1.60094047, -1.26651904],\n",
              "       [ 2.08935116, -1.17804702],\n",
              "       [-1.32952367, -0.32281753],\n",
              "       [-1.23184153, -1.38448173],\n",
              "       [ 0.33107267, -1.14855635],\n",
              "       [ 0.23339054, -0.35230821],\n",
              "       [ 0.33107267,  0.53241195],\n",
              "       [ 0.72180123, -1.08957501],\n",
              "       [-0.15733802, -0.26383619],\n",
              "       [-1.72025222,  0.50292128],\n",
              "       [ 2.1870333 , -0.79466829],\n",
              "       [-1.1341594 ,  0.50292128],\n",
              "       [-0.54806657, -1.50244441],\n",
              "       [-0.25502015,  0.0605612 ],\n",
              "       [-1.03647726,  0.62088397],\n",
              "       [-0.64574871,  0.20801456],\n",
              "       [ 1.50325833,  0.09005187],\n",
              "       [ 0.9171655 , -1.14855635],\n",
              "       [-0.25502015, -0.55874291],\n",
              "       [-0.05965588,  0.29648658],\n",
              "       [-0.25502015, -1.38448173],\n",
              "       [ 1.11252978,  0.14903322],\n",
              "       [-1.1341594 , -1.53193509],\n",
              "       [ 1.01484764, -1.14855635],\n",
              "       [ 0.33107267, -0.29332686],\n",
              "       [-0.93879512, -0.41128955],\n",
              "       [-0.74343084, -1.53193509],\n",
              "       [ 0.62411909, -0.8831403 ],\n",
              "       [ 1.11252978,  0.56190262],\n",
              "       [ 0.23339054,  2.15439891],\n",
              "       [-0.45038443,  2.36083362],\n",
              "       [-0.25502015,  0.17852389],\n",
              "       [ 0.42875481, -0.44078022],\n",
              "       [ 0.9171655 , -0.55874291],\n",
              "       [-1.81793436, -1.26651904],\n",
              "       [ 0.81948336, -0.29332686],\n",
              "       [ 0.42875481,  2.36083362],\n",
              "       [ 0.33107267,  0.09005187],\n",
              "       [ 0.52643695,  1.26967875],\n",
              "       [-0.35270229, -1.29600971],\n",
              "       [ 0.42875481,  1.03375338],\n",
              "       [-1.1341594 , -1.59091643],\n",
              "       [-0.84111298, -1.20753769],\n",
              "       [-1.81793436,  0.47343061],\n",
              "       [ 0.23339054, -0.23434552],\n",
              "       [-0.74343084,  1.12222539],\n",
              "       [-1.52488795, -0.41128955],\n",
              "       [-0.74343084,  1.94796421],\n",
              "       [ 0.42875481,  0.32597725],\n",
              "       [-0.64574871,  0.0605612 ],\n",
              "       [ 0.03802626,  0.0605612 ],\n",
              "       [-0.84111298, -0.76517761],\n",
              "       [ 0.9171655 , -1.44346307],\n",
              "       [-1.23184153,  0.62088397],\n",
              "       [ 1.01484764, -1.00110299],\n",
              "       [-1.32952367, -1.23702837],\n",
              "       [ 1.89398688, -1.06008433],\n",
              "       [ 0.72180123, -0.70619627],\n",
              "       [ 0.81948336, -1.38448173],\n",
              "       [-0.74343084,  0.5913933 ],\n",
              "       [ 1.69862261,  1.65305749],\n",
              "       [ 0.81948336, -1.20753769],\n",
              "       [ 0.72180123,  1.83000152],\n",
              "       [ 2.08935116, -0.79466829],\n",
              "       [-1.72025222,  0.38495859],\n",
              "       [-1.52488795,  0.35546792],\n",
              "       [-1.9156165 , -0.73568694],\n",
              "       [-0.15733802, -0.44078022],\n",
              "       [ 0.33107267, -0.70619627],\n",
              "       [-0.35270229, -0.76517761],\n",
              "       [ 0.81948336, -0.82415896],\n",
              "       [-0.54806657,  1.41713211],\n",
              "       [ 0.9171655 , -0.52925224],\n",
              "       [-0.25502015, -0.41128955],\n",
              "       [-1.9156165 , -0.02791081],\n",
              "       [ 1.50325833,  0.38495859],\n",
              "       [ 0.33107267, -0.17536417],\n",
              "       [-1.42720581, -0.17536417],\n",
              "       [-1.03647726, -0.44078022],\n",
              "       [ 0.03802626,  1.26967875],\n",
              "       [-0.64574871, -0.02791081],\n",
              "       [-0.25502015, -1.23702837],\n",
              "       [-0.25502015,  1.15171606],\n",
              "       [ 0.1357084 ,  1.91847354],\n",
              "       [-1.1341594 , -1.59091643],\n",
              "       [ 2.08935116,  1.80051085],\n",
              "       [ 0.33107267,  0.32597725],\n",
              "       [ 0.33107267, -0.49976157],\n",
              "       [-1.03647726, -1.44346307],\n",
              "       [-1.03647726,  0.56190262],\n",
              "       [ 1.11252978, -0.8831403 ],\n",
              "       [ 1.21021192, -0.97161232],\n",
              "       [-0.05965588,  0.17852389],\n",
              "       [ 0.1357084 , -0.79466829],\n",
              "       [ 0.42875481,  0.29648658],\n",
              "       [-1.62257008,  0.56190262],\n",
              "       [-0.54806657,  0.50292128],\n",
              "       [-0.05965588,  0.23750523],\n",
              "       [-0.05965588, -0.20485485],\n",
              "       [ 0.1357084 ,  1.09273472],\n",
              "       [ 0.23339054,  0.0605612 ],\n",
              "       [-0.64574871,  1.44662278],\n",
              "       [-0.15733802,  0.88630002],\n",
              "       [ 0.23339054, -0.35230821],\n",
              "       [ 0.81948336,  0.14903322],\n",
              "       [ 1.11252978, -0.97161232],\n",
              "       [-1.32952367, -0.41128955],\n",
              "       [-0.45038443,  1.29916942],\n",
              "       [-1.72025222, -1.35499105],\n",
              "       [-0.74343084,  0.53241195],\n",
              "       [-0.93879512, -0.73568694],\n",
              "       [ 2.08935116,  2.18388958],\n",
              "       [ 0.81948336,  0.56190262],\n",
              "       [-1.1341594 , -0.49976157],\n",
              "       [ 0.9171655 ,  2.21338026],\n",
              "       [-1.32952367, -1.47295374],\n",
              "       [-0.25502015,  0.29648658],\n",
              "       [ 0.9171655 , -1.03059366],\n",
              "       [-0.74343084, -1.59091643],\n",
              "       [-0.93879512,  0.44393994],\n",
              "       [ 1.40557619,  2.39032429],\n",
              "       [ 0.23339054, -0.11638283],\n",
              "       [ 0.1357084 ,  0.0605612 ],\n",
              "       [-0.05965588,  0.32597725],\n",
              "       [ 0.9171655 , -1.35499105],\n",
              "       [-0.64574871,  0.14903322],\n",
              "       [-0.25502015,  2.30185227],\n",
              "       [ 0.03802626, -0.55874291],\n",
              "       [ 1.99166902,  0.94528136],\n",
              "       [-0.64574871,  0.5913933 ],\n",
              "       [ 0.42875481,  0.32597725],\n",
              "       [-0.74343084, -0.20485485],\n",
              "       [-1.1341594 ,  0.09005187],\n",
              "       [-0.45038443, -0.82415896],\n",
              "       [ 1.11252978,  2.12490824],\n",
              "       [-0.84111298,  0.41444927],\n",
              "       [-0.05965588, -0.35230821],\n",
              "       [-1.03647726, -0.32281753],\n",
              "       [ 0.03802626, -0.52925224],\n",
              "       [ 0.72180123, -1.38448173],\n",
              "       [ 0.42875481,  0.17852389],\n",
              "       [-0.84111298,  0.41444927],\n",
              "       [-0.84111298,  0.32597725],\n",
              "       [-0.15733802,  2.21338026],\n",
              "       [-0.84111298, -0.23434552],\n",
              "       [-1.9156165 ,  0.50292128],\n",
              "       [ 1.01484764, -1.17804702],\n",
              "       [ 2.1870333 , -0.79466829],\n",
              "       [-0.15733802,  1.68254816],\n",
              "       [ 1.89398688, -0.26383619],\n",
              "       [ 0.62411909,  2.0659269 ],\n",
              "       [-0.35270229,  1.26967875],\n",
              "       [-0.64574871, -0.08689216],\n",
              "       [ 1.99166902,  2.21338026],\n",
              "       [ 0.23339054,  0.17852389],\n",
              "       [-1.03647726,  0.797828  ],\n",
              "       [-0.54806657,  1.50560413],\n",
              "       [ 0.9171655 , -0.64721493],\n",
              "       [-0.25502015, -1.35499105],\n",
              "       [-0.05965588,  0.32597725],\n",
              "       [ 1.30789405, -1.35499105],\n",
              "       [ 1.01484764, -0.82415896],\n",
              "       [-0.35270229,  0.09005187],\n",
              "       [ 0.81948336, -1.35499105],\n",
              "       [-0.74343084,  0.29648658],\n",
              "       [ 0.42875481, -0.11638283],\n",
              "       [-0.25502015, -0.73568694],\n",
              "       [ 1.40557619, -0.91263097],\n",
              "       [-0.64574871, -1.50244441],\n",
              "       [ 0.03802626,  0.32597725],\n",
              "       [ 1.01484764,  1.83000152],\n",
              "       [ 0.03802626, -0.11638283],\n",
              "       [ 1.50325833,  1.03375338],\n",
              "       [-0.35270229,  1.35815077],\n",
              "       [-1.1341594 , -0.76517761],\n",
              "       [ 0.23339054, -0.64721493],\n",
              "       [ 0.33107267,  0.29648658],\n",
              "       [ 0.81948336, -1.08957501],\n",
              "       [-0.25502015, -0.23434552],\n",
              "       [ 0.1357084 , -0.23434552],\n",
              "       [ 1.11252978, -1.20753769],\n",
              "       [ 0.33107267,  0.09005187],\n",
              "       [-0.25502015,  0.56190262],\n",
              "       [ 0.42875481,  1.15171606],\n",
              "       [-1.1341594 , -1.14855635],\n",
              "       [ 1.01484764,  1.47611346],\n",
              "       [-0.05965588,  0.09005187],\n",
              "       [ 1.60094047,  1.15171606],\n",
              "       [-1.81793436, -1.4139724 ],\n",
              "       [ 1.11252978, -0.11638283],\n",
              "       [-1.72025222, -0.97161232],\n",
              "       [ 0.23339054,  0.17852389],\n",
              "       [ 0.42875481,  0.03107053],\n",
              "       [ 0.03802626, -0.29332686],\n",
              "       [ 0.52643695,  1.88898286],\n",
              "       [ 1.01484764, -1.06008433],\n",
              "       [ 1.01484764,  0.797828  ],\n",
              "       [-0.54806657,  1.94796421],\n",
              "       [-0.45038443, -0.26383619],\n",
              "       [ 1.99166902, -0.91263097],\n",
              "       [-0.64574871, -0.32281753],\n",
              "       [-0.93879512,  0.53241195],\n",
              "       [-1.1341594 ,  0.32597725],\n",
              "       [ 0.72180123, -1.38448173],\n",
              "       [ 0.1357084 ,  0.11954255],\n",
              "       [-0.35270229, -0.76517761],\n",
              "       [ 2.1870333 , -0.6767056 ],\n",
              "       [-0.15733802, -1.06008433],\n",
              "       [ 0.1357084 ,  1.91847354],\n",
              "       [-0.93879512,  1.59407614],\n",
              "       [-0.25502015,  0.11954255],\n",
              "       [-1.52488795, -0.17536417],\n",
              "       [-0.54806657,  0.91579069],\n",
              "       [ 0.81948336,  0.38495859],\n",
              "       [ 2.08935116,  0.41444927],\n",
              "       [-0.54806657, -1.50244441],\n",
              "       [-1.1341594 ,  0.44393994],\n",
              "       [-0.74343084,  1.38764144],\n",
              "       [-0.25502015, -0.26383619],\n",
              "       [-0.25502015, -0.55874291],\n",
              "       [-0.05965588,  0.14903322]])"
            ]
          },
          "metadata": {},
          "execution_count": 6
        }
      ]
    },
    {
      "cell_type": "markdown",
      "metadata": {
        "id": "_VB4b09roPhq"
      },
      "source": [
        "**Fitting Random Forest to the Training set**"
      ]
    },
    {
      "cell_type": "code",
      "metadata": {
        "id": "0UxhDc2lnqKu",
        "colab": {
          "base_uri": "https://localhost:8080/"
        },
        "outputId": "ed0ba816-d793-4b6d-9506-802f013d9247"
      },
      "source": [
        "from sklearn.ensemble import RandomForestClassifier  \n",
        "classifier= RandomForestClassifier(n_estimators= 10, criterion=\"entropy\")  \n",
        "classifier.fit(x_train, y_train)  \n"
      ],
      "execution_count": 7,
      "outputs": [
        {
          "output_type": "execute_result",
          "data": {
            "text/plain": [
              "RandomForestClassifier(criterion='entropy', n_estimators=10)"
            ]
          },
          "metadata": {},
          "execution_count": 7
        }
      ]
    },
    {
      "cell_type": "markdown",
      "metadata": {
        "id": "XOl6_ERWoYh2"
      },
      "source": [
        "**Predicting the Test set results**"
      ]
    },
    {
      "cell_type": "code",
      "metadata": {
        "id": "7xFCuAXjnqPN"
      },
      "source": [
        "y_pred= classifier.predict(x_test)  "
      ],
      "execution_count": 8,
      "outputs": []
    },
    {
      "cell_type": "markdown",
      "metadata": {
        "id": "pqaQ_HTZogaZ"
      },
      "source": [
        "**Making the Confusion Matrix**"
      ]
    },
    {
      "cell_type": "code",
      "metadata": {
        "id": "DdqNOMK8nqSs",
        "colab": {
          "base_uri": "https://localhost:8080/"
        },
        "outputId": "7a48124d-2700-4fe5-ebfd-df00d16ecf01"
      },
      "source": [
        "cm= confusion_matrix(y_test, y_pred)  \n",
        "cm"
      ],
      "execution_count": 13,
      "outputs": [
        {
          "output_type": "execute_result",
          "data": {
            "text/plain": [
              "array([[72,  6],\n",
              "       [ 8, 34]])"
            ]
          },
          "metadata": {},
          "execution_count": 13
        }
      ]
    },
    {
      "cell_type": "markdown",
      "metadata": {
        "id": "Ko5EDqqiopBl"
      },
      "source": [
        "**Visualising the Training set results**"
      ]
    },
    {
      "cell_type": "code",
      "metadata": {
        "id": "y7C-xZjFnqVC",
        "colab": {
          "base_uri": "https://localhost:8080/",
          "height": 283
        },
        "outputId": "e535a1c2-e454-4e74-889a-078a15ca78df"
      },
      "source": [
        "mtp.scatter(x_train[:, 0], x_train[:, 1], c=y_train)\n",
        "mtp.legend()\n",
        "mtp.show()"
      ],
      "execution_count": 10,
      "outputs": [
        {
          "output_type": "stream",
          "name": "stderr",
          "text": [
            "WARNING:matplotlib.legend:No handles with labels found to put in legend.\n"
          ]
        },
        {
          "output_type": "display_data",
          "data": {
            "text/plain": [
              "<Figure size 432x288 with 1 Axes>"
            ],
            "image/png": "[encoded data removed]"
          },
          "metadata": {
            "needs_background": "light"
          }
        }
      ]
    },
    {
      "cell_type": "markdown",
      "metadata": {
        "id": "ExFSX84Hou9C"
      },
      "source": [
        "**Visualising the Test set results**"
      ]
    },
    {
      "cell_type": "code",
      "metadata": {
        "id": "zHbPz86Noj6d",
        "colab": {
          "base_uri": "https://localhost:8080/",
          "height": 283
        },
        "outputId": "8f30aded-c277-4ab4-e231-767609aaef9b"
      },
      "source": [
        "mtp.scatter(x_test[:, 0], x_test[:, 1], c=y_test)\n",
        "mtp.legend()\n",
        "mtp.show()\n"
      ],
      "execution_count": 11,
      "outputs": [
        {
          "output_type": "stream",
          "name": "stderr",
          "text": [
            "WARNING:matplotlib.legend:No handles with labels found to put in legend.\n"
          ]
        },
        {
          "output_type": "display_data",
          "data": {
            "text/plain": [
              "<Figure size 432x288 with 1 Axes>"
            ],
            "image/png": "[encoded data removed]"
          },
          "metadata": {
            "needs_background": "light"
          }
        }
      ]
    },
    {
      "cell_type": "code",
      "metadata": {
        "id": "Cexs-z2Lo4p0",
        "colab": {
          "base_uri": "https://localhost:8080/",
          "height": 321
        },
        "outputId": "847b4808-8859-4e32-e315-7177c5a893bd"
      },
      "source": [
        "from matplotlib.colors import ListedColormap\n",
        "markers = ('s', 'x', 'o')\n",
        "colors = ('red', 'blue', 'lightgreen')\n",
        "cmap = ListedColormap(colors[:len(nm.unique(y_test))])\n",
        "for idx, cl in enumerate(nm.unique(y)):\n",
        "    mtp.scatter(x=x[y == cl, 0], y=x[y == cl, 1],\n",
        "               c=cmap(idx), marker=markers[idx], label=cl)"
      ],
      "execution_count": 12,
      "outputs": [
        {
          "output_type": "stream",
          "name": "stderr",
          "text": [
            "WARNING:matplotlib.axes._axes:*c* argument looks like a single numeric RGB or RGBA sequence, which should be avoided as value-mapping will have precedence in case its length matches with *x* & *y*.  Please use the *color* keyword-argument or provide a 2-D array with a single row if you intend to specify the same RGB or RGBA value for all points.\n",
            "WARNING:matplotlib.axes._axes:*c* argument looks like a single numeric RGB or RGBA sequence, which should be avoided as value-mapping will have precedence in case its length matches with *x* & *y*.  Please use the *color* keyword-argument or provide a 2-D array with a single row if you intend to specify the same RGB or RGBA value for all points.\n"
          ]
        },
        {
          "output_type": "display_data",
          "data": {
            "text/plain": [
              "<Figure size 432x288 with 1 Axes>"
            ],
            "image/png": "[encoded data removed]"
          },
          "metadata": {
            "needs_background": "light"
          }
        }
      ]
    },
    {
      "cell_type": "code",
      "metadata": {
        "id": "RjB1Bbi4o4tm"
      },
      "source": [],
      "execution_count": 12,
      "outputs": []
    },
    {
      "cell_type": "code",
      "metadata": {
        "id": "mRqoaIx_o4xV"
      },
      "source": [],
      "execution_count": 12,
      "outputs": []
    },
    {
      "cell_type": "code",
      "metadata": {
        "id": "m__02I84nqYf"
      },
      "source": [],
      "execution_count": 12,
      "outputs": []
    }
  ]
}