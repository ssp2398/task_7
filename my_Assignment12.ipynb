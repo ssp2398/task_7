{
  "nbformat": 4,
  "nbformat_minor": 0,
  "metadata": {
    "colab": {
      "provenance": []
    },
    "kernelspec": {
      "name": "python3",
      "display_name": "Python 3"
    },
    "language_info": {
      "name": "python"
    }
  },
  "cells": [
    {
      "cell_type": "code",
      "metadata": {
        "id": "xugUQsM_jkbL"
      },
      "source": [
        "# Social_Network_Ads.csv"
      ],
      "execution_count": 1,
      "outputs": []
    },
    {
      "cell_type": "markdown",
      "metadata": {
        "id": "t_YJ-uqLmRuD"
      },
      "source": [
        "This dataset contains information of users in a social network. Those informations are the user id the gender the age and the estimated salary. A car company has just launched their brand new luxury SUV. And we're trying to see which of these users of the social network are going to buy this brand new SUV And the last column here tells If yes or no the user bought this SUV we are going to build a model that is going to predict if a user is going to buy or not the SUV based on two variables which are going to be the age and the estimated salary. So our matrix of feature is only going to be these two columns. We want to find some correlations between the age and the estimated salary of a user and his decision to purchase yes or no the SUV.\n"
      ]
    },
    {
      "cell_type": "markdown",
      "metadata": {
        "id": "sgTgwccsk5Yu"
      },
      "source": [
        "**Step 1 | Data Pre-Processing**"
      ]
    },
    {
      "cell_type": "markdown",
      "metadata": {
        "id": "bKWN0MOblEKa"
      },
      "source": [
        "**Importing the Libraries**"
      ]
    },
    {
      "cell_type": "code",
      "metadata": {
        "id": "8cIjONoJj8u0"
      },
      "source": [
        "import pandas as pd \n",
        "import numpy as np\n",
        "import matplotlib.pyplot as plt\n",
        "from sklearn.model_selection import train_test_split\n",
        "from sklearn.preprocessing import StandardScaler\n",
        "from sklearn.linear_model import LogisticRegression\n",
        "from sklearn.metrics import confusion_matrix, accuracy_score, roc_auc_score"
      ],
      "execution_count": 2,
      "outputs": []
    },
    {
      "cell_type": "markdown",
      "metadata": {
        "id": "bM9O8a0YlNWk"
      },
      "source": [
        "**Importing the dataset**"
      ]
    },
    {
      "cell_type": "code",
      "metadata": {
        "id": "vfPLWJHRlM-4",
        "colab": {
          "base_uri": "https://localhost:8080/",
          "height": 206
        },
        "outputId": "9c08e122-1336-44eb-bac8-0ff800dc1a03"
      },
      "source": [
        "df=pd.read_csv('Social_Network_Ads.csv')\n",
        "df.head()"
      ],
      "execution_count": 3,
      "outputs": [
        {
          "output_type": "execute_result",
          "data": {
            "text/plain": [
              "    User ID  Gender  Age  EstimatedSalary  Purchased\n",
              "0  15624510    Male   19            19000          0\n",
              "1  15810944    Male   35            20000          0\n",
              "2  15668575  Female   26            43000          0\n",
              "3  15603246  Female   27            57000          0\n",
              "4  15804002    Male   19            76000          0"
            ],
            "text/html": [
              "\n",
              "  <div id=\"df-3780e16c-9129-4f0b-a258-51ab0157cf9a\">\n",
              "    <div class=\"colab-df-container\">\n",
              "      <div>\n",
              "<style scoped>\n",
              "    .dataframe tbody tr th:only-of-type {\n",
              "        vertical-align: middle;\n",
              "    }\n",
              "\n",
              "    .dataframe tbody tr th {\n",
              "        vertical-align: top;\n",
              "    }\n",
              "\n",
              "    .dataframe thead th {\n",
              "        text-align: right;\n",
              "    }\n",
              "</style>\n",
              "<table border=\"1\" class=\"dataframe\">\n",
              "  <thead>\n",
              "    <tr style=\"text-align: right;\">\n",
              "      <th></th>\n",
              "      <th>User ID</th>\n",
              "      <th>Gender</th>\n",
              "      <th>Age</th>\n",
              "      <th>EstimatedSalary</th>\n",
              "      <th>Purchased</th>\n",
              "    </tr>\n",
              "  </thead>\n",
              "  <tbody>\n",
              "    <tr>\n",
              "      <th>0</th>\n",
              "      <td>15624510</td>\n",
              "      <td>Male</td>\n",
              "      <td>19</td>\n",
              "      <td>19000</td>\n",
              "      <td>0</td>\n",
              "    </tr>\n",
              "    <tr>\n",
              "      <th>1</th>\n",
              "      <td>15810944</td>\n",
              "      <td>Male</td>\n",
              "      <td>35</td>\n",
              "      <td>20000</td>\n",
              "      <td>0</td>\n",
              "    </tr>\n",
              "    <tr>\n",
              "      <th>2</th>\n",
              "      <td>15668575</td>\n",
              "      <td>Female</td>\n",
              "      <td>26</td>\n",
              "      <td>43000</td>\n",
              "      <td>0</td>\n",
              "    </tr>\n",
              "    <tr>\n",
              "      <th>3</th>\n",
              "      <td>15603246</td>\n",
              "      <td>Female</td>\n",
              "      <td>27</td>\n",
              "      <td>57000</td>\n",
              "      <td>0</td>\n",
              "    </tr>\n",
              "    <tr>\n",
              "      <th>4</th>\n",
              "      <td>15804002</td>\n",
              "      <td>Male</td>\n",
              "      <td>19</td>\n",
              "      <td>76000</td>\n",
              "      <td>0</td>\n",
              "    </tr>\n",
              "  </tbody>\n",
              "</table>\n",
              "</div>\n",
              "      <button class=\"colab-df-convert\" onclick=\"convertToInteractive('df-3780e16c-9129-4f0b-a258-51ab0157cf9a')\"\n",
              "              title=\"Convert this dataframe to an interactive table.\"\n",
              "              style=\"display:none;\">\n",
              "        \n",
              "  <svg xmlns=\"http://www.w3.org/2000/svg\" height=\"24px\"viewBox=\"0 0 24 24\"\n",
              "       width=\"24px\">\n",
              "    <path d=\"M0 0h24v24H0V0z\" fill=\"none\"/>\n",
              "    <path d=\"M18.56 5.44l.94 2.06.94-2.06 2.06-.94-2.06-.94-.94-2.06-.94 2.06-2.06.94zm-11 1L8.5 8.5l.94-2.06 2.06-.94-2.06-.94L8.5 2.5l-.94 2.06-2.06.94zm10 10l.94 2.06.94-2.06 2.06-.94-2.06-.94-.94-2.06-.94 2.06-2.06.94z\"/><path d=\"M17.41 7.96l-1.37-1.37c-.4-.4-.92-.59-1.43-.59-.52 0-1.04.2-1.43.59L10.3 9.45l-7.72 7.72c-.78.78-.78 2.05 0 2.83L4 21.41c.39.39.9.59 1.41.59.51 0 1.02-.2 1.41-.59l7.78-7.78 2.81-2.81c.8-.78.8-2.07 0-2.86zM5.41 20L4 18.59l7.72-7.72 1.47 1.35L5.41 20z\"/>\n",
              "  </svg>\n",
              "      </button>\n",
              "      \n",
              "  <style>\n",
              "    .colab-df-container {\n",
              "      display:flex;\n",
              "      flex-wrap:wrap;\n",
              "      gap: 12px;\n",
              "    }\n",
              "\n",
              "    .colab-df-convert {\n",
              "      background-color: #E8F0FE;\n",
              "      border: none;\n",
              "      border-radius: 50%;\n",
              "      cursor: pointer;\n",
              "      display: none;\n",
              "      fill: #1967D2;\n",
              "      height: 32px;\n",
              "      padding: 0 0 0 0;\n",
              "      width: 32px;\n",
              "    }\n",
              "\n",
              "    .colab-df-convert:hover {\n",
              "      background-color: #E2EBFA;\n",
              "      box-shadow: 0px 1px 2px rgba(60, 64, 67, 0.3), 0px 1px 3px 1px rgba(60, 64, 67, 0.15);\n",
              "      fill: #174EA6;\n",
              "    }\n",
              "\n",
              "    [theme=dark] .colab-df-convert {\n",
              "      background-color: #3B4455;\n",
              "      fill: #D2E3FC;\n",
              "    }\n",
              "\n",
              "    [theme=dark] .colab-df-convert:hover {\n",
              "      background-color: #434B5C;\n",
              "      box-shadow: 0px 1px 3px 1px rgba(0, 0, 0, 0.15);\n",
              "      filter: drop-shadow(0px 1px 2px rgba(0, 0, 0, 0.3));\n",
              "      fill: #FFFFFF;\n",
              "    }\n",
              "  </style>\n",
              "\n",
              "      <script>\n",
              "        const buttonEl =\n",
              "          document.querySelector('#df-3780e16c-9129-4f0b-a258-51ab0157cf9a button.colab-df-convert');\n",
              "        buttonEl.style.display =\n",
              "          google.colab.kernel.accessAllowed ? 'block' : 'none';\n",
              "\n",
              "        async function convertToInteractive(key) {\n",
              "          const element = document.querySelector('#df-3780e16c-9129-4f0b-a258-51ab0157cf9a');\n",
              "          const dataTable =\n",
              "            await google.colab.kernel.invokeFunction('convertToInteractive',\n",
              "                                                     [key], {});\n",
              "          if (!dataTable) return;\n",
              "\n",
              "          const docLinkHtml = 'Like what you see? Visit the ' +\n",
              "            '<a target=\"_blank\" href=https://colab.research.google.com/notebooks/data_table.ipynb>data table notebook</a>'\n",
              "            + ' to learn more about interactive tables.';\n",
              "          element.innerHTML = '';\n",
              "          dataTable['output_type'] = 'display_data';\n",
              "          await google.colab.output.renderOutput(dataTable, element);\n",
              "          const docLink = document.createElement('div');\n",
              "          docLink.innerHTML = docLinkHtml;\n",
              "          element.appendChild(docLink);\n",
              "        }\n",
              "      </script>\n",
              "    </div>\n",
              "  </div>\n",
              "  "
            ]
          },
          "metadata": {},
          "execution_count": 3
        }
      ]
    },
    {
      "cell_type": "code",
      "source": [
        "df.isnull().sum()"
      ],
      "metadata": {
        "colab": {
          "base_uri": "https://localhost:8080/"
        },
        "id": "9lB5sPA8sQYl",
        "outputId": "caa8560c-73c3-4895-a79f-9b3f595e403d"
      },
      "execution_count": 4,
      "outputs": [
        {
          "output_type": "execute_result",
          "data": {
            "text/plain": [
              "User ID            0\n",
              "Gender             0\n",
              "Age                0\n",
              "EstimatedSalary    0\n",
              "Purchased          0\n",
              "dtype: int64"
            ]
          },
          "metadata": {},
          "execution_count": 4
        }
      ]
    },
    {
      "cell_type": "code",
      "source": [
        "## drop the userid and gender columns\n",
        "df1=df.drop(['User ID','Gender'],axis=1)\n",
        "df1"
      ],
      "metadata": {
        "colab": {
          "base_uri": "https://localhost:8080/",
          "height": 424
        },
        "id": "MjyByPRcs5Td",
        "outputId": "18b0a3db-95bf-4f71-b4c6-60cefe432820"
      },
      "execution_count": 5,
      "outputs": [
        {
          "output_type": "execute_result",
          "data": {
            "text/plain": [
              "     Age  EstimatedSalary  Purchased\n",
              "0     19            19000          0\n",
              "1     35            20000          0\n",
              "2     26            43000          0\n",
              "3     27            57000          0\n",
              "4     19            76000          0\n",
              "..   ...              ...        ...\n",
              "395   46            41000          1\n",
              "396   51            23000          1\n",
              "397   50            20000          1\n",
              "398   36            33000          0\n",
              "399   49            36000          1\n",
              "\n",
              "[400 rows x 3 columns]"
            ],
            "text/html": [
              "\n",
              "  <div id=\"df-a33813e4-6f57-41e6-bfac-c79a9e2a8028\">\n",
              "    <div class=\"colab-df-container\">\n",
              "      <div>\n",
              "<style scoped>\n",
              "    .dataframe tbody tr th:only-of-type {\n",
              "        vertical-align: middle;\n",
              "    }\n",
              "\n",
              "    .dataframe tbody tr th {\n",
              "        vertical-align: top;\n",
              "    }\n",
              "\n",
              "    .dataframe thead th {\n",
              "        text-align: right;\n",
              "    }\n",
              "</style>\n",
              "<table border=\"1\" class=\"dataframe\">\n",
              "  <thead>\n",
              "    <tr style=\"text-align: right;\">\n",
              "      <th></th>\n",
              "      <th>Age</th>\n",
              "      <th>EstimatedSalary</th>\n",
              "      <th>Purchased</th>\n",
              "    </tr>\n",
              "  </thead>\n",
              "  <tbody>\n",
              "    <tr>\n",
              "      <th>0</th>\n",
              "      <td>19</td>\n",
              "      <td>19000</td>\n",
              "      <td>0</td>\n",
              "    </tr>\n",
              "    <tr>\n",
              "      <th>1</th>\n",
              "      <td>35</td>\n",
              "      <td>20000</td>\n",
              "      <td>0</td>\n",
              "    </tr>\n",
              "    <tr>\n",
              "      <th>2</th>\n",
              "      <td>26</td>\n",
              "      <td>43000</td>\n",
              "      <td>0</td>\n",
              "    </tr>\n",
              "    <tr>\n",
              "      <th>3</th>\n",
              "      <td>27</td>\n",
              "      <td>57000</td>\n",
              "      <td>0</td>\n",
              "    </tr>\n",
              "    <tr>\n",
              "      <th>4</th>\n",
              "      <td>19</td>\n",
              "      <td>76000</td>\n",
              "      <td>0</td>\n",
              "    </tr>\n",
              "    <tr>\n",
              "      <th>...</th>\n",
              "      <td>...</td>\n",
              "      <td>...</td>\n",
              "      <td>...</td>\n",
              "    </tr>\n",
              "    <tr>\n",
              "      <th>395</th>\n",
              "      <td>46</td>\n",
              "      <td>41000</td>\n",
              "      <td>1</td>\n",
              "    </tr>\n",
              "    <tr>\n",
              "      <th>396</th>\n",
              "      <td>51</td>\n",
              "      <td>23000</td>\n",
              "      <td>1</td>\n",
              "    </tr>\n",
              "    <tr>\n",
              "      <th>397</th>\n",
              "      <td>50</td>\n",
              "      <td>20000</td>\n",
              "      <td>1</td>\n",
              "    </tr>\n",
              "    <tr>\n",
              "      <th>398</th>\n",
              "      <td>36</td>\n",
              "      <td>33000</td>\n",
              "      <td>0</td>\n",
              "    </tr>\n",
              "    <tr>\n",
              "      <th>399</th>\n",
              "      <td>49</td>\n",
              "      <td>36000</td>\n",
              "      <td>1</td>\n",
              "    </tr>\n",
              "  </tbody>\n",
              "</table>\n",
              "<p>400 rows × 3 columns</p>\n",
              "</div>\n",
              "      <button class=\"colab-df-convert\" onclick=\"convertToInteractive('df-a33813e4-6f57-41e6-bfac-c79a9e2a8028')\"\n",
              "              title=\"Convert this dataframe to an interactive table.\"\n",
              "              style=\"display:none;\">\n",
              "        \n",
              "  <svg xmlns=\"http://www.w3.org/2000/svg\" height=\"24px\"viewBox=\"0 0 24 24\"\n",
              "       width=\"24px\">\n",
              "    <path d=\"M0 0h24v24H0V0z\" fill=\"none\"/>\n",
              "    <path d=\"M18.56 5.44l.94 2.06.94-2.06 2.06-.94-2.06-.94-.94-2.06-.94 2.06-2.06.94zm-11 1L8.5 8.5l.94-2.06 2.06-.94-2.06-.94L8.5 2.5l-.94 2.06-2.06.94zm10 10l.94 2.06.94-2.06 2.06-.94-2.06-.94-.94-2.06-.94 2.06-2.06.94z\"/><path d=\"M17.41 7.96l-1.37-1.37c-.4-.4-.92-.59-1.43-.59-.52 0-1.04.2-1.43.59L10.3 9.45l-7.72 7.72c-.78.78-.78 2.05 0 2.83L4 21.41c.39.39.9.59 1.41.59.51 0 1.02-.2 1.41-.59l7.78-7.78 2.81-2.81c.8-.78.8-2.07 0-2.86zM5.41 20L4 18.59l7.72-7.72 1.47 1.35L5.41 20z\"/>\n",
              "  </svg>\n",
              "      </button>\n",
              "      \n",
              "  <style>\n",
              "    .colab-df-container {\n",
              "      display:flex;\n",
              "      flex-wrap:wrap;\n",
              "      gap: 12px;\n",
              "    }\n",
              "\n",
              "    .colab-df-convert {\n",
              "      background-color: #E8F0FE;\n",
              "      border: none;\n",
              "      border-radius: 50%;\n",
              "      cursor: pointer;\n",
              "      display: none;\n",
              "      fill: #1967D2;\n",
              "      height: 32px;\n",
              "      padding: 0 0 0 0;\n",
              "      width: 32px;\n",
              "    }\n",
              "\n",
              "    .colab-df-convert:hover {\n",
              "      background-color: #E2EBFA;\n",
              "      box-shadow: 0px 1px 2px rgba(60, 64, 67, 0.3), 0px 1px 3px 1px rgba(60, 64, 67, 0.15);\n",
              "      fill: #174EA6;\n",
              "    }\n",
              "\n",
              "    [theme=dark] .colab-df-convert {\n",
              "      background-color: #3B4455;\n",
              "      fill: #D2E3FC;\n",
              "    }\n",
              "\n",
              "    [theme=dark] .colab-df-convert:hover {\n",
              "      background-color: #434B5C;\n",
              "      box-shadow: 0px 1px 3px 1px rgba(0, 0, 0, 0.15);\n",
              "      filter: drop-shadow(0px 1px 2px rgba(0, 0, 0, 0.3));\n",
              "      fill: #FFFFFF;\n",
              "    }\n",
              "  </style>\n",
              "\n",
              "      <script>\n",
              "        const buttonEl =\n",
              "          document.querySelector('#df-a33813e4-6f57-41e6-bfac-c79a9e2a8028 button.colab-df-convert');\n",
              "        buttonEl.style.display =\n",
              "          google.colab.kernel.accessAllowed ? 'block' : 'none';\n",
              "\n",
              "        async function convertToInteractive(key) {\n",
              "          const element = document.querySelector('#df-a33813e4-6f57-41e6-bfac-c79a9e2a8028');\n",
              "          const dataTable =\n",
              "            await google.colab.kernel.invokeFunction('convertToInteractive',\n",
              "                                                     [key], {});\n",
              "          if (!dataTable) return;\n",
              "\n",
              "          const docLinkHtml = 'Like what you see? Visit the ' +\n",
              "            '<a target=\"_blank\" href=https://colab.research.google.com/notebooks/data_table.ipynb>data table notebook</a>'\n",
              "            + ' to learn more about interactive tables.';\n",
              "          element.innerHTML = '';\n",
              "          dataTable['output_type'] = 'display_data';\n",
              "          await google.colab.output.renderOutput(dataTable, element);\n",
              "          const docLink = document.createElement('div');\n",
              "          docLink.innerHTML = docLinkHtml;\n",
              "          element.appendChild(docLink);\n",
              "        }\n",
              "      </script>\n",
              "    </div>\n",
              "  </div>\n",
              "  "
            ]
          },
          "metadata": {},
          "execution_count": 5
        }
      ]
    },
    {
      "cell_type": "markdown",
      "metadata": {
        "id": "eHCKYPHylT5K"
      },
      "source": [
        "**Splitting the dataset into the Training set and Test set**"
      ]
    },
    {
      "cell_type": "code",
      "metadata": {
        "id": "o9msgi0sj72h"
      },
      "source": [
        "x=df1[['Age','EstimatedSalary']]\n",
        "y=df1['Purchased']\n",
        "\n",
        "x_train,x_test,y_train,y_test=train_test_split(x,y,test_size=0.3)"
      ],
      "execution_count": 6,
      "outputs": []
    },
    {
      "cell_type": "markdown",
      "metadata": {
        "id": "AsfmGeH6lZ0O"
      },
      "source": [
        "**Feature Scaling**"
      ]
    },
    {
      "cell_type": "code",
      "metadata": {
        "id": "Xfifr6tlj77A",
        "colab": {
          "base_uri": "https://localhost:8080/"
        },
        "outputId": "2eac3edf-118d-4620-d899-182afc363df8"
      },
      "source": [
        "scaling=StandardScaler()\n",
        "scaling.fit_transform(x_train,x_test)"
      ],
      "execution_count": 7,
      "outputs": [
        {
          "output_type": "execute_result",
          "data": {
            "text/plain": [
              "array([[ 0.86686721,  1.25799364],\n",
              "       [ 0.20549713, -0.30828303],\n",
              "       [-1.02276159,  0.53286555],\n",
              "       [-1.77861311,  0.44585018],\n",
              "       [ 0.11101569, -0.25027278],\n",
              "       [ 1.43375585,  0.35883481],\n",
              "       [-1.11724303,  1.40301926],\n",
              "       [-0.55035439,  1.37401413],\n",
              "       [ 0.11101569,  0.03977845],\n",
              "       [ 1.24479297,  2.21516271],\n",
              "       [ 0.29997857,  0.27181944],\n",
              "       [-1.77861311, -1.41047772],\n",
              "       [-1.11724303,  0.32982969],\n",
              "       [-0.83379871,  0.30082457],\n",
              "       [ 1.24479297,  1.86710123],\n",
              "       [-0.07794719,  0.24281432],\n",
              "       [-1.11724303, -0.51131889],\n",
              "       [ 1.52823729,  0.99694753],\n",
              "       [-0.64483583, -1.03341111],\n",
              "       [ 0.29997857,  0.06878358],\n",
              "       [ 1.52823729, -1.2654521 ],\n",
              "       [ 0.77238577, -1.35246747],\n",
              "       [-1.11724303,  0.41684506],\n",
              "       [ 1.05583009, -0.97540086],\n",
              "       [-1.58965023,  0.06878358],\n",
              "       [-1.40068735, -0.19226253],\n",
              "       [-1.49516879, -0.42430352],\n",
              "       [ 0.20549713,  0.03977845],\n",
              "       [ 0.20549713, -0.65634451],\n",
              "       [-0.26691007,  0.0977887 ],\n",
              "       [-1.02276159,  0.76490654],\n",
              "       [ 0.77238577, -0.83037525],\n",
              "       [-0.26691007,  0.15579895],\n",
              "       [-0.64483583,  0.56187068],\n",
              "       [ 0.86686721, -1.35246747],\n",
              "       [ 0.20549713, -0.36629327],\n",
              "       [ 0.39446001,  1.11296802],\n",
              "       [ 1.52823729,  1.11296802],\n",
              "       [-1.02276159,  0.41684506],\n",
              "       [-1.58965023, -1.55550333],\n",
              "       [-0.07794719, -0.48231377],\n",
              "       [ 1.43375585, -1.03341111],\n",
              "       [ 0.67790433,  0.27181944],\n",
              "       [ 2.00064449,  0.18480407],\n",
              "       [-0.45587295, -1.20744185],\n",
              "       [ 0.39446001,  0.01077333],\n",
              "       [ 0.11101569,  1.05495777],\n",
              "       [-0.73931727, -1.52649821],\n",
              "       [-1.77861311, -1.29445722],\n",
              "       [ 2.09512593, -0.80137012],\n",
              "       [ 2.00064449,  0.38783994],\n",
              "       [ 0.11101569,  0.0977887 ],\n",
              "       [ 0.39446001,  0.99694753],\n",
              "       [-0.55035439, -1.49749309],\n",
              "       [ 0.01653425, -0.56932914],\n",
              "       [-0.45587295, -1.12042648],\n",
              "       [-0.26691007, -0.2792779 ],\n",
              "       [-1.49516879, -1.23644698],\n",
              "       [ 1.81168161, -1.06241623],\n",
              "       [-0.26691007, -0.13425229],\n",
              "       [ 0.20549713, -0.25027278],\n",
              "       [-0.07794719,  0.67789117],\n",
              "       [-1.11724303, -1.58450846],\n",
              "       [-0.64483583,  0.12679383],\n",
              "       [-1.30620591, -0.33728815],\n",
              "       [ 0.20549713, -0.13425229],\n",
              "       [-1.21172447, -1.38147259],\n",
              "       [ 0.39446001,  0.5908758 ],\n",
              "       [-0.55035439,  0.47485531],\n",
              "       [-0.73931727, -1.58450846],\n",
              "       [ 0.20549713,  1.0839629 ],\n",
              "       [ 0.20549713, -0.2792779 ],\n",
              "       [ 0.86686721, -1.43948284],\n",
              "       [ 1.43375585,  0.99694753],\n",
              "       [-1.11724303, -1.1494316 ],\n",
              "       [-1.68413167,  0.12679383],\n",
              "       [ 0.11101569,  0.15579895],\n",
              "       [ 0.96134865,  1.86710123],\n",
              "       [-0.64483583, -0.33728815],\n",
              "       [-0.26691007,  0.79391166],\n",
              "       [-1.11724303,  0.30082457],\n",
              "       [-0.26691007,  0.2138092 ],\n",
              "       [ 0.96134865,  2.07013709],\n",
              "       [-0.73931727, -0.59833426],\n",
              "       [-1.87309455, -0.51131889],\n",
              "       [ 0.01653425, -0.30828303],\n",
              "       [ 0.67790433, -0.71435475],\n",
              "       [-0.07794719,  1.9541166 ],\n",
              "       [ 0.01653425, -0.13425229],\n",
              "       [-1.11724303, -1.52649821],\n",
              "       [-0.92828015, -1.09142136],\n",
              "       [-0.55035439,  2.3311832 ],\n",
              "       [ 0.96134865,  0.76490654],\n",
              "       [-0.92828015,  0.50386043],\n",
              "       [-0.26691007,  0.03977845],\n",
              "       [-0.26691007, -0.91739062],\n",
              "       [-0.26691007, -0.48231377],\n",
              "       [ 1.43375585,  2.12814734],\n",
              "       [ 1.43375585,  0.06878358],\n",
              "       [ 0.29997857,  0.03977845],\n",
              "       [ 1.81168161,  1.51903975],\n",
              "       [ 0.01653425,  0.30082457],\n",
              "       [ 0.96134865, -0.83037525],\n",
              "       [ 0.01653425,  0.03977845],\n",
              "       [ 0.39446001,  0.27181944],\n",
              "       [ 2.00064449,  0.53286555],\n",
              "       [-0.64483583, -0.10524716],\n",
              "       [ 0.67790433,  1.78008586],\n",
              "       [ 0.11101569, -0.80137012],\n",
              "       [ 1.33927441, -0.91739062],\n",
              "       [ 0.77238577, -0.30828303],\n",
              "       [ 0.29997857,  0.06878358],\n",
              "       [-0.17242863,  1.40301926],\n",
              "       [-0.64483583, -1.58450846],\n",
              "       [ 0.48894145,  1.72207561],\n",
              "       [-1.87309455, -0.74335988],\n",
              "       [-1.11724303,  0.06878358],\n",
              "       [ 0.29997857, -0.54032401],\n",
              "       [ 2.00064449,  1.75108074],\n",
              "       [-0.45587295, -0.772365  ],\n",
              "       [-0.26691007,  0.61988092],\n",
              "       [-1.02276159,  0.56187068],\n",
              "       [-0.26691007, -0.33728815],\n",
              "       [-0.26691007,  0.27181944],\n",
              "       [-0.17242863,  0.15579895],\n",
              "       [ 1.81168161,  0.12679383],\n",
              "       [-1.49516879,  0.32982969],\n",
              "       [-1.58965023,  0.53286555],\n",
              "       [-1.77861311,  0.01077333],\n",
              "       [-0.17242863, -0.2792779 ],\n",
              "       [ 1.15031153, -1.43948284],\n",
              "       [ 1.33927441, -1.41047772],\n",
              "       [ 0.20549713,  0.24281432],\n",
              "       [ 0.11101569, -0.30828303],\n",
              "       [-0.73931727,  1.89610635],\n",
              "       [-0.07794719,  0.03977845],\n",
              "       [-0.26691007, -0.65634451],\n",
              "       [-0.92828015,  0.56187068],\n",
              "       [ 0.96134865,  0.5908758 ],\n",
              "       [ 0.58342289,  2.01212685],\n",
              "       [ 0.48894145,  1.22898851],\n",
              "       [ 2.00064449,  2.12814734],\n",
              "       [ 0.96134865, -1.00440599],\n",
              "       [-0.26691007, -1.23644698],\n",
              "       [-0.83379871, -0.772365  ],\n",
              "       [ 0.77238577,  0.76490654],\n",
              "       [ 0.29997857, -0.19226253],\n",
              "       [ 0.86686721, -0.54032401],\n",
              "       [ 2.09512593,  1.11296802],\n",
              "       [-1.68413167,  0.35883481],\n",
              "       [ 0.39446001, -0.16325741],\n",
              "       [-0.92828015,  0.41684506],\n",
              "       [ 0.86686721, -0.56932914],\n",
              "       [ 0.86686721, -1.29445722],\n",
              "       [-0.83379871,  0.38783994],\n",
              "       [-1.11724303,  0.30082457],\n",
              "       [-0.73931727,  1.0839629 ],\n",
              "       [-1.30620591, -0.42430352],\n",
              "       [ 0.29997857, -1.1494316 ],\n",
              "       [ 0.29997857,  0.30082457],\n",
              "       [ 0.39446001,  2.30217808],\n",
              "       [ 0.39446001, -0.13425229],\n",
              "       [ 2.09512593,  0.38783994],\n",
              "       [ 2.00064449, -0.80137012],\n",
              "       [-1.02276159, -1.43948284],\n",
              "       [-0.45587295,  2.30217808],\n",
              "       [ 0.01653425, -0.25027278],\n",
              "       [-0.07794719, -0.22126766],\n",
              "       [-0.73931727,  0.50386043],\n",
              "       [ 0.20549713, -0.36629327],\n",
              "       [-1.87309455,  0.35883481],\n",
              "       [-1.11724303, -1.00440599],\n",
              "       [-0.73931727,  1.34500901],\n",
              "       [ 1.71720017, -0.2792779 ],\n",
              "       [-0.26691007, -0.42430352],\n",
              "       [ 0.29997857,  0.06878358],\n",
              "       [-1.11724303, -1.09142136],\n",
              "       [ 0.77238577, -1.09142136],\n",
              "       [-1.40068735, -1.20744185],\n",
              "       [ 0.77238577, -1.38147259],\n",
              "       [ 0.67790433, -1.09142136],\n",
              "       [-0.83379871, -0.772365  ],\n",
              "       [-1.40068735,  0.35883481],\n",
              "       [-0.36139151,  1.31600389],\n",
              "       [-1.30620591, -1.46848796],\n",
              "       [-1.21172447, -1.06241623],\n",
              "       [ 0.39446001,  0.30082457],\n",
              "       [ 0.11101569,  0.03977845],\n",
              "       [-0.26691007, -1.43948284],\n",
              "       [ 1.05583009,  2.07013709],\n",
              "       [-0.07794719,  0.01077333],\n",
              "       [-0.07794719,  0.12679383],\n",
              "       [-0.83379871, -0.65634451],\n",
              "       [-0.36139151, -1.29445722],\n",
              "       [ 0.20549713,  0.15579895],\n",
              "       [-0.17242863, -0.19226253],\n",
              "       [-1.87309455,  0.47485531],\n",
              "       [-0.92828015,  0.44585018],\n",
              "       [-0.73931727,  0.27181944],\n",
              "       [-0.64483583, -1.49749309],\n",
              "       [ 0.01653425,  0.03977845],\n",
              "       [-0.26691007, -1.35246747],\n",
              "       [ 0.77238577,  0.53286555],\n",
              "       [-0.55035439,  1.89610635],\n",
              "       [-0.07794719,  0.15579895],\n",
              "       [ 1.33927441,  0.5908758 ],\n",
              "       [-1.21172447,  0.30082457],\n",
              "       [-1.77861311, -1.46848796],\n",
              "       [ 2.09512593, -0.68534963],\n",
              "       [-0.45587295, -0.2792779 ],\n",
              "       [-1.21172447,  0.27181944],\n",
              "       [ 1.05583009,  0.53286555],\n",
              "       [-0.45587295,  1.25799364],\n",
              "       [ 0.39446001, -0.45330864],\n",
              "       [ 0.96134865, -1.06241623],\n",
              "       [ 1.90616305,  0.73590142],\n",
              "       [-0.83379871,  0.15579895],\n",
              "       [-0.55035439,  0.88092703],\n",
              "       [-0.17242863, -0.51131889],\n",
              "       [-0.26691007, -0.56932914],\n",
              "       [-1.49516879, -0.19226253],\n",
              "       [ 0.96134865, -1.17843673],\n",
              "       [-0.45587295, -0.83037525],\n",
              "       [ 0.01653425,  1.25799364],\n",
              "       [-0.26691007,  0.06878358],\n",
              "       [-0.36139151, -0.772365  ],\n",
              "       [ 0.11101569,  1.86710123],\n",
              "       [ 1.71720017,  1.83809611],\n",
              "       [ 1.90616305,  2.15715246],\n",
              "       [-0.92828015,  1.54804487],\n",
              "       [-0.64483583,  0.03977845],\n",
              "       [-1.77861311,  0.18480407],\n",
              "       [-0.83379871,  2.27317296],\n",
              "       [-1.11724303, -1.58450846],\n",
              "       [-1.02276159, -1.12042648],\n",
              "       [ 0.39446001, -0.45330864],\n",
              "       [ 0.01653425, -0.42430352],\n",
              "       [ 0.29997857, -0.30828303],\n",
              "       [ 2.00064449, -1.17843673],\n",
              "       [-0.92828015,  0.27181944],\n",
              "       [-1.11724303, -0.772365  ],\n",
              "       [ 1.33927441,  2.3311832 ],\n",
              "       [ 0.86686721,  1.0839629 ],\n",
              "       [-1.77861311, -1.2654521 ],\n",
              "       [ 0.67790433, -1.38147259],\n",
              "       [-0.17242863, -0.56932914],\n",
              "       [ 1.62271873,  1.60605512],\n",
              "       [ 1.15031153,  0.53286555],\n",
              "       [ 0.39446001, -0.13425229],\n",
              "       [ 1.05583009,  0.56187068],\n",
              "       [ 0.01653425,  1.22898851],\n",
              "       [-0.92828015, -0.74335988],\n",
              "       [-1.02276159, -1.52649821],\n",
              "       [ 0.01653425, -0.25027278],\n",
              "       [ 0.77238577,  0.12679383],\n",
              "       [ 0.01653425, -0.54032401],\n",
              "       [-0.26691007, -0.30828303],\n",
              "       [-0.64483583,  0.18480407],\n",
              "       [ 0.86686721, -1.1494316 ],\n",
              "       [ 0.11101569, -0.80137012],\n",
              "       [ 1.05583009, -1.20744185],\n",
              "       [ 1.90616305, -0.65634451],\n",
              "       [ 1.15031153, -0.97540086],\n",
              "       [-0.26691007,  0.06878358],\n",
              "       [ 1.33927441,  1.98312172],\n",
              "       [ 0.29997857,  0.50386043],\n",
              "       [ 0.86686721, -0.59833426],\n",
              "       [ 0.29997857, -0.2792779 ],\n",
              "       [-1.30620591, -1.35246747],\n",
              "       [ 1.24479297, -1.35246747],\n",
              "       [ 2.09512593, -0.80137012],\n",
              "       [-0.07794719,  2.15715246],\n",
              "       [-0.26691007, -1.38147259],\n",
              "       [ 0.86686721,  2.15715246],\n",
              "       [ 0.29997857, -0.71435475],\n",
              "       [ 1.05583009, -1.20744185],\n",
              "       [-1.40068735, -0.10524716],\n",
              "       [-0.17242863,  1.63506024],\n",
              "       [ 1.62271873,  1.75108074],\n",
              "       [-1.02276159, -0.33728815]])"
            ]
          },
          "metadata": {},
          "execution_count": 7
        }
      ]
    },
    {
      "cell_type": "markdown",
      "metadata": {
        "id": "UkiSpylklf7z"
      },
      "source": [
        "**Step 2 | Logistic Regression Model**"
      ]
    },
    {
      "cell_type": "markdown",
      "metadata": {
        "id": "rhZgd1t_mfYg"
      },
      "source": [
        "The library for this job which is going to be the linear model library and it is called linear because the logistic regression is a linear classifier which means that here since we're in two dimensions, our two categories of users are going to be separated by a straight line. Then import the logistic regression class. Next we will create a new object from this class which is going to be our classifier that we are going to fit on our training set."
      ]
    },
    {
      "cell_type": "markdown",
      "metadata": {
        "id": "oCUEcLBflmPn"
      },
      "source": [
        "**Fitting Logistic Regression to the Training set**"
      ]
    },
    {
      "cell_type": "code",
      "metadata": {
        "id": "l8YSpSphj8FN",
        "colab": {
          "base_uri": "https://localhost:8080/"
        },
        "outputId": "c2f341c4-2cac-40c2-f0bf-30144ba71c12"
      },
      "source": [
        "classifier=LogisticRegression()\n",
        "classifier.fit(x_train,y_train)"
      ],
      "execution_count": 8,
      "outputs": [
        {
          "output_type": "execute_result",
          "data": {
            "text/plain": [
              "LogisticRegression()"
            ]
          },
          "metadata": {},
          "execution_count": 8
        }
      ]
    },
    {
      "cell_type": "markdown",
      "metadata": {
        "id": "0DpkLwdRlvXX"
      },
      "source": [
        "**Step 3 | Predection**"
      ]
    },
    {
      "cell_type": "code",
      "metadata": {
        "id": "5X1PxviQlp0C"
      },
      "source": [
        "y_predict=classifier.predict(x_test)"
      ],
      "execution_count": 9,
      "outputs": []
    },
    {
      "cell_type": "code",
      "source": [
        "roc_auc_score(y_test, y_predict)"
      ],
      "metadata": {
        "colab": {
          "base_uri": "https://localhost:8080/"
        },
        "id": "Dfvk0eCGz9xD",
        "outputId": "9919052f-86c0-4fac-e135-9919f851929d"
      },
      "execution_count": 10,
      "outputs": [
        {
          "output_type": "execute_result",
          "data": {
            "text/plain": [
              "0.5"
            ]
          },
          "metadata": {},
          "execution_count": 10
        }
      ]
    },
    {
      "cell_type": "code",
      "source": [
        "accuracy=accuracy_score(y_test,y_predict)\n",
        "accuracy"
      ],
      "metadata": {
        "colab": {
          "base_uri": "https://localhost:8080/"
        },
        "id": "KzGHgwDj0CgR",
        "outputId": "68d3cef6-50fa-4f72-c351-392c0ef3818a"
      },
      "execution_count": 11,
      "outputs": [
        {
          "output_type": "execute_result",
          "data": {
            "text/plain": [
              "0.65"
            ]
          },
          "metadata": {},
          "execution_count": 11
        }
      ]
    },
    {
      "cell_type": "code",
      "source": [
        "import sklearn.metrics as metrics\n",
        "print(metrics.classification_report(y_test, y_predict))\n"
      ],
      "metadata": {
        "colab": {
          "base_uri": "https://localhost:8080/"
        },
        "id": "MSwVGAmTzti-",
        "outputId": "8cb6c99d-8ec5-428e-a5d9-bfe8a2b81f0d"
      },
      "execution_count": 12,
      "outputs": [
        {
          "output_type": "stream",
          "name": "stdout",
          "text": [
            "              precision    recall  f1-score   support\n",
            "\n",
            "           0       0.65      1.00      0.79        78\n",
            "           1       0.00      0.00      0.00        42\n",
            "\n",
            "    accuracy                           0.65       120\n",
            "   macro avg       0.33      0.50      0.39       120\n",
            "weighted avg       0.42      0.65      0.51       120\n",
            "\n"
          ]
        },
        {
          "output_type": "stream",
          "name": "stderr",
          "text": [
            "/usr/local/lib/python3.8/dist-packages/sklearn/metrics/_classification.py:1318: UndefinedMetricWarning: Precision and F-score are ill-defined and being set to 0.0 in labels with no predicted samples. Use `zero_division` parameter to control this behavior.\n",
            "  _warn_prf(average, modifier, msg_start, len(result))\n",
            "/usr/local/lib/python3.8/dist-packages/sklearn/metrics/_classification.py:1318: UndefinedMetricWarning: Precision and F-score are ill-defined and being set to 0.0 in labels with no predicted samples. Use `zero_division` parameter to control this behavior.\n",
            "  _warn_prf(average, modifier, msg_start, len(result))\n",
            "/usr/local/lib/python3.8/dist-packages/sklearn/metrics/_classification.py:1318: UndefinedMetricWarning: Precision and F-score are ill-defined and being set to 0.0 in labels with no predicted samples. Use `zero_division` parameter to control this behavior.\n",
            "  _warn_prf(average, modifier, msg_start, len(result))\n"
          ]
        }
      ]
    },
    {
      "cell_type": "markdown",
      "metadata": {
        "id": "vdX1IU-Fl7Ak"
      },
      "source": [
        "**Step 4 | Evaluating The Predection**"
      ]
    },
    {
      "cell_type": "markdown",
      "metadata": {
        "id": "zPdZLTTQmqa9"
      },
      "source": [
        "We predicted the test results and now we will evaluate if our logistic regression model learned and understood correctly. So this confusion matrix is going to contain the correct predictions that our model made on the set as well as the incorrect predictions."
      ]
    },
    {
      "cell_type": "markdown",
      "metadata": {
        "id": "bxjKgSYvmBDn"
      },
      "source": [
        "**Making the Confusion Matrix**"
      ]
    },
    {
      "cell_type": "code",
      "metadata": {
        "id": "2_afjfcjlp88",
        "colab": {
          "base_uri": "https://localhost:8080/"
        },
        "outputId": "6efa3f6e-2f2f-4a55-c5c1-5106378d2a8f"
      },
      "source": [
        "matrix1=confusion_matrix(y_test,y_predict)\n",
        "matrix1"
      ],
      "execution_count": 13,
      "outputs": [
        {
          "output_type": "execute_result",
          "data": {
            "text/plain": [
              "array([[78,  0],\n",
              "       [42,  0]])"
            ]
          },
          "metadata": {},
          "execution_count": 13
        }
      ]
    },
    {
      "cell_type": "markdown",
      "metadata": {
        "id": "DARs2T8GmG3v"
      },
      "source": [
        "**Visualization**"
      ]
    },
    {
      "cell_type": "code",
      "metadata": {
        "id": "v_qMnhVilqBW",
        "colab": {
          "base_uri": "https://localhost:8080/",
          "height": 432
        },
        "outputId": "8e9c39ce-dd6d-4a5a-cabb-19ef300d1216"
      },
      "source": [
        "from mlxtend.plotting import plot_confusion_matrix\n",
        "fig, ax = plot_confusion_matrix(conf_mat=matrix1, figsize=(6, 6), cmap=plt.cm.Greens)\n",
        "plt.xlabel('Predictions', fontsize=18)\n",
        "plt.ylabel('Actuals', fontsize=18)\n",
        "plt.title('Confusion Matrix', fontsize=18)\n",
        "plt.show()"
      ],
      "execution_count": 14,
      "outputs": [
        {
          "output_type": "display_data",
          "data": {
            "text/plain": [
              "<Figure size 432x432 with 1 Axes>"
            ],
            "image/png": "[encoded data removed]"
          },
          "metadata": {
            "needs_background": "light"
          }
        }
      ]
    }
  ]
}