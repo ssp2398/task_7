{
  "nbformat": 4,
  "nbformat_minor": 0,
  "metadata": {
    "colab": {
      "provenance": []
    },
    "kernelspec": {
      "name": "python3",
      "display_name": "Python 3"
    },
    "language_info": {
      "name": "python"
    }
  },
  "cells": [
    {
      "cell_type": "code",
      "metadata": {
        "id": "OTEpzVunhgga"
      },
      "source": [
        "#Social_Network_Ads.csv"
      ],
      "execution_count": 1,
      "outputs": []
    },
    {
      "cell_type": "markdown",
      "metadata": {
        "id": "Qa5Bo_A9h3kB"
      },
      "source": [
        "**Import libraries**"
      ]
    },
    {
      "cell_type": "code",
      "metadata": {
        "id": "pFIDCPu9h1DO"
      },
      "source": [
        "import pandas as pd \n",
        "import numpy as nm  \n",
        "import matplotlib.pyplot as mtp  \n",
        "from sklearn.model_selection import train_test_split\n",
        "from sklearn.preprocessing import StandardScaler\n",
        "from sklearn.metrics import confusion_matrix  \n",
        "from sklearn.svm import SVC"
      ],
      "execution_count": 2,
      "outputs": []
    },
    {
      "cell_type": "markdown",
      "metadata": {
        "id": "L9CQXJjkiKRq"
      },
      "source": [
        "**Importing the dataset**"
      ]
    },
    {
      "cell_type": "code",
      "metadata": {
        "id": "ZNiJnC7hh1HC",
        "outputId": "09be5940-e2df-4495-bd76-cc702e7c34ae",
        "colab": {
          "base_uri": "https://localhost:8080/",
          "height": 206
        }
      },
      "source": [
        "df=pd.read_csv('Social_Network_Ads.csv')\n",
        "df.head()"
      ],
      "execution_count": 3,
      "outputs": [
        {
          "output_type": "execute_result",
          "data": {
            "text/plain": [
              "    User ID  Gender  Age  EstimatedSalary  Purchased\n",
              "0  15624510    Male   19            19000          0\n",
              "1  15810944    Male   35            20000          0\n",
              "2  15668575  Female   26            43000          0\n",
              "3  15603246  Female   27            57000          0\n",
              "4  15804002    Male   19            76000          0"
            ],
            "text/html": [
              "\n",
              "  <div id=\"df-c78fb3c0-bc49-4d61-9fd5-060725f2c76c\">\n",
              "    <div class=\"colab-df-container\">\n",
              "      <div>\n",
              "<style scoped>\n",
              "    .dataframe tbody tr th:only-of-type {\n",
              "        vertical-align: middle;\n",
              "    }\n",
              "\n",
              "    .dataframe tbody tr th {\n",
              "        vertical-align: top;\n",
              "    }\n",
              "\n",
              "    .dataframe thead th {\n",
              "        text-align: right;\n",
              "    }\n",
              "</style>\n",
              "<table border=\"1\" class=\"dataframe\">\n",
              "  <thead>\n",
              "    <tr style=\"text-align: right;\">\n",
              "      <th></th>\n",
              "      <th>User ID</th>\n",
              "      <th>Gender</th>\n",
              "      <th>Age</th>\n",
              "      <th>EstimatedSalary</th>\n",
              "      <th>Purchased</th>\n",
              "    </tr>\n",
              "  </thead>\n",
              "  <tbody>\n",
              "    <tr>\n",
              "      <th>0</th>\n",
              "      <td>15624510</td>\n",
              "      <td>Male</td>\n",
              "      <td>19</td>\n",
              "      <td>19000</td>\n",
              "      <td>0</td>\n",
              "    </tr>\n",
              "    <tr>\n",
              "      <th>1</th>\n",
              "      <td>15810944</td>\n",
              "      <td>Male</td>\n",
              "      <td>35</td>\n",
              "      <td>20000</td>\n",
              "      <td>0</td>\n",
              "    </tr>\n",
              "    <tr>\n",
              "      <th>2</th>\n",
              "      <td>15668575</td>\n",
              "      <td>Female</td>\n",
              "      <td>26</td>\n",
              "      <td>43000</td>\n",
              "      <td>0</td>\n",
              "    </tr>\n",
              "    <tr>\n",
              "      <th>3</th>\n",
              "      <td>15603246</td>\n",
              "      <td>Female</td>\n",
              "      <td>27</td>\n",
              "      <td>57000</td>\n",
              "      <td>0</td>\n",
              "    </tr>\n",
              "    <tr>\n",
              "      <th>4</th>\n",
              "      <td>15804002</td>\n",
              "      <td>Male</td>\n",
              "      <td>19</td>\n",
              "      <td>76000</td>\n",
              "      <td>0</td>\n",
              "    </tr>\n",
              "  </tbody>\n",
              "</table>\n",
              "</div>\n",
              "      <button class=\"colab-df-convert\" onclick=\"convertToInteractive('df-c78fb3c0-bc49-4d61-9fd5-060725f2c76c')\"\n",
              "              title=\"Convert this dataframe to an interactive table.\"\n",
              "              style=\"display:none;\">\n",
              "        \n",
              "  <svg xmlns=\"http://www.w3.org/2000/svg\" height=\"24px\"viewBox=\"0 0 24 24\"\n",
              "       width=\"24px\">\n",
              "    <path d=\"M0 0h24v24H0V0z\" fill=\"none\"/>\n",
              "    <path d=\"M18.56 5.44l.94 2.06.94-2.06 2.06-.94-2.06-.94-.94-2.06-.94 2.06-2.06.94zm-11 1L8.5 8.5l.94-2.06 2.06-.94-2.06-.94L8.5 2.5l-.94 2.06-2.06.94zm10 10l.94 2.06.94-2.06 2.06-.94-2.06-.94-.94-2.06-.94 2.06-2.06.94z\"/><path d=\"M17.41 7.96l-1.37-1.37c-.4-.4-.92-.59-1.43-.59-.52 0-1.04.2-1.43.59L10.3 9.45l-7.72 7.72c-.78.78-.78 2.05 0 2.83L4 21.41c.39.39.9.59 1.41.59.51 0 1.02-.2 1.41-.59l7.78-7.78 2.81-2.81c.8-.78.8-2.07 0-2.86zM5.41 20L4 18.59l7.72-7.72 1.47 1.35L5.41 20z\"/>\n",
              "  </svg>\n",
              "      </button>\n",
              "      \n",
              "  <style>\n",
              "    .colab-df-container {\n",
              "      display:flex;\n",
              "      flex-wrap:wrap;\n",
              "      gap: 12px;\n",
              "    }\n",
              "\n",
              "    .colab-df-convert {\n",
              "      background-color: #E8F0FE;\n",
              "      border: none;\n",
              "      border-radius: 50%;\n",
              "      cursor: pointer;\n",
              "      display: none;\n",
              "      fill: #1967D2;\n",
              "      height: 32px;\n",
              "      padding: 0 0 0 0;\n",
              "      width: 32px;\n",
              "    }\n",
              "\n",
              "    .colab-df-convert:hover {\n",
              "      background-color: #E2EBFA;\n",
              "      box-shadow: 0px 1px 2px rgba(60, 64, 67, 0.3), 0px 1px 3px 1px rgba(60, 64, 67, 0.15);\n",
              "      fill: #174EA6;\n",
              "    }\n",
              "\n",
              "    [theme=dark] .colab-df-convert {\n",
              "      background-color: #3B4455;\n",
              "      fill: #D2E3FC;\n",
              "    }\n",
              "\n",
              "    [theme=dark] .colab-df-convert:hover {\n",
              "      background-color: #434B5C;\n",
              "      box-shadow: 0px 1px 3px 1px rgba(0, 0, 0, 0.15);\n",
              "      filter: drop-shadow(0px 1px 2px rgba(0, 0, 0, 0.3));\n",
              "      fill: #FFFFFF;\n",
              "    }\n",
              "  </style>\n",
              "\n",
              "      <script>\n",
              "        const buttonEl =\n",
              "          document.querySelector('#df-c78fb3c0-bc49-4d61-9fd5-060725f2c76c button.colab-df-convert');\n",
              "        buttonEl.style.display =\n",
              "          google.colab.kernel.accessAllowed ? 'block' : 'none';\n",
              "\n",
              "        async function convertToInteractive(key) {\n",
              "          const element = document.querySelector('#df-c78fb3c0-bc49-4d61-9fd5-060725f2c76c');\n",
              "          const dataTable =\n",
              "            await google.colab.kernel.invokeFunction('convertToInteractive',\n",
              "                                                     [key], {});\n",
              "          if (!dataTable) return;\n",
              "\n",
              "          const docLinkHtml = 'Like what you see? Visit the ' +\n",
              "            '<a target=\"_blank\" href=https://colab.research.google.com/notebooks/data_table.ipynb>data table notebook</a>'\n",
              "            + ' to learn more about interactive tables.';\n",
              "          element.innerHTML = '';\n",
              "          dataTable['output_type'] = 'display_data';\n",
              "          await google.colab.output.renderOutput(dataTable, element);\n",
              "          const docLink = document.createElement('div');\n",
              "          docLink.innerHTML = docLinkHtml;\n",
              "          element.appendChild(docLink);\n",
              "        }\n",
              "      </script>\n",
              "    </div>\n",
              "  </div>\n",
              "  "
            ]
          },
          "metadata": {},
          "execution_count": 3
        }
      ]
    },
    {
      "cell_type": "code",
      "source": [
        "df1=df.drop(['User ID','Gender'],axis=1)\n",
        "df1"
      ],
      "metadata": {
        "id": "KxvSOQMKwTl4",
        "outputId": "3fe30b11-4473-48e7-9973-ec486d1af90b",
        "colab": {
          "base_uri": "https://localhost:8080/",
          "height": 424
        }
      },
      "execution_count": 4,
      "outputs": [
        {
          "output_type": "execute_result",
          "data": {
            "text/plain": [
              "     Age  EstimatedSalary  Purchased\n",
              "0     19            19000          0\n",
              "1     35            20000          0\n",
              "2     26            43000          0\n",
              "3     27            57000          0\n",
              "4     19            76000          0\n",
              "..   ...              ...        ...\n",
              "395   46            41000          1\n",
              "396   51            23000          1\n",
              "397   50            20000          1\n",
              "398   36            33000          0\n",
              "399   49            36000          1\n",
              "\n",
              "[400 rows x 3 columns]"
            ],
            "text/html": [
              "\n",
              "  <div id=\"df-51f74239-c010-4c02-a974-19c91ec98edc\">\n",
              "    <div class=\"colab-df-container\">\n",
              "      <div>\n",
              "<style scoped>\n",
              "    .dataframe tbody tr th:only-of-type {\n",
              "        vertical-align: middle;\n",
              "    }\n",
              "\n",
              "    .dataframe tbody tr th {\n",
              "        vertical-align: top;\n",
              "    }\n",
              "\n",
              "    .dataframe thead th {\n",
              "        text-align: right;\n",
              "    }\n",
              "</style>\n",
              "<table border=\"1\" class=\"dataframe\">\n",
              "  <thead>\n",
              "    <tr style=\"text-align: right;\">\n",
              "      <th></th>\n",
              "      <th>Age</th>\n",
              "      <th>EstimatedSalary</th>\n",
              "      <th>Purchased</th>\n",
              "    </tr>\n",
              "  </thead>\n",
              "  <tbody>\n",
              "    <tr>\n",
              "      <th>0</th>\n",
              "      <td>19</td>\n",
              "      <td>19000</td>\n",
              "      <td>0</td>\n",
              "    </tr>\n",
              "    <tr>\n",
              "      <th>1</th>\n",
              "      <td>35</td>\n",
              "      <td>20000</td>\n",
              "      <td>0</td>\n",
              "    </tr>\n",
              "    <tr>\n",
              "      <th>2</th>\n",
              "      <td>26</td>\n",
              "      <td>43000</td>\n",
              "      <td>0</td>\n",
              "    </tr>\n",
              "    <tr>\n",
              "      <th>3</th>\n",
              "      <td>27</td>\n",
              "      <td>57000</td>\n",
              "      <td>0</td>\n",
              "    </tr>\n",
              "    <tr>\n",
              "      <th>4</th>\n",
              "      <td>19</td>\n",
              "      <td>76000</td>\n",
              "      <td>0</td>\n",
              "    </tr>\n",
              "    <tr>\n",
              "      <th>...</th>\n",
              "      <td>...</td>\n",
              "      <td>...</td>\n",
              "      <td>...</td>\n",
              "    </tr>\n",
              "    <tr>\n",
              "      <th>395</th>\n",
              "      <td>46</td>\n",
              "      <td>41000</td>\n",
              "      <td>1</td>\n",
              "    </tr>\n",
              "    <tr>\n",
              "      <th>396</th>\n",
              "      <td>51</td>\n",
              "      <td>23000</td>\n",
              "      <td>1</td>\n",
              "    </tr>\n",
              "    <tr>\n",
              "      <th>397</th>\n",
              "      <td>50</td>\n",
              "      <td>20000</td>\n",
              "      <td>1</td>\n",
              "    </tr>\n",
              "    <tr>\n",
              "      <th>398</th>\n",
              "      <td>36</td>\n",
              "      <td>33000</td>\n",
              "      <td>0</td>\n",
              "    </tr>\n",
              "    <tr>\n",
              "      <th>399</th>\n",
              "      <td>49</td>\n",
              "      <td>36000</td>\n",
              "      <td>1</td>\n",
              "    </tr>\n",
              "  </tbody>\n",
              "</table>\n",
              "<p>400 rows × 3 columns</p>\n",
              "</div>\n",
              "      <button class=\"colab-df-convert\" onclick=\"convertToInteractive('df-51f74239-c010-4c02-a974-19c91ec98edc')\"\n",
              "              title=\"Convert this dataframe to an interactive table.\"\n",
              "              style=\"display:none;\">\n",
              "        \n",
              "  <svg xmlns=\"http://www.w3.org/2000/svg\" height=\"24px\"viewBox=\"0 0 24 24\"\n",
              "       width=\"24px\">\n",
              "    <path d=\"M0 0h24v24H0V0z\" fill=\"none\"/>\n",
              "    <path d=\"M18.56 5.44l.94 2.06.94-2.06 2.06-.94-2.06-.94-.94-2.06-.94 2.06-2.06.94zm-11 1L8.5 8.5l.94-2.06 2.06-.94-2.06-.94L8.5 2.5l-.94 2.06-2.06.94zm10 10l.94 2.06.94-2.06 2.06-.94-2.06-.94-.94-2.06-.94 2.06-2.06.94z\"/><path d=\"M17.41 7.96l-1.37-1.37c-.4-.4-.92-.59-1.43-.59-.52 0-1.04.2-1.43.59L10.3 9.45l-7.72 7.72c-.78.78-.78 2.05 0 2.83L4 21.41c.39.39.9.59 1.41.59.51 0 1.02-.2 1.41-.59l7.78-7.78 2.81-2.81c.8-.78.8-2.07 0-2.86zM5.41 20L4 18.59l7.72-7.72 1.47 1.35L5.41 20z\"/>\n",
              "  </svg>\n",
              "      </button>\n",
              "      \n",
              "  <style>\n",
              "    .colab-df-container {\n",
              "      display:flex;\n",
              "      flex-wrap:wrap;\n",
              "      gap: 12px;\n",
              "    }\n",
              "\n",
              "    .colab-df-convert {\n",
              "      background-color: #E8F0FE;\n",
              "      border: none;\n",
              "      border-radius: 50%;\n",
              "      cursor: pointer;\n",
              "      display: none;\n",
              "      fill: #1967D2;\n",
              "      height: 32px;\n",
              "      padding: 0 0 0 0;\n",
              "      width: 32px;\n",
              "    }\n",
              "\n",
              "    .colab-df-convert:hover {\n",
              "      background-color: #E2EBFA;\n",
              "      box-shadow: 0px 1px 2px rgba(60, 64, 67, 0.3), 0px 1px 3px 1px rgba(60, 64, 67, 0.15);\n",
              "      fill: #174EA6;\n",
              "    }\n",
              "\n",
              "    [theme=dark] .colab-df-convert {\n",
              "      background-color: #3B4455;\n",
              "      fill: #D2E3FC;\n",
              "    }\n",
              "\n",
              "    [theme=dark] .colab-df-convert:hover {\n",
              "      background-color: #434B5C;\n",
              "      box-shadow: 0px 1px 3px 1px rgba(0, 0, 0, 0.15);\n",
              "      filter: drop-shadow(0px 1px 2px rgba(0, 0, 0, 0.3));\n",
              "      fill: #FFFFFF;\n",
              "    }\n",
              "  </style>\n",
              "\n",
              "      <script>\n",
              "        const buttonEl =\n",
              "          document.querySelector('#df-51f74239-c010-4c02-a974-19c91ec98edc button.colab-df-convert');\n",
              "        buttonEl.style.display =\n",
              "          google.colab.kernel.accessAllowed ? 'block' : 'none';\n",
              "\n",
              "        async function convertToInteractive(key) {\n",
              "          const element = document.querySelector('#df-51f74239-c010-4c02-a974-19c91ec98edc');\n",
              "          const dataTable =\n",
              "            await google.colab.kernel.invokeFunction('convertToInteractive',\n",
              "                                                     [key], {});\n",
              "          if (!dataTable) return;\n",
              "\n",
              "          const docLinkHtml = 'Like what you see? Visit the ' +\n",
              "            '<a target=\"_blank\" href=https://colab.research.google.com/notebooks/data_table.ipynb>data table notebook</a>'\n",
              "            + ' to learn more about interactive tables.';\n",
              "          element.innerHTML = '';\n",
              "          dataTable['output_type'] = 'display_data';\n",
              "          await google.colab.output.renderOutput(dataTable, element);\n",
              "          const docLink = document.createElement('div');\n",
              "          docLink.innerHTML = docLinkHtml;\n",
              "          element.appendChild(docLink);\n",
              "        }\n",
              "      </script>\n",
              "    </div>\n",
              "  </div>\n",
              "  "
            ]
          },
          "metadata": {},
          "execution_count": 4
        }
      ]
    },
    {
      "cell_type": "markdown",
      "metadata": {
        "id": "GpelPvR4iSxv"
      },
      "source": [
        "**Splitting the dataset into the Training set and Test set**"
      ]
    },
    {
      "cell_type": "code",
      "metadata": {
        "id": "eROg-IDUh1JZ"
      },
      "source": [
        "x=df1[['Age','EstimatedSalary']].values\n",
        "y=df1['Purchased'].values\n",
        "\n",
        "x_train,x_test,y_train,y_test=train_test_split(x,y,test_size=0.3)"
      ],
      "execution_count": 5,
      "outputs": []
    },
    {
      "cell_type": "markdown",
      "metadata": {
        "id": "cwBqfX6WiZOx"
      },
      "source": [
        "**Feature Scaling**"
      ]
    },
    {
      "cell_type": "code",
      "metadata": {
        "id": "yCcfuhv_h1Lw",
        "outputId": "c0811706-e704-43db-8012-de5958cc6962",
        "colab": {
          "base_uri": "https://localhost:8080/"
        }
      },
      "source": [
        "scaling=StandardScaler()\n",
        "scaling.fit_transform(x_train,x_test)"
      ],
      "execution_count": 6,
      "outputs": [
        {
          "output_type": "execute_result",
          "data": {
            "text/plain": [
              "array([[ 2.14062944,  0.41639261],\n",
              "       [-0.05035174,  0.32833375],\n",
              "       [ 1.66432918,  1.64921666],\n",
              "       [-0.3361319 , -0.75772553],\n",
              "       [-0.9076922 , -1.08060801],\n",
              "       [-1.09821231, -1.55025527],\n",
              "       [-0.05035174,  0.18156898],\n",
              "       [ 0.71172867, -1.37413755],\n",
              "       [-1.38399246, -0.61096076],\n",
              "       [ 0.14016836, -0.28807827],\n",
              "       [-0.24087184, -1.28607869],\n",
              "       [-0.24087184, -0.25872532],\n",
              "       [-1.57451256, -1.55025527],\n",
              "       [ 1.66432918, -0.87513734],\n",
              "       [-1.09821231, -1.57960822],\n",
              "       [-0.62191205,  0.59251033],\n",
              "       [ 0.42594852,  0.62186329],\n",
              "       [-1.76503267,  0.47509852],\n",
              "       [ 0.33068846, -0.5229019 ],\n",
              "       [ 0.33068846, -1.13931392],\n",
              "       [-0.9076922 , -0.28807827],\n",
              "       [ 0.33068846,  0.09351012],\n",
              "       [ 1.95010934, -0.90449029],\n",
              "       [ 1.85484929, -0.25872532],\n",
              "       [ 0.90224877, -1.43284346],\n",
              "       [ 0.23542841, -0.28807827],\n",
              "       [-0.81243215,  0.41639261],\n",
              "       [-1.00295225, -1.52090232],\n",
              "       [-0.14561179,  1.44374598],\n",
              "       [ 0.99750882, -1.13931392],\n",
              "       [-1.66977261, -1.3447846 ],\n",
              "       [-0.7171721 ,  1.38504007],\n",
              "       [ 0.04490831,  1.29698121],\n",
              "       [-1.00295225,  0.44574556],\n",
              "       [-1.57451256, -0.02390169],\n",
              "       [ 0.71172867, -1.08060801],\n",
              "       [ 0.33068846, -0.49354895],\n",
              "       [-0.24087184, -1.3447846 ],\n",
              "       [ 0.33068846,  0.32833375],\n",
              "       [-0.81243215, -0.75772553],\n",
              "       [ 0.04490831, -0.28807827],\n",
              "       [-1.86029272,  0.50445147],\n",
              "       [ 0.04490831,  0.32833375],\n",
              "       [ 0.23542841, -0.34678418],\n",
              "       [-0.9076922 ,  0.59251033],\n",
              "       [-0.05035174,  0.03480422],\n",
              "       [ 1.09276887, -0.9631962 ],\n",
              "       [-0.14561179,  0.18156898],\n",
              "       [-0.62191205, -0.0826076 ],\n",
              "       [ 0.90224877, -0.64031371],\n",
              "       [-0.14561179,  1.64921666],\n",
              "       [ 0.33068846, -0.69901962],\n",
              "       [-1.28873241, -1.46219641],\n",
              "       [-0.14561179,  1.67856961],\n",
              "       [-1.86029272,  0.38703966],\n",
              "       [ 0.52120857,  1.26762826],\n",
              "       [ 0.90224877,  1.29698121],\n",
              "       [-0.526652  , -1.49154936],\n",
              "       [ 2.14062944, -0.78707848],\n",
              "       [ 0.80698872, -0.81643143],\n",
              "       [ 1.37854903, -0.90449029],\n",
              "       [ 1.66432918,  1.79598142],\n",
              "       [-0.24087184,  0.09351012],\n",
              "       [ 2.14062944, -1.02190211],\n",
              "       [-1.28873241, -1.08060801],\n",
              "       [-0.526652  , -1.49154936],\n",
              "       [ 0.23542841,  0.18156898],\n",
              "       [-0.24087184,  0.12286308],\n",
              "       [ 0.23542841, -0.34678418],\n",
              "       [ 0.90224877, -1.3447846 ],\n",
              "       [-1.28873241, -0.40549009],\n",
              "       [ 0.42594852, -0.11196055],\n",
              "       [ 1.85484929, -1.25672574],\n",
              "       [ 2.04536939, -1.16866688],\n",
              "       [-1.47925251, -1.22737278],\n",
              "       [-0.05035174,  2.26562868],\n",
              "       [-1.09821231, -0.49354895],\n",
              "       [ 0.80698872,  0.2989808 ],\n",
              "       [ 1.09276887,  0.50445147],\n",
              "       [ 0.71172867, -0.69901962],\n",
              "       [-0.43139195,  0.00545126],\n",
              "       [-0.05035174,  0.09351012],\n",
              "       [-1.00295225, -0.43484304],\n",
              "       [-0.14561179, -1.05125506],\n",
              "       [ 0.90224877, -0.5229019 ],\n",
              "       [ 0.33068846,  0.2989808 ],\n",
              "       [-0.526652  ,  2.38304049],\n",
              "       [ 0.33068846,  0.09351012],\n",
              "       [ 2.14062944, -0.66966667],\n",
              "       [ 0.42594852,  1.15021645],\n",
              "       [ 0.80698872, -0.28807827],\n",
              "       [ 1.47380908,  0.09351012],\n",
              "       [ 0.42594852, -0.1413135 ],\n",
              "       [ 0.99750882, -0.81643143],\n",
              "       [ 0.23542841,  0.18156898],\n",
              "       [ 1.56906913,  0.03480422],\n",
              "       [-0.05035174,  0.32833375],\n",
              "       [ 0.42594852,  1.03280463],\n",
              "       [ 0.42594852,  0.32833375],\n",
              "       [ 1.56906913,  1.15021645],\n",
              "       [-1.38399246, -1.19801983],\n",
              "       [ 1.28328898,  1.91339324],\n",
              "       [ 0.33068846,  0.09351012],\n",
              "       [ 2.14062944,  1.15021645],\n",
              "       [ 0.42594852, -0.43484304],\n",
              "       [ 0.99750882,  2.03080505],\n",
              "       [-0.62191205,  0.15221603],\n",
              "       [-0.14561179,  0.88603987],\n",
              "       [-0.24087184,  2.29498163],\n",
              "       [ 0.42594852, -0.43484304],\n",
              "       [ 0.14016836,  0.2989808 ],\n",
              "       [ 0.33068846,  0.53380442],\n",
              "       [ 0.23542841,  1.12086349],\n",
              "       [-0.43139195, -1.10996097],\n",
              "       [ 0.80698872, -1.19801983],\n",
              "       [ 0.42594852,  2.35368754],\n",
              "       [-0.24087184,  0.18156898],\n",
              "       [-0.3361319 ,  1.26762826],\n",
              "       [-0.43139195, -0.25872532],\n",
              "       [-1.28873241, -1.3447846 ],\n",
              "       [-0.9076922 , -0.28807827],\n",
              "       [-1.09821231, -1.13931392],\n",
              "       [ 0.90224877, -1.13931392],\n",
              "       [-1.09821231,  0.32833375],\n",
              "       [ 1.75958923, -0.25872532],\n",
              "       [-1.09821231,  1.44374598],\n",
              "       [ 1.75958923,  1.03280463],\n",
              "       [-1.00295225, -0.31743123],\n",
              "       [ 0.33068846, -0.17066646],\n",
              "       [-0.81243215,  2.32433459],\n",
              "       [ 0.23542841,  0.06415717],\n",
              "       [ 0.80698872,  0.79798101],\n",
              "       [ 1.95010934,  0.94474577],\n",
              "       [-0.24087184, -0.46419599],\n",
              "       [-0.05035174,  2.20692277],\n",
              "       [ 0.04490831,  1.26762826],\n",
              "       [-1.47925251, -0.17066646],\n",
              "       [-1.66977261,  0.38703966],\n",
              "       [ 0.33068846, -0.25872532],\n",
              "       [ 0.14016836,  0.79798101],\n",
              "       [-0.81243215, -0.22937236],\n",
              "       [-0.24087184,  0.24027489],\n",
              "       [-0.3361319 , -1.28607869],\n",
              "       [ 1.37854903,  0.62186329],\n",
              "       [-1.76503267,  0.21092194],\n",
              "       [ 2.04536939,  0.56315738],\n",
              "       [-1.47925251,  0.3576867 ],\n",
              "       [-0.24087184, -1.43284346],\n",
              "       [-0.9076922 , -0.72837257],\n",
              "       [-0.3361319 ,  0.09351012],\n",
              "       [ 1.37854903,  2.03080505],\n",
              "       [ 0.33068846,  0.06415717],\n",
              "       [-1.76503267,  0.03480422],\n",
              "       [ 1.18802893, -0.72837257],\n",
              "       [-0.9076922 ,  0.53380442],\n",
              "       [ 1.56906913, -1.25672574],\n",
              "       [-0.05035174,  0.15221603],\n",
              "       [-0.526652  ,  1.41439303],\n",
              "       [-1.38399246, -0.17066646],\n",
              "       [ 1.09276887, -1.19801983],\n",
              "       [-1.00295225,  0.56315738],\n",
              "       [ 1.75958923,  1.88404028],\n",
              "       [ 0.42594852,  0.32833375],\n",
              "       [-1.57451256,  0.56315738],\n",
              "       [-1.09821231, -0.99254915],\n",
              "       [-0.05035174,  0.06415717],\n",
              "       [ 1.95010934, -1.3447846 ],\n",
              "       [-1.00295225,  0.59251033],\n",
              "       [ 1.95010934, -0.64031371],\n",
              "       [ 1.37854903, -1.4034905 ],\n",
              "       [ 0.33068846, -0.28807827],\n",
              "       [ 2.14062944, -0.78707848],\n",
              "       [-0.14561179,  2.20692277],\n",
              "       [-0.05035174,  0.2989808 ],\n",
              "       [-1.09821231,  0.3576867 ],\n",
              "       [ 0.14016836,  0.24027489],\n",
              "       [-0.62191205,  1.44374598],\n",
              "       [-0.24087184, -0.64031371],\n",
              "       [-0.9076922 ,  0.2989808 ],\n",
              "       [-1.28873241, -0.40549009],\n",
              "       [-0.7171721 , -0.58160781],\n",
              "       [ 0.14016836,  1.91339324],\n",
              "       [ 0.14016836,  1.09151054],\n",
              "       [ 0.14016836, -0.22937236],\n",
              "       [-1.00295225, -0.31743123],\n",
              "       [ 0.99750882, -1.05125506],\n",
              "       [-1.76503267, -1.25672574],\n",
              "       [ 1.09276887, -0.11196055],\n",
              "       [ 0.80698872,  0.56315738],\n",
              "       [-0.7171721 , -1.52090232],\n",
              "       [ 0.99750882,  2.11886391],\n",
              "       [ 0.42594852,  0.12286308],\n",
              "       [ 2.04536939,  0.21092194],\n",
              "       [ 0.80698872, -1.3447846 ],\n",
              "       [ 0.04490831,  0.06415717],\n",
              "       [ 0.33068846,  0.09351012],\n",
              "       [-1.28873241, -0.31743123],\n",
              "       [ 1.47380908,  1.03280463],\n",
              "       [ 0.14016836, -0.78707848],\n",
              "       [-1.66977261, -0.58160781],\n",
              "       [-0.24087184,  1.15021645],\n",
              "       [ 0.42594852,  0.2989808 ],\n",
              "       [-1.19347236,  0.32833375],\n",
              "       [ 0.14016836,  1.91339324],\n",
              "       [-1.38399246, -1.43284346],\n",
              "       [-0.81243215,  0.32833375],\n",
              "       [ 0.99750882,  1.82533438],\n",
              "       [-0.81243215, -0.75772553],\n",
              "       [-1.00295225,  0.79798101],\n",
              "       [-0.24087184, -0.31743123],\n",
              "       [-0.43139195, -1.19801983],\n",
              "       [ 0.14016836,  0.12286308],\n",
              "       [-1.09821231, -1.57960822],\n",
              "       [-0.9076922 ,  0.47509852],\n",
              "       [-1.86029272, -0.02390169],\n",
              "       [-0.24087184, -0.72837257],\n",
              "       [ 0.23542841, -0.34678418],\n",
              "       [-0.24087184, -0.34678418],\n",
              "       [-0.9076922 ,  0.44574556],\n",
              "       [ 0.61646862,  2.060158  ],\n",
              "       [-1.86029272, -0.72837257],\n",
              "       [-0.05035174, -0.34678418],\n",
              "       [-0.43139195, -0.75772553],\n",
              "       [-1.00295225,  2.0014521 ],\n",
              "       [ 1.09276887, -1.19801983],\n",
              "       [-0.05035174,  2.0014521 ],\n",
              "       [ 0.04490831, -0.11196055],\n",
              "       [-1.19347236, -1.05125506],\n",
              "       [-1.00295225, -1.10996097],\n",
              "       [ 2.04536939,  2.17756982],\n",
              "       [ 0.99750882, -1.16866688],\n",
              "       [ 1.47380908, -1.02190211],\n",
              "       [-0.43139195,  2.35368754],\n",
              "       [ 0.90224877,  2.20692277],\n",
              "       [-0.24087184,  0.65121624],\n",
              "       [-0.24087184,  0.56315738],\n",
              "       [-0.7171721 ,  1.94274619],\n",
              "       [-0.526652  ,  0.91539282],\n",
              "       [-0.62191205,  0.06415717],\n",
              "       [-0.24087184, -1.37413755],\n",
              "       [-0.24087184, -0.28807827],\n",
              "       [ 0.90224877, -0.58160781],\n",
              "       [-0.24087184, -0.55225485],\n",
              "       [ 0.42594852, -0.46419599],\n",
              "       [-0.7171721 , -0.20001941],\n",
              "       [ 1.18802893, -1.43284346],\n",
              "       [ 0.14016836, -0.78707848],\n",
              "       [ 0.80698872,  0.15221603],\n",
              "       [ 0.99750882,  0.79798101],\n",
              "       [ 0.71172867,  0.2989808 ],\n",
              "       [-0.14561179, -0.43484304],\n",
              "       [-0.24087184, -1.22737278],\n",
              "       [ 1.95010934,  0.76862805],\n",
              "       [ 1.09276887,  0.59251033],\n",
              "       [ 0.80698872,  1.41439303],\n",
              "       [-0.62191205, -0.02390169],\n",
              "       [ 0.04490831,  0.06415717],\n",
              "       [-1.09821231,  0.32833375],\n",
              "       [ 0.90224877,  1.12086349],\n",
              "       [-1.28873241,  0.44574556],\n",
              "       [-0.526652  ,  1.94274619],\n",
              "       [-1.76503267, -1.28607869],\n",
              "       [-1.47925251, -1.49154936],\n",
              "       [-1.76503267, -1.4034905 ],\n",
              "       [-0.05035174, -0.40549009],\n",
              "       [ 0.04490831, -0.40549009],\n",
              "       [-1.47925251, -0.40549009],\n",
              "       [-1.38399246, -0.0826076 ],\n",
              "       [ 0.99750882, -1.05125506],\n",
              "       [-0.05035174, -0.20001941],\n",
              "       [-0.05035174,  0.26962784],\n",
              "       [-0.81243215, -0.64031371],\n",
              "       [ 0.42594852,  0.03480422],\n",
              "       [-0.7171721 ,  0.32833375],\n",
              "       [-1.09821231, -1.52090232],\n",
              "       [-0.24087184, -0.22937236],\n",
              "       [-0.24087184, -0.55225485],\n",
              "       [-0.14561179, -0.25872532],\n",
              "       [ 0.23542841,  0.26962784],\n",
              "       [-0.7171721 , -1.57960822]])"
            ]
          },
          "metadata": {},
          "execution_count": 6
        }
      ]
    },
    {
      "cell_type": "markdown",
      "metadata": {
        "id": "OUGszSAKinhN"
      },
      "source": [
        "**Fitting SVM to the Training set**"
      ]
    },
    {
      "cell_type": "code",
      "metadata": {
        "id": "FLIzMPkOh1Ob",
        "colab": {
          "base_uri": "https://localhost:8080/"
        },
        "outputId": "e2552288-75ec-4d81-be75-83e5ed5ba253"
      },
      "source": [
        "classifier = SVC(C= .1, kernel='linear', gamma= 1)\n",
        "classifier.fit(x_train, y_train)\n",
        " "
      ],
      "execution_count": 7,
      "outputs": [
        {
          "output_type": "execute_result",
          "data": {
            "text/plain": [
              "SVC(C=0.1, gamma=1, kernel='linear')"
            ]
          },
          "metadata": {},
          "execution_count": 7
        }
      ]
    },
    {
      "cell_type": "markdown",
      "metadata": {
        "id": "aW3yFyofiqtE"
      },
      "source": [
        "**Predicting the Test set results**"
      ]
    },
    {
      "cell_type": "code",
      "metadata": {
        "id": "aG_OGjavh1Q4"
      },
      "source": [
        "y_pred= classifier.predict(x_test)  "
      ],
      "execution_count": 8,
      "outputs": []
    },
    {
      "cell_type": "markdown",
      "metadata": {
        "id": "4Kfn-chPi4Ts"
      },
      "source": [
        "**Making the Confusion Matrix**"
      ]
    },
    {
      "cell_type": "code",
      "metadata": {
        "id": "G7VPRN2Ah1Tm"
      },
      "source": [
        "cm= confusion_matrix(y_test, y_pred)  "
      ],
      "execution_count": 9,
      "outputs": []
    },
    {
      "cell_type": "markdown",
      "metadata": {
        "id": "7Fo3I-pKi7JQ"
      },
      "source": [
        "**Visualising the Training set results**"
      ]
    },
    {
      "cell_type": "code",
      "metadata": {
        "id": "hI3xXh_oh1XK",
        "outputId": "5cab2006-7530-4dbf-e704-faaae4a5b69f",
        "colab": {
          "base_uri": "https://localhost:8080/",
          "height": 283
        }
      },
      "source": [
        "mtp.scatter(x_train[:, 0], x_train[:, 1], c=y_train)\n",
        "mtp.legend()\n",
        "mtp.show()\n"
      ],
      "execution_count": 10,
      "outputs": [
        {
          "output_type": "stream",
          "name": "stderr",
          "text": [
            "WARNING:matplotlib.legend:No handles with labels found to put in legend.\n"
          ]
        },
        {
          "output_type": "display_data",
          "data": {
            "text/plain": [
              "<Figure size 432x288 with 1 Axes>"
            ],
            "image/png": "[encoded data removed]"
          },
          "metadata": {
            "needs_background": "light"
          }
        }
      ]
    },
    {
      "cell_type": "markdown",
      "metadata": {
        "id": "FudAc9-6jSS9"
      },
      "source": [
        "**Visualising the Test set results**"
      ]
    },
    {
      "cell_type": "code",
      "metadata": {
        "id": "Q3aQCPffjHqj",
        "outputId": "a059a9ae-7cd0-4b55-df73-ed46d9afa6e4",
        "colab": {
          "base_uri": "https://localhost:8080/",
          "height": 283
        }
      },
      "source": [
        "mtp.scatter(x_test[:, 0], x_test[:, 1], c=y_test)\n",
        "mtp.legend()\n",
        "mtp.show()\n",
        "\n"
      ],
      "execution_count": 11,
      "outputs": [
        {
          "output_type": "stream",
          "name": "stderr",
          "text": [
            "WARNING:matplotlib.legend:No handles with labels found to put in legend.\n"
          ]
        },
        {
          "output_type": "display_data",
          "data": {
            "text/plain": [
              "<Figure size 432x288 with 1 Axes>"
            ],
            "image/png": "[encoded data removed]"
          },
          "metadata": {
            "needs_background": "light"
          }
        }
      ]
    },
    {
      "cell_type": "code",
      "source": [
        "from matplotlib.colors import ListedColormap\n",
        "markers = ('s', 'x', 'o')\n",
        "colors = ('red', 'blue', 'lightgreen')\n",
        "cmap = ListedColormap(colors[:len(nm.unique(y_test))])\n",
        "for idx, cl in enumerate(nm.unique(y)):\n",
        "    mtp.scatter(x=x[y == cl, 0], y=x[y == cl, 1],\n",
        "               c=cmap(idx), marker=markers[idx], label=cl)"
      ],
      "metadata": {
        "id": "ZBlJYicN5NnS",
        "outputId": "91d44651-5f4b-4964-dbec-292dcd090f06",
        "colab": {
          "base_uri": "https://localhost:8080/",
          "height": 321
        }
      },
      "execution_count": 12,
      "outputs": [
        {
          "output_type": "stream",
          "name": "stderr",
          "text": [
            "WARNING:matplotlib.axes._axes:*c* argument looks like a single numeric RGB or RGBA sequence, which should be avoided as value-mapping will have precedence in case its length matches with *x* & *y*.  Please use the *color* keyword-argument or provide a 2-D array with a single row if you intend to specify the same RGB or RGBA value for all points.\n",
            "WARNING:matplotlib.axes._axes:*c* argument looks like a single numeric RGB or RGBA sequence, which should be avoided as value-mapping will have precedence in case its length matches with *x* & *y*.  Please use the *color* keyword-argument or provide a 2-D array with a single row if you intend to specify the same RGB or RGBA value for all points.\n"
          ]
        },
        {
          "output_type": "display_data",
          "data": {
            "text/plain": [
              "<Figure size 432x288 with 1 Axes>"
            ],
            "image/png": "[encoded data removed]"
          },
          "metadata": {
            "needs_background": "light"
          }
        }
      ]
    },
    {
      "cell_type": "code",
      "source": [],
      "metadata": {
        "id": "ZzCqFcyN5-Lo"
      },
      "execution_count": 12,
      "outputs": []
    }
  ]
}