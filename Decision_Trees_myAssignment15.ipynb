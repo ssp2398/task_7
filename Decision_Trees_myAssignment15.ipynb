{
  "nbformat": 4,
  "nbformat_minor": 0,
  "metadata": {
    "colab": {
      "provenance": []
    },
    "kernelspec": {
      "name": "python3",
      "display_name": "Python 3"
    },
    "language_info": {
      "name": "python"
    }
  },
  "cells": [
    {
      "cell_type": "code",
      "metadata": {
        "id": "eqp7Q6rWnX20"
      },
      "source": [
        "#Social_Network_Ads.csv"
      ],
      "execution_count": 1,
      "outputs": []
    },
    {
      "cell_type": "markdown",
      "metadata": {
        "id": "1jSlqZcZnmrD"
      },
      "source": [
        "**Importing the libraries**"
      ]
    },
    {
      "cell_type": "code",
      "metadata": {
        "id": "ACJTKMfInp-E"
      },
      "source": [
        "import pandas as pd \n",
        "import numpy as nm  \n",
        "import matplotlib.pyplot as mtp  \n",
        "from sklearn.model_selection import train_test_split\n",
        "from sklearn.preprocessing import StandardScaler\n",
        "from sklearn.metrics import confusion_matrix  "
      ],
      "execution_count": 2,
      "outputs": []
    },
    {
      "cell_type": "markdown",
      "metadata": {
        "id": "fRZkaj-dnxIj"
      },
      "source": [
        "**Importing the dataset**"
      ]
    },
    {
      "cell_type": "code",
      "metadata": {
        "id": "SfTR4mVDnqBV",
        "colab": {
          "base_uri": "https://localhost:8080/",
          "height": 206
        },
        "outputId": "40443ff9-6833-400a-dc29-bf3b30a7dd8f"
      },
      "source": [
        "df=pd.read_csv('Social_Network_Ads.csv')\n",
        "df.head()"
      ],
      "execution_count": 3,
      "outputs": [
        {
          "output_type": "execute_result",
          "data": {
            "text/plain": [
              "    User ID  Gender  Age  EstimatedSalary  Purchased\n",
              "0  15624510    Male   19            19000          0\n",
              "1  15810944    Male   35            20000          0\n",
              "2  15668575  Female   26            43000          0\n",
              "3  15603246  Female   27            57000          0\n",
              "4  15804002    Male   19            76000          0"
            ],
            "text/html": [
              "\n",
              "  <div id=\"df-0444f841-3a09-46cc-bd6b-e3faabe8c9df\">\n",
              "    <div class=\"colab-df-container\">\n",
              "      <div>\n",
              "<style scoped>\n",
              "    .dataframe tbody tr th:only-of-type {\n",
              "        vertical-align: middle;\n",
              "    }\n",
              "\n",
              "    .dataframe tbody tr th {\n",
              "        vertical-align: top;\n",
              "    }\n",
              "\n",
              "    .dataframe thead th {\n",
              "        text-align: right;\n",
              "    }\n",
              "</style>\n",
              "<table border=\"1\" class=\"dataframe\">\n",
              "  <thead>\n",
              "    <tr style=\"text-align: right;\">\n",
              "      <th></th>\n",
              "      <th>User ID</th>\n",
              "      <th>Gender</th>\n",
              "      <th>Age</th>\n",
              "      <th>EstimatedSalary</th>\n",
              "      <th>Purchased</th>\n",
              "    </tr>\n",
              "  </thead>\n",
              "  <tbody>\n",
              "    <tr>\n",
              "      <th>0</th>\n",
              "      <td>15624510</td>\n",
              "      <td>Male</td>\n",
              "      <td>19</td>\n",
              "      <td>19000</td>\n",
              "      <td>0</td>\n",
              "    </tr>\n",
              "    <tr>\n",
              "      <th>1</th>\n",
              "      <td>15810944</td>\n",
              "      <td>Male</td>\n",
              "      <td>35</td>\n",
              "      <td>20000</td>\n",
              "      <td>0</td>\n",
              "    </tr>\n",
              "    <tr>\n",
              "      <th>2</th>\n",
              "      <td>15668575</td>\n",
              "      <td>Female</td>\n",
              "      <td>26</td>\n",
              "      <td>43000</td>\n",
              "      <td>0</td>\n",
              "    </tr>\n",
              "    <tr>\n",
              "      <th>3</th>\n",
              "      <td>15603246</td>\n",
              "      <td>Female</td>\n",
              "      <td>27</td>\n",
              "      <td>57000</td>\n",
              "      <td>0</td>\n",
              "    </tr>\n",
              "    <tr>\n",
              "      <th>4</th>\n",
              "      <td>15804002</td>\n",
              "      <td>Male</td>\n",
              "      <td>19</td>\n",
              "      <td>76000</td>\n",
              "      <td>0</td>\n",
              "    </tr>\n",
              "  </tbody>\n",
              "</table>\n",
              "</div>\n",
              "      <button class=\"colab-df-convert\" onclick=\"convertToInteractive('df-0444f841-3a09-46cc-bd6b-e3faabe8c9df')\"\n",
              "              title=\"Convert this dataframe to an interactive table.\"\n",
              "              style=\"display:none;\">\n",
              "        \n",
              "  <svg xmlns=\"http://www.w3.org/2000/svg\" height=\"24px\"viewBox=\"0 0 24 24\"\n",
              "       width=\"24px\">\n",
              "    <path d=\"M0 0h24v24H0V0z\" fill=\"none\"/>\n",
              "    <path d=\"M18.56 5.44l.94 2.06.94-2.06 2.06-.94-2.06-.94-.94-2.06-.94 2.06-2.06.94zm-11 1L8.5 8.5l.94-2.06 2.06-.94-2.06-.94L8.5 2.5l-.94 2.06-2.06.94zm10 10l.94 2.06.94-2.06 2.06-.94-2.06-.94-.94-2.06-.94 2.06-2.06.94z\"/><path d=\"M17.41 7.96l-1.37-1.37c-.4-.4-.92-.59-1.43-.59-.52 0-1.04.2-1.43.59L10.3 9.45l-7.72 7.72c-.78.78-.78 2.05 0 2.83L4 21.41c.39.39.9.59 1.41.59.51 0 1.02-.2 1.41-.59l7.78-7.78 2.81-2.81c.8-.78.8-2.07 0-2.86zM5.41 20L4 18.59l7.72-7.72 1.47 1.35L5.41 20z\"/>\n",
              "  </svg>\n",
              "      </button>\n",
              "      \n",
              "  <style>\n",
              "    .colab-df-container {\n",
              "      display:flex;\n",
              "      flex-wrap:wrap;\n",
              "      gap: 12px;\n",
              "    }\n",
              "\n",
              "    .colab-df-convert {\n",
              "      background-color: #E8F0FE;\n",
              "      border: none;\n",
              "      border-radius: 50%;\n",
              "      cursor: pointer;\n",
              "      display: none;\n",
              "      fill: #1967D2;\n",
              "      height: 32px;\n",
              "      padding: 0 0 0 0;\n",
              "      width: 32px;\n",
              "    }\n",
              "\n",
              "    .colab-df-convert:hover {\n",
              "      background-color: #E2EBFA;\n",
              "      box-shadow: 0px 1px 2px rgba(60, 64, 67, 0.3), 0px 1px 3px 1px rgba(60, 64, 67, 0.15);\n",
              "      fill: #174EA6;\n",
              "    }\n",
              "\n",
              "    [theme=dark] .colab-df-convert {\n",
              "      background-color: #3B4455;\n",
              "      fill: #D2E3FC;\n",
              "    }\n",
              "\n",
              "    [theme=dark] .colab-df-convert:hover {\n",
              "      background-color: #434B5C;\n",
              "      box-shadow: 0px 1px 3px 1px rgba(0, 0, 0, 0.15);\n",
              "      filter: drop-shadow(0px 1px 2px rgba(0, 0, 0, 0.3));\n",
              "      fill: #FFFFFF;\n",
              "    }\n",
              "  </style>\n",
              "\n",
              "      <script>\n",
              "        const buttonEl =\n",
              "          document.querySelector('#df-0444f841-3a09-46cc-bd6b-e3faabe8c9df button.colab-df-convert');\n",
              "        buttonEl.style.display =\n",
              "          google.colab.kernel.accessAllowed ? 'block' : 'none';\n",
              "\n",
              "        async function convertToInteractive(key) {\n",
              "          const element = document.querySelector('#df-0444f841-3a09-46cc-bd6b-e3faabe8c9df');\n",
              "          const dataTable =\n",
              "            await google.colab.kernel.invokeFunction('convertToInteractive',\n",
              "                                                     [key], {});\n",
              "          if (!dataTable) return;\n",
              "\n",
              "          const docLinkHtml = 'Like what you see? Visit the ' +\n",
              "            '<a target=\"_blank\" href=https://colab.research.google.com/notebooks/data_table.ipynb>data table notebook</a>'\n",
              "            + ' to learn more about interactive tables.';\n",
              "          element.innerHTML = '';\n",
              "          dataTable['output_type'] = 'display_data';\n",
              "          await google.colab.output.renderOutput(dataTable, element);\n",
              "          const docLink = document.createElement('div');\n",
              "          docLink.innerHTML = docLinkHtml;\n",
              "          element.appendChild(docLink);\n",
              "        }\n",
              "      </script>\n",
              "    </div>\n",
              "  </div>\n",
              "  "
            ]
          },
          "metadata": {},
          "execution_count": 3
        }
      ]
    },
    {
      "cell_type": "code",
      "source": [
        "df1=df.drop(['User ID','Gender'],axis=1)\n",
        "df1"
      ],
      "metadata": {
        "colab": {
          "base_uri": "https://localhost:8080/",
          "height": 424
        },
        "id": "q9Q04GWT5jHK",
        "outputId": "a439d048-0e39-44ba-9ba9-05b3c5dacd87"
      },
      "execution_count": 4,
      "outputs": [
        {
          "output_type": "execute_result",
          "data": {
            "text/plain": [
              "     Age  EstimatedSalary  Purchased\n",
              "0     19            19000          0\n",
              "1     35            20000          0\n",
              "2     26            43000          0\n",
              "3     27            57000          0\n",
              "4     19            76000          0\n",
              "..   ...              ...        ...\n",
              "395   46            41000          1\n",
              "396   51            23000          1\n",
              "397   50            20000          1\n",
              "398   36            33000          0\n",
              "399   49            36000          1\n",
              "\n",
              "[400 rows x 3 columns]"
            ],
            "text/html": [
              "\n",
              "  <div id=\"df-8caf8667-d7eb-45a6-b9cf-679bcae63fdd\">\n",
              "    <div class=\"colab-df-container\">\n",
              "      <div>\n",
              "<style scoped>\n",
              "    .dataframe tbody tr th:only-of-type {\n",
              "        vertical-align: middle;\n",
              "    }\n",
              "\n",
              "    .dataframe tbody tr th {\n",
              "        vertical-align: top;\n",
              "    }\n",
              "\n",
              "    .dataframe thead th {\n",
              "        text-align: right;\n",
              "    }\n",
              "</style>\n",
              "<table border=\"1\" class=\"dataframe\">\n",
              "  <thead>\n",
              "    <tr style=\"text-align: right;\">\n",
              "      <th></th>\n",
              "      <th>Age</th>\n",
              "      <th>EstimatedSalary</th>\n",
              "      <th>Purchased</th>\n",
              "    </tr>\n",
              "  </thead>\n",
              "  <tbody>\n",
              "    <tr>\n",
              "      <th>0</th>\n",
              "      <td>19</td>\n",
              "      <td>19000</td>\n",
              "      <td>0</td>\n",
              "    </tr>\n",
              "    <tr>\n",
              "      <th>1</th>\n",
              "      <td>35</td>\n",
              "      <td>20000</td>\n",
              "      <td>0</td>\n",
              "    </tr>\n",
              "    <tr>\n",
              "      <th>2</th>\n",
              "      <td>26</td>\n",
              "      <td>43000</td>\n",
              "      <td>0</td>\n",
              "    </tr>\n",
              "    <tr>\n",
              "      <th>3</th>\n",
              "      <td>27</td>\n",
              "      <td>57000</td>\n",
              "      <td>0</td>\n",
              "    </tr>\n",
              "    <tr>\n",
              "      <th>4</th>\n",
              "      <td>19</td>\n",
              "      <td>76000</td>\n",
              "      <td>0</td>\n",
              "    </tr>\n",
              "    <tr>\n",
              "      <th>...</th>\n",
              "      <td>...</td>\n",
              "      <td>...</td>\n",
              "      <td>...</td>\n",
              "    </tr>\n",
              "    <tr>\n",
              "      <th>395</th>\n",
              "      <td>46</td>\n",
              "      <td>41000</td>\n",
              "      <td>1</td>\n",
              "    </tr>\n",
              "    <tr>\n",
              "      <th>396</th>\n",
              "      <td>51</td>\n",
              "      <td>23000</td>\n",
              "      <td>1</td>\n",
              "    </tr>\n",
              "    <tr>\n",
              "      <th>397</th>\n",
              "      <td>50</td>\n",
              "      <td>20000</td>\n",
              "      <td>1</td>\n",
              "    </tr>\n",
              "    <tr>\n",
              "      <th>398</th>\n",
              "      <td>36</td>\n",
              "      <td>33000</td>\n",
              "      <td>0</td>\n",
              "    </tr>\n",
              "    <tr>\n",
              "      <th>399</th>\n",
              "      <td>49</td>\n",
              "      <td>36000</td>\n",
              "      <td>1</td>\n",
              "    </tr>\n",
              "  </tbody>\n",
              "</table>\n",
              "<p>400 rows × 3 columns</p>\n",
              "</div>\n",
              "      <button class=\"colab-df-convert\" onclick=\"convertToInteractive('df-8caf8667-d7eb-45a6-b9cf-679bcae63fdd')\"\n",
              "              title=\"Convert this dataframe to an interactive table.\"\n",
              "              style=\"display:none;\">\n",
              "        \n",
              "  <svg xmlns=\"http://www.w3.org/2000/svg\" height=\"24px\"viewBox=\"0 0 24 24\"\n",
              "       width=\"24px\">\n",
              "    <path d=\"M0 0h24v24H0V0z\" fill=\"none\"/>\n",
              "    <path d=\"M18.56 5.44l.94 2.06.94-2.06 2.06-.94-2.06-.94-.94-2.06-.94 2.06-2.06.94zm-11 1L8.5 8.5l.94-2.06 2.06-.94-2.06-.94L8.5 2.5l-.94 2.06-2.06.94zm10 10l.94 2.06.94-2.06 2.06-.94-2.06-.94-.94-2.06-.94 2.06-2.06.94z\"/><path d=\"M17.41 7.96l-1.37-1.37c-.4-.4-.92-.59-1.43-.59-.52 0-1.04.2-1.43.59L10.3 9.45l-7.72 7.72c-.78.78-.78 2.05 0 2.83L4 21.41c.39.39.9.59 1.41.59.51 0 1.02-.2 1.41-.59l7.78-7.78 2.81-2.81c.8-.78.8-2.07 0-2.86zM5.41 20L4 18.59l7.72-7.72 1.47 1.35L5.41 20z\"/>\n",
              "  </svg>\n",
              "      </button>\n",
              "      \n",
              "  <style>\n",
              "    .colab-df-container {\n",
              "      display:flex;\n",
              "      flex-wrap:wrap;\n",
              "      gap: 12px;\n",
              "    }\n",
              "\n",
              "    .colab-df-convert {\n",
              "      background-color: #E8F0FE;\n",
              "      border: none;\n",
              "      border-radius: 50%;\n",
              "      cursor: pointer;\n",
              "      display: none;\n",
              "      fill: #1967D2;\n",
              "      height: 32px;\n",
              "      padding: 0 0 0 0;\n",
              "      width: 32px;\n",
              "    }\n",
              "\n",
              "    .colab-df-convert:hover {\n",
              "      background-color: #E2EBFA;\n",
              "      box-shadow: 0px 1px 2px rgba(60, 64, 67, 0.3), 0px 1px 3px 1px rgba(60, 64, 67, 0.15);\n",
              "      fill: #174EA6;\n",
              "    }\n",
              "\n",
              "    [theme=dark] .colab-df-convert {\n",
              "      background-color: #3B4455;\n",
              "      fill: #D2E3FC;\n",
              "    }\n",
              "\n",
              "    [theme=dark] .colab-df-convert:hover {\n",
              "      background-color: #434B5C;\n",
              "      box-shadow: 0px 1px 3px 1px rgba(0, 0, 0, 0.15);\n",
              "      filter: drop-shadow(0px 1px 2px rgba(0, 0, 0, 0.3));\n",
              "      fill: #FFFFFF;\n",
              "    }\n",
              "  </style>\n",
              "\n",
              "      <script>\n",
              "        const buttonEl =\n",
              "          document.querySelector('#df-8caf8667-d7eb-45a6-b9cf-679bcae63fdd button.colab-df-convert');\n",
              "        buttonEl.style.display =\n",
              "          google.colab.kernel.accessAllowed ? 'block' : 'none';\n",
              "\n",
              "        async function convertToInteractive(key) {\n",
              "          const element = document.querySelector('#df-8caf8667-d7eb-45a6-b9cf-679bcae63fdd');\n",
              "          const dataTable =\n",
              "            await google.colab.kernel.invokeFunction('convertToInteractive',\n",
              "                                                     [key], {});\n",
              "          if (!dataTable) return;\n",
              "\n",
              "          const docLinkHtml = 'Like what you see? Visit the ' +\n",
              "            '<a target=\"_blank\" href=https://colab.research.google.com/notebooks/data_table.ipynb>data table notebook</a>'\n",
              "            + ' to learn more about interactive tables.';\n",
              "          element.innerHTML = '';\n",
              "          dataTable['output_type'] = 'display_data';\n",
              "          await google.colab.output.renderOutput(dataTable, element);\n",
              "          const docLink = document.createElement('div');\n",
              "          docLink.innerHTML = docLinkHtml;\n",
              "          element.appendChild(docLink);\n",
              "        }\n",
              "      </script>\n",
              "    </div>\n",
              "  </div>\n",
              "  "
            ]
          },
          "metadata": {},
          "execution_count": 4
        }
      ]
    },
    {
      "cell_type": "markdown",
      "metadata": {
        "id": "9Thl3lvkn9Kr"
      },
      "source": [
        "**Splitting the dataset into the Training set and Test set**"
      ]
    },
    {
      "cell_type": "code",
      "metadata": {
        "id": "sp359H4XnqD3"
      },
      "source": [
        "x=df1[['Age','EstimatedSalary']].values\n",
        "y=df1['Purchased'].values\n",
        "\n",
        "x_train,x_test,y_train,y_test=train_test_split(x,y,test_size=0.3)"
      ],
      "execution_count": 5,
      "outputs": []
    },
    {
      "cell_type": "markdown",
      "metadata": {
        "id": "XNNxUncRoG6K"
      },
      "source": [
        "**Feature Scaling**"
      ]
    },
    {
      "cell_type": "code",
      "metadata": {
        "id": "loYjT47TnqIG",
        "colab": {
          "base_uri": "https://localhost:8080/"
        },
        "outputId": "e4130eb8-3751-442b-f287-fd33ef24ea10"
      },
      "source": [
        "scaling=StandardScaler()\n",
        "scaling.fit_transform(x_train,x_test)"
      ],
      "execution_count": 6,
      "outputs": [
        {
          "output_type": "execute_result",
          "data": {
            "text/plain": [
              "array([[ 0.03822119,  1.25906542],\n",
              "       [ 1.50173349, -1.26914466],\n",
              "       [-0.96794351,  0.612314  ],\n",
              "       [ 0.95291638,  0.612314  ],\n",
              "       [ 0.40409927, -0.44600649],\n",
              "       [ 1.0443859 , -0.12263079],\n",
              "       [-0.23618736, -0.56359766],\n",
              "       [-0.23618736, -1.23974687],\n",
              "       [ 0.86144686, -0.56359766],\n",
              "       [ 1.95908108,  0.40652946],\n",
              "       [-0.4191264 ,  2.3467837 ],\n",
              "       [-1.51676063,  0.55351842],\n",
              "       [ 0.67850782, -0.71058662],\n",
              "       [-0.23618736, -1.38673583],\n",
              "       [ 0.40409927, -0.47540429],\n",
              "       [ 0.95291638,  2.023408  ],\n",
              "       [-1.05941303,  0.31833609],\n",
              "       [-0.32765688,  1.34725879],\n",
              "       [-0.96794351,  0.78870075],\n",
              "       [ 2.0505506 , -0.79877999],\n",
              "       [ 0.31262975,  0.28893829],\n",
              "       [ 0.12969071,  1.08267867],\n",
              "       [-0.78500448, -1.21034908],\n",
              "       [-1.79116918, -0.50480208],\n",
              "       [ 0.5870383 , -0.88697337],\n",
              "       [ 1.22732493,  2.25859033],\n",
              "       [-0.60206544, -1.50432699],\n",
              "       [-1.33382159, -0.62239324],\n",
              "       [ 0.03822119, -0.12263079],\n",
              "       [-0.876474  ,  0.52412063],\n",
              "       [ 1.68467253, -0.26961975],\n",
              "       [-0.23618736, -0.91637116],\n",
              "       [-0.23618736, -0.56359766],\n",
              "       [-1.60823015,  0.49472284],\n",
              "       [-0.23618736,  0.05375596],\n",
              "       [-0.78500448,  0.17134713],\n",
              "       [ 0.03822119, -0.56359766],\n",
              "       [ 0.67850782, -1.38673583],\n",
              "       [-0.05324833, -0.47540429],\n",
              "       [-0.69353496,  0.58291621],\n",
              "       [-0.4191264 , -0.53419987],\n",
              "       [-0.69353496, -1.53372478],\n",
              "       [ 0.31262975, -0.18142637],\n",
              "       [-1.79116918, -0.03443741],\n",
              "       [-0.60206544,  0.05375596],\n",
              "       [-0.32765688,  1.25906542],\n",
              "       [ 1.41026397,  2.17039695],\n",
              "       [ 0.76997734, -0.29901754],\n",
              "       [-0.69353496,  1.93521462],\n",
              "       [ 1.0443859 ,  2.11160137],\n",
              "       [ 1.0443859 ,  0.58291621],\n",
              "       [ 1.86761157, -1.35733803],\n",
              "       [ 1.0443859 ,  0.49472284],\n",
              "       [-0.69353496, -0.59299545],\n",
              "       [ 1.59320301,  1.64123671],\n",
              "       [ 0.95291638,  0.14194934],\n",
              "       [ 0.03822119,  0.31833609],\n",
              "       [-0.05324833, -0.35781312],\n",
              "       [-1.24235207, -1.09275791],\n",
              "       [ 1.0443859 ,  0.55351842],\n",
              "       [-1.69969966,  0.20074492],\n",
              "       [-1.05941303, -1.00456453],\n",
              "       [-0.876474  , -0.4166087 ],\n",
              "       [-1.33382159, -1.44553141],\n",
              "       [ 0.31262975,  0.08315375],\n",
              "       [-0.23618736, -0.32841533],\n",
              "       [ 1.95908108,  1.78822566],\n",
              "       [-0.14471785, -0.44600649],\n",
              "       [-0.69353496,  1.11207646],\n",
              "       [-1.24235207, -0.32841533],\n",
              "       [-0.876474  , -0.29901754],\n",
              "       [-1.24235207,  0.43592725],\n",
              "       [-1.05941303, -1.56312257],\n",
              "       [ 2.0505506 ,  0.9650875 ],\n",
              "       [-0.876474  ,  1.58244112],\n",
              "       [-0.23618736, -1.35733803],\n",
              "       [-0.05324833,  2.19979475],\n",
              "       [ 0.76997734, -0.82817779],\n",
              "       [-1.24235207, -0.4166087 ],\n",
              "       [-1.05941303, -1.15155349],\n",
              "       [-1.24235207,  0.58291621],\n",
              "       [ 1.59320301, -0.88697337],\n",
              "       [-0.78500448, -0.65179104],\n",
              "       [-1.05941303, -1.09275791],\n",
              "       [ 0.76997734,  0.78870075],\n",
              "       [-0.23618736, -0.26961975],\n",
              "       [-0.876474  , -0.73998441],\n",
              "       [-0.32765688,  0.08315375],\n",
              "       [-1.05941303,  0.43592725],\n",
              "       [ 0.95291638,  2.11160137],\n",
              "       [-0.51059592,  1.40605437],\n",
              "       [ 0.5870383 ,  2.05280579],\n",
              "       [ 0.03822119, -0.29901754],\n",
              "       [-1.33382159, -1.21034908],\n",
              "       [ 0.95291638, -0.82817779],\n",
              "       [ 1.77614205, -0.26961975],\n",
              "       [-1.24235207, -1.23974687],\n",
              "       [ 0.22116023,  0.2595405 ],\n",
              "       [ 1.86761157,  0.93568971],\n",
              "       [ 0.86144686, -0.59299545],\n",
              "       [ 2.0505506 , -0.79877999],\n",
              "       [-0.23618736, -1.29854245],\n",
              "       [ 1.13585542, -1.44553141],\n",
              "       [-0.96794351,  0.58291621],\n",
              "       [-0.60206544, -1.59252037],\n",
              "       [-1.79116918, -0.73998441],\n",
              "       [ 1.0443859 ,  0.14194934],\n",
              "       [-0.05324833,  0.14194934],\n",
              "       [-0.23618736, -0.4166087 ],\n",
              "       [ 0.76997734,  0.37713167],\n",
              "       [ 0.03822119, -0.56359766],\n",
              "       [ 1.86761157, -0.91637116],\n",
              "       [-0.69353496, -0.21082416],\n",
              "       [ 0.22116023, -0.35781312],\n",
              "       [ 0.12969071,  1.90581683],\n",
              "       [-0.60206544, -1.03396233],\n",
              "       [-0.05324833, -1.06336012],\n",
              "       [-0.96794351,  0.55351842],\n",
              "       [-1.05941303, -0.7693822 ],\n",
              "       [ 1.0443859 , -1.21034908],\n",
              "       [ 1.41026397, -1.03396233],\n",
              "       [ 0.67850782, -1.38673583],\n",
              "       [-0.05324833,  0.17134713],\n",
              "       [ 0.86144686, -1.29854245],\n",
              "       [ 0.31262975, -0.50480208],\n",
              "       [-0.05324833,  0.70050738],\n",
              "       [-0.96794351, -1.44553141],\n",
              "       [ 0.22116023, -0.65179104],\n",
              "       [-0.96794351, -1.1221557 ],\n",
              "       [-0.14471785,  1.43545217],\n",
              "       [-0.60206544,  0.20074492],\n",
              "       [ 1.86761157,  0.75930296],\n",
              "       [ 0.49556879,  1.87641904],\n",
              "       [-1.60823015,  0.37713167],\n",
              "       [-0.4191264 , -0.00503962],\n",
              "       [ 0.31262975,  0.05375596],\n",
              "       [-1.05941303,  1.43545217],\n",
              "       [ 0.12969071,  0.11255154],\n",
              "       [ 1.77614205,  0.14194934],\n",
              "       [-1.24235207, -1.35733803],\n",
              "       [ 2.0505506 ,  1.14147425],\n",
              "       [-0.78500448,  0.40652946],\n",
              "       [ 1.95908108, -0.79877999],\n",
              "       [ 0.40409927,  0.31833609],\n",
              "       [-0.51059592, -1.50432699],\n",
              "       [ 0.22116023,  0.05375596],\n",
              "       [ 0.95291638,  1.46484996],\n",
              "       [-0.05324833, -0.21082416],\n",
              "       [ 0.40409927,  0.28893829],\n",
              "       [-1.05941303,  0.34773388],\n",
              "       [ 0.67850782,  1.81762346],\n",
              "       [-1.15088255, -1.06336012],\n",
              "       [-1.69969966,  0.02435817],\n",
              "       [-1.60823015,  0.37713167],\n",
              "       [ 0.22116023,  0.17134713],\n",
              "       [ 0.49556879,  1.75882787],\n",
              "       [-0.60206544,  1.43545217],\n",
              "       [ 1.31879445, -1.41613362],\n",
              "       [-1.15088255,  0.28893829],\n",
              "       [ 0.12969071,  0.78870075],\n",
              "       [ 1.13585542, -0.73998441],\n",
              "       [ 0.31262975,  0.08315375],\n",
              "       [ 0.40409927,  1.14147425],\n",
              "       [ 1.22732493,  1.90581683],\n",
              "       [ 1.95908108,  2.17039695],\n",
              "       [-0.4191264 ,  1.28846321],\n",
              "       [-0.05324833,  2.25859033],\n",
              "       [-0.60206544,  0.58291621],\n",
              "       [-0.05324833, -0.4166087 ],\n",
              "       [ 0.86144686, -0.53419987],\n",
              "       [ 1.86761157,  2.19979475],\n",
              "       [-0.23618736,  0.55351842],\n",
              "       [-1.42529111,  0.34773388],\n",
              "       [ 0.12969071, -0.79877999],\n",
              "       [-0.23618736,  0.17134713],\n",
              "       [ 0.76997734, -1.09275791],\n",
              "       [ 0.12969071, -0.24022195],\n",
              "       [-0.14471785, -0.26961975],\n",
              "       [-1.60823015,  0.14194934],\n",
              "       [-0.14471785,  2.19979475],\n",
              "       [-1.15088255,  0.31833609],\n",
              "       [-1.15088255,  0.612314  ],\n",
              "       [ 1.0443859 , -1.21034908],\n",
              "       [ 0.31262975, -1.15155349],\n",
              "       [-1.51676063, -1.56312257],\n",
              "       [-1.79116918,  0.49472284],\n",
              "       [ 0.86144686, -1.35733803],\n",
              "       [-0.23618736,  0.11255154],\n",
              "       [ 0.12969071,  1.55304333],\n",
              "       [-0.23618736,  0.64171179],\n",
              "       [-0.60206544, -0.03443741],\n",
              "       [-0.23618736, -0.73998441],\n",
              "       [ 1.22732493, -1.35733803],\n",
              "       [-0.96794351,  1.99401021],\n",
              "       [-0.32765688, -0.7693822 ],\n",
              "       [ 0.31262975,  0.52412063],\n",
              "       [ 0.12969071,  0.28893829],\n",
              "       [-0.69353496,  0.31833609],\n",
              "       [ 0.76997734,  1.40605437],\n",
              "       [ 1.86761157, -0.65179104],\n",
              "       [ 0.12969071,  0.23014271],\n",
              "       [ 0.95291638, -1.06336012],\n",
              "       [ 1.77614205, -1.06336012],\n",
              "       [ 1.68467253,  1.02388308],\n",
              "       [-1.15088255,  0.52412063],\n",
              "       [-0.14471785, -0.50480208],\n",
              "       [-0.14471785,  1.6706345 ],\n",
              "       [-1.69969966, -1.4749292 ],\n",
              "       [ 0.31262975, -0.29901754],\n",
              "       [-1.69969966, -1.29854245],\n",
              "       [-0.23618736, -0.12263079],\n",
              "       [ 0.86144686, -0.65179104],\n",
              "       [ 0.31262975,  0.08315375],\n",
              "       [ 1.50173349,  0.02435817],\n",
              "       [ 0.86144686,  1.05328088],\n",
              "       [ 0.31262975, -0.71058662],\n",
              "       [-1.69969966, -1.26914466],\n",
              "       [ 0.95291638, -1.18095128],\n",
              "       [-0.23618736, -1.44553141],\n",
              "       [-0.05324833,  0.08315375],\n",
              "       [-0.69353496,  0.28893829],\n",
              "       [-0.60206544, -0.093233  ],\n",
              "       [ 0.31262975, -0.26961975],\n",
              "       [-0.05324833,  0.31833609],\n",
              "       [ 0.40409927,  0.11255154],\n",
              "       [-0.23618736,  0.08315375],\n",
              "       [-1.42529111, -0.4166087 ],\n",
              "       [ 0.86144686, -0.7693822 ],\n",
              "       [ 2.0505506 , -1.03396233],\n",
              "       [ 1.41026397,  1.02388308],\n",
              "       [-0.78500448,  0.31833609],\n",
              "       [ 0.22116023, -0.35781312],\n",
              "       [ 0.95291638, -1.00456453],\n",
              "       [ 2.0505506 , -0.68118883],\n",
              "       [-0.23618736,  0.81809854],\n",
              "       [-0.51059592,  0.49472284],\n",
              "       [ 1.95908108, -1.18095128],\n",
              "       [ 0.22116023,  1.11207646],\n",
              "       [ 0.86144686,  1.11207646],\n",
              "       [-0.876474  ,  0.28893829],\n",
              "       [-1.05941303,  0.08315375],\n",
              "       [ 0.86144686, -1.03396233],\n",
              "       [-1.05941303, -1.53372478],\n",
              "       [-1.60823015, -0.59299545],\n",
              "       [ 0.67850782,  0.28893829],\n",
              "       [-1.69969966,  0.46532504],\n",
              "       [-1.05941303,  0.49472284],\n",
              "       [ 0.12969071,  0.05375596],\n",
              "       [ 1.31879445,  1.317861  ],\n",
              "       [-1.51676063, -0.03443741],\n",
              "       [-0.14471785,  0.17134713],\n",
              "       [-0.78500448, -0.24022195],\n",
              "       [-0.32765688, -1.29854245],\n",
              "       [-0.23618736, -0.88697337],\n",
              "       [-0.23618736, -0.24022195],\n",
              "       [ 0.67850782, -1.09275791],\n",
              "       [-0.96794351, -1.53372478],\n",
              "       [ 0.76997734, -1.35733803],\n",
              "       [-0.876474  , -0.94576895],\n",
              "       [-0.96794351, -0.32841533],\n",
              "       [-1.24235207, -0.4166087 ],\n",
              "       [ 0.22116023,  0.17134713],\n",
              "       [-0.23618736,  0.23014271],\n",
              "       [-0.32765688, -0.7693822 ],\n",
              "       [-0.51059592,  1.40605437],\n",
              "       [-0.4191264 , -0.82817779],\n",
              "       [ 0.40409927,  2.3467837 ],\n",
              "       [-1.42529111, -1.50432699],\n",
              "       [ 0.03822119, -0.24022195],\n",
              "       [-1.33382159,  0.37713167],\n",
              "       [-0.96794351, -0.32841533],\n",
              "       [ 1.0443859 , -0.97516674],\n",
              "       [ 1.59320301,  1.78822566],\n",
              "       [ 0.40409927, -0.15202858],\n",
              "       [-0.876474  ,  0.46532504],\n",
              "       [ 0.22116023,  2.14099916],\n",
              "       [-0.876474  , -1.09275791],\n",
              "       [-0.69353496,  0.52412063],\n",
              "       [ 1.95908108,  0.20074492],\n",
              "       [ 1.77614205,  1.55304333]])"
            ]
          },
          "metadata": {},
          "execution_count": 6
        }
      ]
    },
    {
      "cell_type": "markdown",
      "metadata": {
        "id": "_VB4b09roPhq"
      },
      "source": [
        "**Fitting Decision Tree Classification to the Training set**"
      ]
    },
    {
      "cell_type": "code",
      "metadata": {
        "id": "0UxhDc2lnqKu",
        "colab": {
          "base_uri": "https://localhost:8080/"
        },
        "outputId": "a7de2bc7-d89c-4b69-c150-710e28c48666"
      },
      "source": [
        "from sklearn.tree import DecisionTreeClassifier  \n",
        "classifier= DecisionTreeClassifier(criterion='entropy', random_state=0)  \n",
        "classifier.fit(x_train, y_train)  "
      ],
      "execution_count": 7,
      "outputs": [
        {
          "output_type": "execute_result",
          "data": {
            "text/plain": [
              "DecisionTreeClassifier(criterion='entropy', random_state=0)"
            ]
          },
          "metadata": {},
          "execution_count": 7
        }
      ]
    },
    {
      "cell_type": "markdown",
      "metadata": {
        "id": "XOl6_ERWoYh2"
      },
      "source": [
        "**Predicting the Test set results**"
      ]
    },
    {
      "cell_type": "code",
      "metadata": {
        "id": "7xFCuAXjnqPN"
      },
      "source": [
        "y_pred= classifier.predict(x_test)  "
      ],
      "execution_count": 8,
      "outputs": []
    },
    {
      "cell_type": "markdown",
      "metadata": {
        "id": "pqaQ_HTZogaZ"
      },
      "source": [
        "**Making the Confusion Matrix**"
      ]
    },
    {
      "cell_type": "code",
      "metadata": {
        "id": "DdqNOMK8nqSs",
        "colab": {
          "base_uri": "https://localhost:8080/"
        },
        "outputId": "e504e941-69e7-4476-84f1-40353015878a"
      },
      "source": [
        "cm= confusion_matrix(y_test, y_pred)\n",
        "cm  "
      ],
      "execution_count": 13,
      "outputs": [
        {
          "output_type": "execute_result",
          "data": {
            "text/plain": [
              "array([[67,  7],\n",
              "       [14, 32]])"
            ]
          },
          "metadata": {},
          "execution_count": 13
        }
      ]
    },
    {
      "cell_type": "markdown",
      "metadata": {
        "id": "Ko5EDqqiopBl"
      },
      "source": [
        "**Visualising the Training set results**"
      ]
    },
    {
      "cell_type": "code",
      "metadata": {
        "id": "y7C-xZjFnqVC",
        "colab": {
          "base_uri": "https://localhost:8080/",
          "height": 283
        },
        "outputId": "13dd4820-7791-4492-934e-3677a918dfc8"
      },
      "source": [
        "mtp.scatter(x_train[:, 0], x_train[:, 1], c=y_train)\n",
        "mtp.legend()\n",
        "mtp.show()\n"
      ],
      "execution_count": 10,
      "outputs": [
        {
          "output_type": "stream",
          "name": "stderr",
          "text": [
            "WARNING:matplotlib.legend:No handles with labels found to put in legend.\n"
          ]
        },
        {
          "output_type": "display_data",
          "data": {
            "text/plain": [
              "<Figure size 432x288 with 1 Axes>"
            ],
            "image/png": "[encoded data removed]"
          },
          "metadata": {
            "needs_background": "light"
          }
        }
      ]
    },
    {
      "cell_type": "markdown",
      "metadata": {
        "id": "ExFSX84Hou9C"
      },
      "source": [
        "**Visualising the Test set results**"
      ]
    },
    {
      "cell_type": "code",
      "metadata": {
        "id": "zHbPz86Noj6d",
        "colab": {
          "base_uri": "https://localhost:8080/",
          "height": 283
        },
        "outputId": "4b0fe671-9655-44f1-8c19-14509fbf60cd"
      },
      "source": [
        "mtp.scatter(x_test[:, 0], x_test[:, 1], c=y_test)\n",
        "mtp.legend()\n",
        "mtp.show()\n"
      ],
      "execution_count": 11,
      "outputs": [
        {
          "output_type": "stream",
          "name": "stderr",
          "text": [
            "WARNING:matplotlib.legend:No handles with labels found to put in legend.\n"
          ]
        },
        {
          "output_type": "display_data",
          "data": {
            "text/plain": [
              "<Figure size 432x288 with 1 Axes>"
            ],
            "image/png": "[encoded data removed]"
          },
          "metadata": {
            "needs_background": "light"
          }
        }
      ]
    },
    {
      "cell_type": "code",
      "metadata": {
        "id": "Cexs-z2Lo4p0",
        "colab": {
          "base_uri": "https://localhost:8080/",
          "height": 321
        },
        "outputId": "c0818452-23e5-4f27-ce28-a556d7af7313"
      },
      "source": [
        "from matplotlib.colors import ListedColormap\n",
        "markers = ('s', 'x', 'o')\n",
        "colors = ('red', 'blue', 'lightgreen')\n",
        "cmap = ListedColormap(colors[:len(nm.unique(y_test))])\n",
        "for idx, cl in enumerate(nm.unique(y)):\n",
        "    mtp.scatter(x=x[y == cl, 0], y=x[y == cl, 1],\n",
        "               c=cmap(idx), marker=markers[idx], label=cl)"
      ],
      "execution_count": 12,
      "outputs": [
        {
          "output_type": "stream",
          "name": "stderr",
          "text": [
            "WARNING:matplotlib.axes._axes:*c* argument looks like a single numeric RGB or RGBA sequence, which should be avoided as value-mapping will have precedence in case its length matches with *x* & *y*.  Please use the *color* keyword-argument or provide a 2-D array with a single row if you intend to specify the same RGB or RGBA value for all points.\n",
            "WARNING:matplotlib.axes._axes:*c* argument looks like a single numeric RGB or RGBA sequence, which should be avoided as value-mapping will have precedence in case its length matches with *x* & *y*.  Please use the *color* keyword-argument or provide a 2-D array with a single row if you intend to specify the same RGB or RGBA value for all points.\n"
          ]
        },
        {
          "output_type": "display_data",
          "data": {
            "text/plain": [
              "<Figure size 432x288 with 1 Axes>"
            ],
            "image/png": "[encoded data removed]"
          },
          "metadata": {
            "needs_background": "light"
          }
        }
      ]
    },
    {
      "cell_type": "code",
      "metadata": {
        "id": "RjB1Bbi4o4tm"
      },
      "source": [],
      "execution_count": 12,
      "outputs": []
    },
    {
      "cell_type": "code",
      "metadata": {
        "id": "mRqoaIx_o4xV"
      },
      "source": [],
      "execution_count": 12,
      "outputs": []
    },
    {
      "cell_type": "code",
      "metadata": {
        "id": "m__02I84nqYf"
      },
      "source": [],
      "execution_count": 12,
      "outputs": []
    }
  ]
}