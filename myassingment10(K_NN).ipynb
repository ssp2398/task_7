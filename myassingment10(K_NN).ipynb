{
  "nbformat": 4,
  "nbformat_minor": 0,
  "metadata": {
    "colab": {
      "provenance": []
    },
    "kernelspec": {
      "name": "python3",
      "display_name": "Python 3"
    },
    "language_info": {
      "name": "python"
    }
  },
  "cells": [
    {
      "cell_type": "markdown",
      "source": [
        " You are provided with a dataset from USA Forensic Science Service\n",
        "which has description of 6 types of glass; defined in terms of their\n",
        "oxide content (i.e. Na, Fe, K, etc). Your task is to use K-Nearest\n",
        "Neighbor (KNN) classifier to classify the glasses."
      ],
      "metadata": {
        "id": "xLNP1QlHmuqL"
      }
    },
    {
      "cell_type": "markdown",
      "source": [
        "let's start with  Importing the basic libraries"
      ],
      "metadata": {
        "id": "mWUSBqG4nJI8"
      }
    },
    {
      "cell_type": "code",
      "execution_count": 1,
      "metadata": {
        "id": "e2Dhp0IcmaGL"
      },
      "outputs": [],
      "source": [
        "import pandas as pd\n",
        "import numpy as np\n",
        "import matplotlib.pyplot as plt\n",
        "from sklearn.neighbors import KNeighborsClassifier\n",
        "import warnings\n",
        "warnings.filterwarnings('ignore')"
      ]
    },
    {
      "cell_type": "markdown",
      "source": [
        "importing dataset "
      ],
      "metadata": {
        "id": "ez7mtwHjn4rs"
      }
    },
    {
      "cell_type": "markdown",
      "source": [
        "Attribute Information:\n",
        "\n",
        "1. Id number: 1 to 214\n",
        "2. RI: refractive index\n",
        "3. Na: Sodium (unit measurement: weight percent in corresponding oxide, as are attributes 4-10)\n",
        "4. Mg: Magnesium\n",
        "5. Al: Aluminum\n",
        "6. Si: Silicon\n",
        "7. K: Potassium\n",
        "8. Ca: Calcium\n",
        "9. Ba: Barium\n",
        "10. Fe: Iron\n",
        "11. Type of glass: (class attribute)\n",
        "           -- 1 building_windows_float_processed\n",
        "\n",
        "           -- 2 building_windows_non_float_processed\n",
        "\n",
        "           -- 3 vehicle_windows_float_processed\n",
        "\n",
        "           -- 4 vehicle_windows_non_float_processed\n",
        "\n",
        "           -- 5 containers\n",
        "\n",
        "           -- 6 tableware\n",
        "\n",
        "           -- 7 headlamps\n",
        "\n"
      ],
      "metadata": {
        "id": "l0P0bC8N9dFo"
      }
    },
    {
      "cell_type": "code",
      "source": [
        "columns=['Id','RI','Na','Mg','Al','Si','K','Ca','Ba','Fe','Glass_type']\n",
        "\n",
        "glass_data_train=pd.read_csv('trainKNN.txt',names=columns,index_col='Id')\n",
        "\n",
        "\n",
        "glass_data_test=pd.read_csv('testKNN.txt',names=columns,index_col='Id')"
      ],
      "metadata": {
        "id": "w0jA3ro-n1Pv"
      },
      "execution_count": 2,
      "outputs": []
    },
    {
      "cell_type": "code",
      "source": [
        "glass_data_train"
      ],
      "metadata": {
        "colab": {
          "base_uri": "https://localhost:8080/",
          "height": 455
        },
        "id": "PbH-UOEQ6isz",
        "outputId": "71ef4c01-afa0-413e-8619-a0dfaf4c4c44"
      },
      "execution_count": 3,
      "outputs": [
        {
          "output_type": "execute_result",
          "data": {
            "text/plain": [
              "          RI     Na    Mg    Al     Si     K    Ca    Ba   Fe  Glass_type\n",
              "Id                                                                       \n",
              "1    1.52101  13.64  4.49  1.10  71.78  0.06  8.75  0.00  0.0           1\n",
              "2    1.51761  13.89  3.60  1.36  72.73  0.48  7.83  0.00  0.0           1\n",
              "3    1.51618  13.53  3.55  1.54  72.99  0.39  7.78  0.00  0.0           1\n",
              "4    1.51766  13.21  3.69  1.29  72.61  0.57  8.22  0.00  0.0           1\n",
              "5    1.51742  13.27  3.62  1.24  73.08  0.55  8.07  0.00  0.0           1\n",
              "..       ...    ...   ...   ...    ...   ...   ...   ...  ...         ...\n",
              "207  1.51645  14.94  0.00  1.87  73.11  0.00  8.67  1.38  0.0           7\n",
              "208  1.51831  14.39  0.00  1.82  72.86  1.41  6.47  2.88  0.0           7\n",
              "209  1.51640  14.37  0.00  2.74  72.85  0.00  9.45  0.54  0.0           7\n",
              "210  1.51623  14.14  0.00  2.88  72.61  0.08  9.18  1.06  0.0           7\n",
              "211  1.51685  14.92  0.00  1.99  73.06  0.00  8.40  1.59  0.0           7\n",
              "\n",
              "[196 rows x 10 columns]"
            ],
            "text/html": [
              "\n",
              "  <div id=\"df-f4e7922d-bde7-434f-8fef-e6665ac96e73\">\n",
              "    <div class=\"colab-df-container\">\n",
              "      <div>\n",
              "<style scoped>\n",
              "    .dataframe tbody tr th:only-of-type {\n",
              "        vertical-align: middle;\n",
              "    }\n",
              "\n",
              "    .dataframe tbody tr th {\n",
              "        vertical-align: top;\n",
              "    }\n",
              "\n",
              "    .dataframe thead th {\n",
              "        text-align: right;\n",
              "    }\n",
              "</style>\n",
              "<table border=\"1\" class=\"dataframe\">\n",
              "  <thead>\n",
              "    <tr style=\"text-align: right;\">\n",
              "      <th></th>\n",
              "      <th>RI</th>\n",
              "      <th>Na</th>\n",
              "      <th>Mg</th>\n",
              "      <th>Al</th>\n",
              "      <th>Si</th>\n",
              "      <th>K</th>\n",
              "      <th>Ca</th>\n",
              "      <th>Ba</th>\n",
              "      <th>Fe</th>\n",
              "      <th>Glass_type</th>\n",
              "    </tr>\n",
              "    <tr>\n",
              "      <th>Id</th>\n",
              "      <th></th>\n",
              "      <th></th>\n",
              "      <th></th>\n",
              "      <th></th>\n",
              "      <th></th>\n",
              "      <th></th>\n",
              "      <th></th>\n",
              "      <th></th>\n",
              "      <th></th>\n",
              "      <th></th>\n",
              "    </tr>\n",
              "  </thead>\n",
              "  <tbody>\n",
              "    <tr>\n",
              "      <th>1</th>\n",
              "      <td>1.52101</td>\n",
              "      <td>13.64</td>\n",
              "      <td>4.49</td>\n",
              "      <td>1.10</td>\n",
              "      <td>71.78</td>\n",
              "      <td>0.06</td>\n",
              "      <td>8.75</td>\n",
              "      <td>0.00</td>\n",
              "      <td>0.0</td>\n",
              "      <td>1</td>\n",
              "    </tr>\n",
              "    <tr>\n",
              "      <th>2</th>\n",
              "      <td>1.51761</td>\n",
              "      <td>13.89</td>\n",
              "      <td>3.60</td>\n",
              "      <td>1.36</td>\n",
              "      <td>72.73</td>\n",
              "      <td>0.48</td>\n",
              "      <td>7.83</td>\n",
              "      <td>0.00</td>\n",
              "      <td>0.0</td>\n",
              "      <td>1</td>\n",
              "    </tr>\n",
              "    <tr>\n",
              "      <th>3</th>\n",
              "      <td>1.51618</td>\n",
              "      <td>13.53</td>\n",
              "      <td>3.55</td>\n",
              "      <td>1.54</td>\n",
              "      <td>72.99</td>\n",
              "      <td>0.39</td>\n",
              "      <td>7.78</td>\n",
              "      <td>0.00</td>\n",
              "      <td>0.0</td>\n",
              "      <td>1</td>\n",
              "    </tr>\n",
              "    <tr>\n",
              "      <th>4</th>\n",
              "      <td>1.51766</td>\n",
              "      <td>13.21</td>\n",
              "      <td>3.69</td>\n",
              "      <td>1.29</td>\n",
              "      <td>72.61</td>\n",
              "      <td>0.57</td>\n",
              "      <td>8.22</td>\n",
              "      <td>0.00</td>\n",
              "      <td>0.0</td>\n",
              "      <td>1</td>\n",
              "    </tr>\n",
              "    <tr>\n",
              "      <th>5</th>\n",
              "      <td>1.51742</td>\n",
              "      <td>13.27</td>\n",
              "      <td>3.62</td>\n",
              "      <td>1.24</td>\n",
              "      <td>73.08</td>\n",
              "      <td>0.55</td>\n",
              "      <td>8.07</td>\n",
              "      <td>0.00</td>\n",
              "      <td>0.0</td>\n",
              "      <td>1</td>\n",
              "    </tr>\n",
              "    <tr>\n",
              "      <th>...</th>\n",
              "      <td>...</td>\n",
              "      <td>...</td>\n",
              "      <td>...</td>\n",
              "      <td>...</td>\n",
              "      <td>...</td>\n",
              "      <td>...</td>\n",
              "      <td>...</td>\n",
              "      <td>...</td>\n",
              "      <td>...</td>\n",
              "      <td>...</td>\n",
              "    </tr>\n",
              "    <tr>\n",
              "      <th>207</th>\n",
              "      <td>1.51645</td>\n",
              "      <td>14.94</td>\n",
              "      <td>0.00</td>\n",
              "      <td>1.87</td>\n",
              "      <td>73.11</td>\n",
              "      <td>0.00</td>\n",
              "      <td>8.67</td>\n",
              "      <td>1.38</td>\n",
              "      <td>0.0</td>\n",
              "      <td>7</td>\n",
              "    </tr>\n",
              "    <tr>\n",
              "      <th>208</th>\n",
              "      <td>1.51831</td>\n",
              "      <td>14.39</td>\n",
              "      <td>0.00</td>\n",
              "      <td>1.82</td>\n",
              "      <td>72.86</td>\n",
              "      <td>1.41</td>\n",
              "      <td>6.47</td>\n",
              "      <td>2.88</td>\n",
              "      <td>0.0</td>\n",
              "      <td>7</td>\n",
              "    </tr>\n",
              "    <tr>\n",
              "      <th>209</th>\n",
              "      <td>1.51640</td>\n",
              "      <td>14.37</td>\n",
              "      <td>0.00</td>\n",
              "      <td>2.74</td>\n",
              "      <td>72.85</td>\n",
              "      <td>0.00</td>\n",
              "      <td>9.45</td>\n",
              "      <td>0.54</td>\n",
              "      <td>0.0</td>\n",
              "      <td>7</td>\n",
              "    </tr>\n",
              "    <tr>\n",
              "      <th>210</th>\n",
              "      <td>1.51623</td>\n",
              "      <td>14.14</td>\n",
              "      <td>0.00</td>\n",
              "      <td>2.88</td>\n",
              "      <td>72.61</td>\n",
              "      <td>0.08</td>\n",
              "      <td>9.18</td>\n",
              "      <td>1.06</td>\n",
              "      <td>0.0</td>\n",
              "      <td>7</td>\n",
              "    </tr>\n",
              "    <tr>\n",
              "      <th>211</th>\n",
              "      <td>1.51685</td>\n",
              "      <td>14.92</td>\n",
              "      <td>0.00</td>\n",
              "      <td>1.99</td>\n",
              "      <td>73.06</td>\n",
              "      <td>0.00</td>\n",
              "      <td>8.40</td>\n",
              "      <td>1.59</td>\n",
              "      <td>0.0</td>\n",
              "      <td>7</td>\n",
              "    </tr>\n",
              "  </tbody>\n",
              "</table>\n",
              "<p>196 rows × 10 columns</p>\n",
              "</div>\n",
              "      <button class=\"colab-df-convert\" onclick=\"convertToInteractive('df-f4e7922d-bde7-434f-8fef-e6665ac96e73')\"\n",
              "              title=\"Convert this dataframe to an interactive table.\"\n",
              "              style=\"display:none;\">\n",
              "        \n",
              "  <svg xmlns=\"http://www.w3.org/2000/svg\" height=\"24px\"viewBox=\"0 0 24 24\"\n",
              "       width=\"24px\">\n",
              "    <path d=\"M0 0h24v24H0V0z\" fill=\"none\"/>\n",
              "    <path d=\"M18.56 5.44l.94 2.06.94-2.06 2.06-.94-2.06-.94-.94-2.06-.94 2.06-2.06.94zm-11 1L8.5 8.5l.94-2.06 2.06-.94-2.06-.94L8.5 2.5l-.94 2.06-2.06.94zm10 10l.94 2.06.94-2.06 2.06-.94-2.06-.94-.94-2.06-.94 2.06-2.06.94z\"/><path d=\"M17.41 7.96l-1.37-1.37c-.4-.4-.92-.59-1.43-.59-.52 0-1.04.2-1.43.59L10.3 9.45l-7.72 7.72c-.78.78-.78 2.05 0 2.83L4 21.41c.39.39.9.59 1.41.59.51 0 1.02-.2 1.41-.59l7.78-7.78 2.81-2.81c.8-.78.8-2.07 0-2.86zM5.41 20L4 18.59l7.72-7.72 1.47 1.35L5.41 20z\"/>\n",
              "  </svg>\n",
              "      </button>\n",
              "      \n",
              "  <style>\n",
              "    .colab-df-container {\n",
              "      display:flex;\n",
              "      flex-wrap:wrap;\n",
              "      gap: 12px;\n",
              "    }\n",
              "\n",
              "    .colab-df-convert {\n",
              "      background-color: #E8F0FE;\n",
              "      border: none;\n",
              "      border-radius: 50%;\n",
              "      cursor: pointer;\n",
              "      display: none;\n",
              "      fill: #1967D2;\n",
              "      height: 32px;\n",
              "      padding: 0 0 0 0;\n",
              "      width: 32px;\n",
              "    }\n",
              "\n",
              "    .colab-df-convert:hover {\n",
              "      background-color: #E2EBFA;\n",
              "      box-shadow: 0px 1px 2px rgba(60, 64, 67, 0.3), 0px 1px 3px 1px rgba(60, 64, 67, 0.15);\n",
              "      fill: #174EA6;\n",
              "    }\n",
              "\n",
              "    [theme=dark] .colab-df-convert {\n",
              "      background-color: #3B4455;\n",
              "      fill: #D2E3FC;\n",
              "    }\n",
              "\n",
              "    [theme=dark] .colab-df-convert:hover {\n",
              "      background-color: #434B5C;\n",
              "      box-shadow: 0px 1px 3px 1px rgba(0, 0, 0, 0.15);\n",
              "      filter: drop-shadow(0px 1px 2px rgba(0, 0, 0, 0.3));\n",
              "      fill: #FFFFFF;\n",
              "    }\n",
              "  </style>\n",
              "\n",
              "      <script>\n",
              "        const buttonEl =\n",
              "          document.querySelector('#df-f4e7922d-bde7-434f-8fef-e6665ac96e73 button.colab-df-convert');\n",
              "        buttonEl.style.display =\n",
              "          google.colab.kernel.accessAllowed ? 'block' : 'none';\n",
              "\n",
              "        async function convertToInteractive(key) {\n",
              "          const element = document.querySelector('#df-f4e7922d-bde7-434f-8fef-e6665ac96e73');\n",
              "          const dataTable =\n",
              "            await google.colab.kernel.invokeFunction('convertToInteractive',\n",
              "                                                     [key], {});\n",
              "          if (!dataTable) return;\n",
              "\n",
              "          const docLinkHtml = 'Like what you see? Visit the ' +\n",
              "            '<a target=\"_blank\" href=https://colab.research.google.com/notebooks/data_table.ipynb>data table notebook</a>'\n",
              "            + ' to learn more about interactive tables.';\n",
              "          element.innerHTML = '';\n",
              "          dataTable['output_type'] = 'display_data';\n",
              "          await google.colab.output.renderOutput(dataTable, element);\n",
              "          const docLink = document.createElement('div');\n",
              "          docLink.innerHTML = docLinkHtml;\n",
              "          element.appendChild(docLink);\n",
              "        }\n",
              "      </script>\n",
              "    </div>\n",
              "  </div>\n",
              "  "
            ]
          },
          "metadata": {},
          "execution_count": 3
        }
      ]
    },
    {
      "cell_type": "markdown",
      "source": [
        "# EDA (Exploriatory data analysis)"
      ],
      "metadata": {
        "id": "5DEeaiiPNBK_"
      }
    },
    {
      "cell_type": "code",
      "source": [
        "glass_data_train.info()"
      ],
      "metadata": {
        "colab": {
          "base_uri": "https://localhost:8080/"
        },
        "id": "V9jNwtw2oGKB",
        "outputId": "a570fcca-9aa2-4009-cdfd-cd053b612027"
      },
      "execution_count": 4,
      "outputs": [
        {
          "output_type": "stream",
          "name": "stdout",
          "text": [
            "<class 'pandas.core.frame.DataFrame'>\n",
            "Int64Index: 196 entries, 1 to 211\n",
            "Data columns (total 10 columns):\n",
            " #   Column      Non-Null Count  Dtype  \n",
            "---  ------      --------------  -----  \n",
            " 0   RI          196 non-null    float64\n",
            " 1   Na          196 non-null    float64\n",
            " 2   Mg          196 non-null    float64\n",
            " 3   Al          196 non-null    float64\n",
            " 4   Si          196 non-null    float64\n",
            " 5   K           196 non-null    float64\n",
            " 6   Ca          196 non-null    float64\n",
            " 7   Ba          196 non-null    float64\n",
            " 8   Fe          196 non-null    float64\n",
            " 9   Glass_type  196 non-null    int64  \n",
            "dtypes: float64(9), int64(1)\n",
            "memory usage: 16.8 KB\n"
          ]
        }
      ]
    },
    {
      "cell_type": "code",
      "source": [
        "glass_data_test.info()"
      ],
      "metadata": {
        "colab": {
          "base_uri": "https://localhost:8080/"
        },
        "id": "XaQL5-GWo_K_",
        "outputId": "fca38f14-ba88-4bcc-a7ed-fd9952f7bd12"
      },
      "execution_count": 5,
      "outputs": [
        {
          "output_type": "stream",
          "name": "stdout",
          "text": [
            "<class 'pandas.core.frame.DataFrame'>\n",
            "Int64Index: 18 entries, 68 to 214\n",
            "Data columns (total 10 columns):\n",
            " #   Column      Non-Null Count  Dtype  \n",
            "---  ------      --------------  -----  \n",
            " 0   RI          18 non-null     float64\n",
            " 1   Na          18 non-null     float64\n",
            " 2   Mg          18 non-null     float64\n",
            " 3   Al          18 non-null     float64\n",
            " 4   Si          18 non-null     float64\n",
            " 5   K           18 non-null     float64\n",
            " 6   Ca          18 non-null     float64\n",
            " 7   Ba          18 non-null     float64\n",
            " 8   Fe          18 non-null     float64\n",
            " 9   Glass_type  18 non-null     int64  \n",
            "dtypes: float64(9), int64(1)\n",
            "memory usage: 1.5 KB\n"
          ]
        }
      ]
    },
    {
      "cell_type": "markdown",
      "source": [
        "no null values in dataset"
      ],
      "metadata": {
        "id": "w-0q04vaNYFV"
      }
    },
    {
      "cell_type": "code",
      "source": [
        "glass_data_train.Glass_type.unique()"
      ],
      "metadata": {
        "colab": {
          "base_uri": "https://localhost:8080/"
        },
        "id": "PVilIKbGpmYC",
        "outputId": "2713e984-b180-4269-e532-6d2fe6d2cf80"
      },
      "execution_count": 6,
      "outputs": [
        {
          "output_type": "execute_result",
          "data": {
            "text/plain": [
              "array([1, 2, 3, 5, 6, 7])"
            ]
          },
          "metadata": {},
          "execution_count": 6
        }
      ]
    },
    {
      "cell_type": "markdown",
      "source": [
        "here 4th type of  vehicle_windows_non_float_processed glass  not in dataset"
      ],
      "metadata": {
        "id": "bT613o-w_iOm"
      }
    },
    {
      "cell_type": "markdown",
      "source": [
        "let's find out dataset is imbalanced or not"
      ],
      "metadata": {
        "id": "SHzvQiC3OPni"
      }
    },
    {
      "cell_type": "code",
      "source": [
        "type1=glass_data_train[glass_data_train.Glass_type==1]\n",
        "type1.shape"
      ],
      "metadata": {
        "colab": {
          "base_uri": "https://localhost:8080/"
        },
        "id": "M3kT1mWIBmOj",
        "outputId": "6a009333-75fc-4d98-9ef5-564fcaf5a39e"
      },
      "execution_count": 7,
      "outputs": [
        {
          "output_type": "execute_result",
          "data": {
            "text/plain": [
              "(67, 10)"
            ]
          },
          "metadata": {},
          "execution_count": 7
        }
      ]
    },
    {
      "cell_type": "code",
      "source": [
        "type2=glass_data_train[glass_data_train.Glass_type==2]\n",
        "type2.shape"
      ],
      "metadata": {
        "colab": {
          "base_uri": "https://localhost:8080/"
        },
        "id": "z9smuwacCFb8",
        "outputId": "b554b4c4-9c02-4d72-db63-0ac26b389250"
      },
      "execution_count": 8,
      "outputs": [
        {
          "output_type": "execute_result",
          "data": {
            "text/plain": [
              "(73, 10)"
            ]
          },
          "metadata": {},
          "execution_count": 8
        }
      ]
    },
    {
      "cell_type": "code",
      "source": [
        "type3=glass_data_train[glass_data_train.Glass_type==3]\n",
        "type3.shape"
      ],
      "metadata": {
        "colab": {
          "base_uri": "https://localhost:8080/"
        },
        "id": "V1_jBkwICG4C",
        "outputId": "9244c23b-806b-443f-9816-fe515547e322"
      },
      "execution_count": 9,
      "outputs": [
        {
          "output_type": "execute_result",
          "data": {
            "text/plain": [
              "(14, 10)"
            ]
          },
          "metadata": {},
          "execution_count": 9
        }
      ]
    },
    {
      "cell_type": "code",
      "source": [
        "type5=glass_data_train[glass_data_train.Glass_type==5]\n",
        "type5.shape"
      ],
      "metadata": {
        "colab": {
          "base_uri": "https://localhost:8080/"
        },
        "id": "hvHEdHpBCZmb",
        "outputId": "a222b436-eb73-4fc8-d863-a5fee2f1cf14"
      },
      "execution_count": 10,
      "outputs": [
        {
          "output_type": "execute_result",
          "data": {
            "text/plain": [
              "(10, 10)"
            ]
          },
          "metadata": {},
          "execution_count": 10
        }
      ]
    },
    {
      "cell_type": "code",
      "source": [
        "type6=glass_data_train[glass_data_train.Glass_type==6]\n",
        "type6.shape"
      ],
      "metadata": {
        "colab": {
          "base_uri": "https://localhost:8080/"
        },
        "id": "wAb8HZ5QCyer",
        "outputId": "95f013c4-b358-4467-bea0-c4cc6404d59b"
      },
      "execution_count": 11,
      "outputs": [
        {
          "output_type": "execute_result",
          "data": {
            "text/plain": [
              "(6, 10)"
            ]
          },
          "metadata": {},
          "execution_count": 11
        }
      ]
    },
    {
      "cell_type": "code",
      "source": [
        "type7=glass_data_train[glass_data_train.Glass_type==7]\n",
        "type7.shape"
      ],
      "metadata": {
        "colab": {
          "base_uri": "https://localhost:8080/"
        },
        "id": "VT9YM9B7C-CM",
        "outputId": "c38b13d9-ebf6-4d12-8f7b-a240d60cd783"
      },
      "execution_count": 12,
      "outputs": [
        {
          "output_type": "execute_result",
          "data": {
            "text/plain": [
              "(26, 10)"
            ]
          },
          "metadata": {},
          "execution_count": 12
        }
      ]
    },
    {
      "cell_type": "markdown",
      "source": [
        "# Standarization "
      ],
      "metadata": {
        "id": "44kQ6oJvO9Ae"
      }
    },
    {
      "cell_type": "code",
      "source": [
        "x_train=glass_data_train[['RI','Na','Mg','Al','Si','K','Ca','Ba','Fe']]\n",
        "x_test=glass_data_test[['RI','Na','Mg','Al','Si','K','Ca','Ba','Fe']]\n",
        "y_train=glass_data_train['Glass_type']\n",
        "y_test=glass_data_test['Glass_type']"
      ],
      "metadata": {
        "id": "I6DgISR6PYSM"
      },
      "execution_count": 13,
      "outputs": []
    },
    {
      "cell_type": "code",
      "source": [
        "from sklearn.preprocessing import StandardScaler\n",
        "\n",
        "scaling=StandardScaler()\n",
        "scaling.fit_transform(x_train,x_test)\n"
      ],
      "metadata": {
        "colab": {
          "base_uri": "https://localhost:8080/"
        },
        "id": "U9ME31xoDFSx",
        "outputId": "a5b31480-d11d-4706-e03a-c54f4588c1ae"
      },
      "execution_count": 14,
      "outputs": [
        {
          "output_type": "execute_result",
          "data": {
            "text/plain": [
              "array([[ 0.89081203,  0.3389847 ,  1.24616006, ..., -0.11334995,\n",
              "        -0.33935667, -0.5834224 ],\n",
              "       [-0.22479561,  0.65902807,  0.60544985, ..., -0.76221546,\n",
              "        -0.33935667, -0.5834224 ],\n",
              "       [-0.69400706,  0.19816562,  0.56945489, ..., -0.79747989,\n",
              "        -0.33935667, -0.5834224 ],\n",
              "       ...,\n",
              "       [-0.62182068,  1.27351132, -1.98618697, ...,  0.38035207,\n",
              "         0.77644048, -0.5834224 ],\n",
              "       [-0.67760106,  0.97907143, -1.98618697, ...,  0.18992414,\n",
              "         1.8509118 , -0.5834224 ],\n",
              "       [-0.47416673,  1.97760672, -1.98618697, ..., -0.36020096,\n",
              "         2.94604604, -0.5834224 ]])"
            ]
          },
          "metadata": {},
          "execution_count": 14
        }
      ]
    },
    {
      "cell_type": "markdown",
      "source": [
        "# implementation of KNN model "
      ],
      "metadata": {
        "id": "YMZJKNBJUT2t"
      }
    },
    {
      "cell_type": "code",
      "source": [
        "from sklearn.model_selection import cross_val_score\n",
        "\n",
        "for i in [1,2,3,4,5,12,13,14,15,16,25]:\n",
        "  knn = KNeighborsClassifier(i)\n",
        "  knn.fit(x_train,y_train)\n",
        "  print(\"K value  : \" , i, \" train score : \", knn.score(x_train,y_train) , \" cv score : \", np.mean(cross_val_score(knn, x_train, y_train)))"
      ],
      "metadata": {
        "colab": {
          "base_uri": "https://localhost:8080/"
        },
        "id": "pxfrbrmzRGQS",
        "outputId": "0efd1d07-bccf-479f-97dd-7814ddfafad1"
      },
      "execution_count": 15,
      "outputs": [
        {
          "output_type": "stream",
          "name": "stdout",
          "text": [
            "K value  :  1  train score :  1.0  cv score :  0.6435897435897436\n",
            "K value  :  2  train score :  0.8469387755102041  cv score :  0.6329487179487179\n",
            "K value  :  3  train score :  0.8367346938775511  cv score :  0.5873076923076923\n",
            "K value  :  4  train score :  0.7857142857142857  cv score :  0.5975641025641026\n",
            "K value  :  5  train score :  0.7653061224489796  cv score :  0.6025641025641025\n",
            "K value  :  12  train score :  0.6836734693877551  cv score :  0.6437179487179486\n",
            "K value  :  13  train score :  0.6581632653061225  cv score :  0.6385897435897434\n",
            "K value  :  14  train score :  0.6836734693877551  cv score :  0.6385897435897434\n",
            "K value  :  15  train score :  0.6683673469387755  cv score :  0.6283333333333332\n",
            "K value  :  16  train score :  0.673469387755102  cv score :  0.6437179487179486\n",
            "K value  :  25  train score :  0.6377551020408163  cv score :  0.5973076923076923\n"
          ]
        }
      ]
    },
    {
      "cell_type": "markdown",
      "source": [
        "# Lets try with two different distance metrics: \n",
        "# The performance of the two models Square Euclidean and Manhattan distance."
      ],
      "metadata": {
        "id": "VULA8fGtr0IV"
      }
    },
    {
      "cell_type": "code",
      "source": [
        "from scipy.spatial import distance\n",
        "from sklearn.metrics import classification_report\n",
        "\n",
        "for i in [2,4,6,8,10,12,14,16,18,20]:\n",
        "  euclidean_model= KNeighborsClassifier(n_neighbors=i, metric=distance.sqeuclidean)\n",
        "  euclidean_model.fit(x_train,y_train)\n",
        "  print(\"K value  : \" , i, \" train score : \", euclidean_model.score(x_train,y_train) , \" cv score : \", np.mean(cross_val_score(euclidean_model, x_train, y_train)))"
      ],
      "metadata": {
        "colab": {
          "base_uri": "https://localhost:8080/"
        },
        "id": "UBHYnOsUrll5",
        "outputId": "34c34a17-8aed-4528-c74e-45fccdd4485e"
      },
      "execution_count": 16,
      "outputs": [
        {
          "output_type": "stream",
          "name": "stdout",
          "text": [
            "K value  :  2  train score :  0.8469387755102041  cv score :  0.6329487179487179\n",
            "K value  :  4  train score :  0.7857142857142857  cv score :  0.5975641025641026\n",
            "K value  :  6  train score :  0.7397959183673469  cv score :  0.6126923076923076\n",
            "K value  :  8  train score :  0.7040816326530612  cv score :  0.6129487179487179\n",
            "K value  :  10  train score :  0.6887755102040817  cv score :  0.6180769230769231\n",
            "K value  :  12  train score :  0.6836734693877551  cv score :  0.6437179487179486\n",
            "K value  :  14  train score :  0.6836734693877551  cv score :  0.6385897435897434\n",
            "K value  :  16  train score :  0.673469387755102  cv score :  0.6437179487179486\n",
            "K value  :  18  train score :  0.6683673469387755  cv score :  0.6230769230769231\n",
            "K value  :  20  train score :  0.6683673469387755  cv score :  0.6075641025641025\n"
          ]
        }
      ]
    },
    {
      "cell_type": "code",
      "source": [
        "for i in [1,3,5,7,9,11,13,15,17,19,21]:\n",
        "  manhattan_model= KNeighborsClassifier(n_neighbors=i, metric=distance.cityblock)\n",
        "  manhattan_model.fit(x_train,y_train)\n",
        "  print(\"K value  : \" , i, \" train score : \", manhattan_model.score(x_train,y_train) , \" cv score : \", np.mean(cross_val_score(manhattan_model, x_train, y_train)))"
      ],
      "metadata": {
        "colab": {
          "base_uri": "https://localhost:8080/"
        },
        "id": "99cV3zTFtTXB",
        "outputId": "07a2405c-1ac3-43e0-9370-2afbdb7e5977"
      },
      "execution_count": 17,
      "outputs": [
        {
          "output_type": "stream",
          "name": "stdout",
          "text": [
            "K value  :  1  train score :  1.0  cv score :  0.6328205128205127\n",
            "K value  :  3  train score :  0.8673469387755102  cv score :  0.6178205128205129\n",
            "K value  :  5  train score :  0.7857142857142857  cv score :  0.6434615384615385\n",
            "K value  :  7  train score :  0.7551020408163265  cv score :  0.6330769230769231\n",
            "K value  :  9  train score :  0.7244897959183674  cv score :  0.6332051282051282\n",
            "K value  :  11  train score :  0.7091836734693877  cv score :  0.6178205128205128\n",
            "K value  :  13  train score :  0.7091836734693877  cv score :  0.6126923076923076\n",
            "K value  :  15  train score :  0.6887755102040817  cv score :  0.6126923076923078\n",
            "K value  :  17  train score :  0.6887755102040817  cv score :  0.6178205128205128\n",
            "K value  :  19  train score :  0.6785714285714286  cv score :  0.5974358974358973\n",
            "K value  :  21  train score :  0.6479591836734694  cv score :  0.6074358974358975\n"
          ]
        }
      ]
    },
    {
      "cell_type": "code",
      "source": [
        "manhattan_predictions = manhattan_model.predict(x_test)\n",
        "euclidean_model_predictions = euclidean_model.predict(x_test) \n",
        "df = pd.DataFrame({'actual': y_test, 'manhattan': manhattan_predictions, 'euclid':euclidean_model_predictions})\n",
        "df"
      ],
      "metadata": {
        "colab": {
          "base_uri": "https://localhost:8080/",
          "height": 645
        },
        "id": "mkgeYV4Ut1Bu",
        "outputId": "57cc48e0-7325-466d-ef68-174d4c24efac"
      },
      "execution_count": 18,
      "outputs": [
        {
          "output_type": "execute_result",
          "data": {
            "text/plain": [
              "     actual  manhattan  euclid\n",
              "Id                            \n",
              "68        1          1       1\n",
              "69        1          1       1\n",
              "70        1          1       1\n",
              "144       2          2       2\n",
              "145       2          1       1\n",
              "146       2          1       1\n",
              "161       3          1       1\n",
              "162       3          1       1\n",
              "163       3          1       1\n",
              "174       5          2       2\n",
              "175       5          2       2\n",
              "176       5          2       2\n",
              "183       6          7       7\n",
              "184       6          7       7\n",
              "185       6          7       7\n",
              "212       7          7       7\n",
              "213       7          7       7\n",
              "214       7          7       7"
            ],
            "text/html": [
              "\n",
              "  <div id=\"df-050b9308-2c76-4c10-9072-dc87b65126b7\">\n",
              "    <div class=\"colab-df-container\">\n",
              "      <div>\n",
              "<style scoped>\n",
              "    .dataframe tbody tr th:only-of-type {\n",
              "        vertical-align: middle;\n",
              "    }\n",
              "\n",
              "    .dataframe tbody tr th {\n",
              "        vertical-align: top;\n",
              "    }\n",
              "\n",
              "    .dataframe thead th {\n",
              "        text-align: right;\n",
              "    }\n",
              "</style>\n",
              "<table border=\"1\" class=\"dataframe\">\n",
              "  <thead>\n",
              "    <tr style=\"text-align: right;\">\n",
              "      <th></th>\n",
              "      <th>actual</th>\n",
              "      <th>manhattan</th>\n",
              "      <th>euclid</th>\n",
              "    </tr>\n",
              "    <tr>\n",
              "      <th>Id</th>\n",
              "      <th></th>\n",
              "      <th></th>\n",
              "      <th></th>\n",
              "    </tr>\n",
              "  </thead>\n",
              "  <tbody>\n",
              "    <tr>\n",
              "      <th>68</th>\n",
              "      <td>1</td>\n",
              "      <td>1</td>\n",
              "      <td>1</td>\n",
              "    </tr>\n",
              "    <tr>\n",
              "      <th>69</th>\n",
              "      <td>1</td>\n",
              "      <td>1</td>\n",
              "      <td>1</td>\n",
              "    </tr>\n",
              "    <tr>\n",
              "      <th>70</th>\n",
              "      <td>1</td>\n",
              "      <td>1</td>\n",
              "      <td>1</td>\n",
              "    </tr>\n",
              "    <tr>\n",
              "      <th>144</th>\n",
              "      <td>2</td>\n",
              "      <td>2</td>\n",
              "      <td>2</td>\n",
              "    </tr>\n",
              "    <tr>\n",
              "      <th>145</th>\n",
              "      <td>2</td>\n",
              "      <td>1</td>\n",
              "      <td>1</td>\n",
              "    </tr>\n",
              "    <tr>\n",
              "      <th>146</th>\n",
              "      <td>2</td>\n",
              "      <td>1</td>\n",
              "      <td>1</td>\n",
              "    </tr>\n",
              "    <tr>\n",
              "      <th>161</th>\n",
              "      <td>3</td>\n",
              "      <td>1</td>\n",
              "      <td>1</td>\n",
              "    </tr>\n",
              "    <tr>\n",
              "      <th>162</th>\n",
              "      <td>3</td>\n",
              "      <td>1</td>\n",
              "      <td>1</td>\n",
              "    </tr>\n",
              "    <tr>\n",
              "      <th>163</th>\n",
              "      <td>3</td>\n",
              "      <td>1</td>\n",
              "      <td>1</td>\n",
              "    </tr>\n",
              "    <tr>\n",
              "      <th>174</th>\n",
              "      <td>5</td>\n",
              "      <td>2</td>\n",
              "      <td>2</td>\n",
              "    </tr>\n",
              "    <tr>\n",
              "      <th>175</th>\n",
              "      <td>5</td>\n",
              "      <td>2</td>\n",
              "      <td>2</td>\n",
              "    </tr>\n",
              "    <tr>\n",
              "      <th>176</th>\n",
              "      <td>5</td>\n",
              "      <td>2</td>\n",
              "      <td>2</td>\n",
              "    </tr>\n",
              "    <tr>\n",
              "      <th>183</th>\n",
              "      <td>6</td>\n",
              "      <td>7</td>\n",
              "      <td>7</td>\n",
              "    </tr>\n",
              "    <tr>\n",
              "      <th>184</th>\n",
              "      <td>6</td>\n",
              "      <td>7</td>\n",
              "      <td>7</td>\n",
              "    </tr>\n",
              "    <tr>\n",
              "      <th>185</th>\n",
              "      <td>6</td>\n",
              "      <td>7</td>\n",
              "      <td>7</td>\n",
              "    </tr>\n",
              "    <tr>\n",
              "      <th>212</th>\n",
              "      <td>7</td>\n",
              "      <td>7</td>\n",
              "      <td>7</td>\n",
              "    </tr>\n",
              "    <tr>\n",
              "      <th>213</th>\n",
              "      <td>7</td>\n",
              "      <td>7</td>\n",
              "      <td>7</td>\n",
              "    </tr>\n",
              "    <tr>\n",
              "      <th>214</th>\n",
              "      <td>7</td>\n",
              "      <td>7</td>\n",
              "      <td>7</td>\n",
              "    </tr>\n",
              "  </tbody>\n",
              "</table>\n",
              "</div>\n",
              "      <button class=\"colab-df-convert\" onclick=\"convertToInteractive('df-050b9308-2c76-4c10-9072-dc87b65126b7')\"\n",
              "              title=\"Convert this dataframe to an interactive table.\"\n",
              "              style=\"display:none;\">\n",
              "        \n",
              "  <svg xmlns=\"http://www.w3.org/2000/svg\" height=\"24px\"viewBox=\"0 0 24 24\"\n",
              "       width=\"24px\">\n",
              "    <path d=\"M0 0h24v24H0V0z\" fill=\"none\"/>\n",
              "    <path d=\"M18.56 5.44l.94 2.06.94-2.06 2.06-.94-2.06-.94-.94-2.06-.94 2.06-2.06.94zm-11 1L8.5 8.5l.94-2.06 2.06-.94-2.06-.94L8.5 2.5l-.94 2.06-2.06.94zm10 10l.94 2.06.94-2.06 2.06-.94-2.06-.94-.94-2.06-.94 2.06-2.06.94z\"/><path d=\"M17.41 7.96l-1.37-1.37c-.4-.4-.92-.59-1.43-.59-.52 0-1.04.2-1.43.59L10.3 9.45l-7.72 7.72c-.78.78-.78 2.05 0 2.83L4 21.41c.39.39.9.59 1.41.59.51 0 1.02-.2 1.41-.59l7.78-7.78 2.81-2.81c.8-.78.8-2.07 0-2.86zM5.41 20L4 18.59l7.72-7.72 1.47 1.35L5.41 20z\"/>\n",
              "  </svg>\n",
              "      </button>\n",
              "      \n",
              "  <style>\n",
              "    .colab-df-container {\n",
              "      display:flex;\n",
              "      flex-wrap:wrap;\n",
              "      gap: 12px;\n",
              "    }\n",
              "\n",
              "    .colab-df-convert {\n",
              "      background-color: #E8F0FE;\n",
              "      border: none;\n",
              "      border-radius: 50%;\n",
              "      cursor: pointer;\n",
              "      display: none;\n",
              "      fill: #1967D2;\n",
              "      height: 32px;\n",
              "      padding: 0 0 0 0;\n",
              "      width: 32px;\n",
              "    }\n",
              "\n",
              "    .colab-df-convert:hover {\n",
              "      background-color: #E2EBFA;\n",
              "      box-shadow: 0px 1px 2px rgba(60, 64, 67, 0.3), 0px 1px 3px 1px rgba(60, 64, 67, 0.15);\n",
              "      fill: #174EA6;\n",
              "    }\n",
              "\n",
              "    [theme=dark] .colab-df-convert {\n",
              "      background-color: #3B4455;\n",
              "      fill: #D2E3FC;\n",
              "    }\n",
              "\n",
              "    [theme=dark] .colab-df-convert:hover {\n",
              "      background-color: #434B5C;\n",
              "      box-shadow: 0px 1px 3px 1px rgba(0, 0, 0, 0.15);\n",
              "      filter: drop-shadow(0px 1px 2px rgba(0, 0, 0, 0.3));\n",
              "      fill: #FFFFFF;\n",
              "    }\n",
              "  </style>\n",
              "\n",
              "      <script>\n",
              "        const buttonEl =\n",
              "          document.querySelector('#df-050b9308-2c76-4c10-9072-dc87b65126b7 button.colab-df-convert');\n",
              "        buttonEl.style.display =\n",
              "          google.colab.kernel.accessAllowed ? 'block' : 'none';\n",
              "\n",
              "        async function convertToInteractive(key) {\n",
              "          const element = document.querySelector('#df-050b9308-2c76-4c10-9072-dc87b65126b7');\n",
              "          const dataTable =\n",
              "            await google.colab.kernel.invokeFunction('convertToInteractive',\n",
              "                                                     [key], {});\n",
              "          if (!dataTable) return;\n",
              "\n",
              "          const docLinkHtml = 'Like what you see? Visit the ' +\n",
              "            '<a target=\"_blank\" href=https://colab.research.google.com/notebooks/data_table.ipynb>data table notebook</a>'\n",
              "            + ' to learn more about interactive tables.';\n",
              "          element.innerHTML = '';\n",
              "          dataTable['output_type'] = 'display_data';\n",
              "          await google.colab.output.renderOutput(dataTable, element);\n",
              "          const docLink = document.createElement('div');\n",
              "          docLink.innerHTML = docLinkHtml;\n",
              "          element.appendChild(docLink);\n",
              "        }\n",
              "      </script>\n",
              "    </div>\n",
              "  </div>\n",
              "  "
            ]
          },
          "metadata": {},
          "execution_count": 18
        }
      ]
    },
    {
      "cell_type": "code",
      "source": [
        "manhattan_count = len(df.loc[df['manhattan'] == df['actual']])\n",
        "euclid_count = len(df.loc[df['euclid'] == df['actual']])\n",
        "print('Manhattan Accuracy: {}%'.format(round(100*manhattan_count/len(df), 2)))\n",
        "print(classification_report(y_test, manhattan_predictions, target_names=df['actual'].astype(str).unique()))\n",
        "print ('\\n')\n",
        "print('Square Euclidean Accuracy: {}%'.format(round(100*euclid_count/len(df), 2)))\n",
        "print(classification_report(y_test, euclidean_model_predictions, target_names=df['actual'].astype(str).unique()))"
      ],
      "metadata": {
        "colab": {
          "base_uri": "https://localhost:8080/"
        },
        "id": "62dTfLxauG1U",
        "outputId": "fd148132-45c7-4484-a252-59ea6f7594dc"
      },
      "execution_count": 19,
      "outputs": [
        {
          "output_type": "stream",
          "name": "stdout",
          "text": [
            "Manhattan Accuracy: 38.89%\n",
            "              precision    recall  f1-score   support\n",
            "\n",
            "           1       0.38      1.00      0.55         3\n",
            "           2       0.25      0.33      0.29         3\n",
            "           3       0.00      0.00      0.00         3\n",
            "           5       0.00      0.00      0.00         3\n",
            "           6       0.00      0.00      0.00         3\n",
            "           7       0.50      1.00      0.67         3\n",
            "\n",
            "    accuracy                           0.39        18\n",
            "   macro avg       0.19      0.39      0.25        18\n",
            "weighted avg       0.19      0.39      0.25        18\n",
            "\n",
            "\n",
            "\n",
            "Square Euclidean Accuracy: 38.89%\n",
            "              precision    recall  f1-score   support\n",
            "\n",
            "           1       0.38      1.00      0.55         3\n",
            "           2       0.25      0.33      0.29         3\n",
            "           3       0.00      0.00      0.00         3\n",
            "           5       0.00      0.00      0.00         3\n",
            "           6       0.00      0.00      0.00         3\n",
            "           7       0.50      1.00      0.67         3\n",
            "\n",
            "    accuracy                           0.39        18\n",
            "   macro avg       0.19      0.39      0.25        18\n",
            "weighted avg       0.19      0.39      0.25        18\n",
            "\n"
          ]
        }
      ]
    }
  ]
}